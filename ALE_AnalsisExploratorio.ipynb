{
 "cells": [
  {
   "cell_type": "code",
   "execution_count": 20,
   "id": "ea70146f",
   "metadata": {},
   "outputs": [],
   "source": [
    "import os\n",
    "import pandas as pd"
   ]
  },
  {
   "cell_type": "code",
   "execution_count": 25,
   "id": "8f722151",
   "metadata": {},
   "outputs": [
    {
     "data": {
      "text/html": [
       "<div>\n",
       "<style scoped>\n",
       "    .dataframe tbody tr th:only-of-type {\n",
       "        vertical-align: middle;\n",
       "    }\n",
       "\n",
       "    .dataframe tbody tr th {\n",
       "        vertical-align: top;\n",
       "    }\n",
       "\n",
       "    .dataframe thead th {\n",
       "        text-align: right;\n",
       "    }\n",
       "</style>\n",
       "<table border=\"1\" class=\"dataframe\">\n",
       "  <thead>\n",
       "    <tr style=\"text-align: right;\">\n",
       "      <th></th>\n",
       "      <th>periodo</th>\n",
       "      <th>cliente_id</th>\n",
       "      <th>material_id</th>\n",
       "      <th>tipo_cliente</th>\n",
       "    </tr>\n",
       "  </thead>\n",
       "  <tbody>\n",
       "    <tr>\n",
       "      <th>0</th>\n",
       "      <td>05-2022</td>\n",
       "      <td>4894.0</td>\n",
       "      <td>22.0</td>\n",
       "      <td>Distribuidor</td>\n",
       "    </tr>\n",
       "    <tr>\n",
       "      <th>1</th>\n",
       "      <td>05-2022</td>\n",
       "      <td>4769.0</td>\n",
       "      <td>17.0</td>\n",
       "      <td>Distribuidor</td>\n",
       "    </tr>\n",
       "    <tr>\n",
       "      <th>2</th>\n",
       "      <td>05-2022</td>\n",
       "      <td>4823.0</td>\n",
       "      <td>227.0</td>\n",
       "      <td>Distribuidor</td>\n",
       "    </tr>\n",
       "    <tr>\n",
       "      <th>3</th>\n",
       "      <td>08-2022</td>\n",
       "      <td>4816.0</td>\n",
       "      <td>340.0</td>\n",
       "      <td>Distribuidor</td>\n",
       "    </tr>\n",
       "    <tr>\n",
       "      <th>4</th>\n",
       "      <td>08-2022</td>\n",
       "      <td>4888.0</td>\n",
       "      <td>270.0</td>\n",
       "      <td>Distribuidor</td>\n",
       "    </tr>\n",
       "  </tbody>\n",
       "</table>\n",
       "</div>"
      ],
      "text/plain": [
       "   periodo  cliente_id  material_id  tipo_cliente\n",
       "0  05-2022      4894.0         22.0  Distribuidor\n",
       "1  05-2022      4769.0         17.0  Distribuidor\n",
       "2  05-2022      4823.0        227.0  Distribuidor\n",
       "3  08-2022      4816.0        340.0  Distribuidor\n",
       "4  08-2022      4888.0        270.0  Distribuidor"
      ]
     },
     "execution_count": 25,
     "metadata": {},
     "output_type": "execute_result"
    }
   ],
   "source": [
    "df = pd.read_parquet('data/tec_estocasticos.parquet', engine = 'pyarrow')\n",
    "df.head()"
   ]
  },
  {
   "cell_type": "code",
   "execution_count": 22,
   "id": "e6a6a6d8",
   "metadata": {},
   "outputs": [
    {
     "data": {
      "text/plain": [
       "(6955596, 4)"
      ]
     },
     "execution_count": 22,
     "metadata": {},
     "output_type": "execute_result"
    }
   ],
   "source": [
    "df.shape"
   ]
  },
  {
   "cell_type": "code",
   "execution_count": 23,
   "id": "8d2e0e68",
   "metadata": {},
   "outputs": [
    {
     "name": "stdout",
     "output_type": "stream",
     "text": [
      "<class 'pandas.core.frame.DataFrame'>\n",
      "Int64Index: 6955596 entries, 0 to 6973899\n",
      "Data columns (total 4 columns):\n",
      " #   Column        Dtype  \n",
      "---  ------        -----  \n",
      " 0   periodo       object \n",
      " 1   cliente_id    float64\n",
      " 2   material_id   float64\n",
      " 3   tipo_cliente  object \n",
      "dtypes: float64(2), object(2)\n",
      "memory usage: 265.3+ MB\n"
     ]
    }
   ],
   "source": [
    "df.info()"
   ]
  },
  {
   "cell_type": "code",
   "execution_count": 24,
   "id": "aba8f07e",
   "metadata": {},
   "outputs": [
    {
     "data": {
      "text/plain": [
       "4773"
      ]
     },
     "execution_count": 24,
     "metadata": {},
     "output_type": "execute_result"
    }
   ],
   "source": [
    "len(df.cliente_id.unique())"
   ]
  },
  {
   "cell_type": "code",
   "execution_count": 19,
   "id": "92afc9e0",
   "metadata": {},
   "outputs": [
    {
     "data": {
      "text/plain": [
       "1720"
      ]
     },
     "execution_count": 19,
     "metadata": {},
     "output_type": "execute_result"
    }
   ],
   "source": [
    "len(df.material_id.unique())"
   ]
  },
  {
   "cell_type": "code",
   "execution_count": 26,
   "id": "5b99efba",
   "metadata": {},
   "outputs": [],
   "source": [
    "df.to_csv('data.csv')"
   ]
  }
 ],
 "metadata": {
  "kernelspec": {
   "display_name": "Python 3 (ipykernel)",
   "language": "python",
   "name": "python3"
  },
  "language_info": {
   "codemirror_mode": {
    "name": "ipython",
    "version": 3
   },
   "file_extension": ".py",
   "mimetype": "text/x-python",
   "name": "python",
   "nbconvert_exporter": "python",
   "pygments_lexer": "ipython3",
   "version": "3.9.7"
  }
 },
 "nbformat": 4,
 "nbformat_minor": 5
}
