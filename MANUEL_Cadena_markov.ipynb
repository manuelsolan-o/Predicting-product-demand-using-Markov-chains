{
 "cells": [
  {
   "cell_type": "code",
   "execution_count": 24,
   "id": "2cb20bfa",
   "metadata": {},
   "outputs": [],
   "source": [
    "# Warnings -------------------------------------------------------------- \n",
    "import warnings\n",
    "warnings.filterwarnings(\"ignore\")\n",
    "\n",
    "# Lectura y manipulación de datos ----------------------------------------------------------------------------\n",
    "\n",
    "import pandas as pd\n",
    "\n",
    "# Descomposición espectral -----------------------------------------------------------------------------------\n",
    "\n",
    "import numpy as np\n",
    "from numpy.linalg import eig, inv\n"
   ]
  },
  {
   "cell_type": "markdown",
   "id": "5bd89a6a",
   "metadata": {},
   "source": [
    "## Lectura de la base de datos"
   ]
  },
  {
   "cell_type": "code",
   "execution_count": 3,
   "id": "3ace3f56",
   "metadata": {},
   "outputs": [],
   "source": [
    "raw_data = pd.read_parquet('data/tec_estocasticos.parquet', engine='pyarrow')"
   ]
  },
  {
   "cell_type": "code",
   "execution_count": 4,
   "id": "e421ef41",
   "metadata": {},
   "outputs": [
    {
     "data": {
      "text/html": [
       "<div>\n",
       "<style scoped>\n",
       "    .dataframe tbody tr th:only-of-type {\n",
       "        vertical-align: middle;\n",
       "    }\n",
       "\n",
       "    .dataframe tbody tr th {\n",
       "        vertical-align: top;\n",
       "    }\n",
       "\n",
       "    .dataframe thead th {\n",
       "        text-align: right;\n",
       "    }\n",
       "</style>\n",
       "<table border=\"1\" class=\"dataframe\">\n",
       "  <thead>\n",
       "    <tr style=\"text-align: right;\">\n",
       "      <th></th>\n",
       "      <th>periodo</th>\n",
       "      <th>cliente_id</th>\n",
       "      <th>material_id</th>\n",
       "      <th>tipo_cliente</th>\n",
       "    </tr>\n",
       "  </thead>\n",
       "  <tbody>\n",
       "    <tr>\n",
       "      <th>0</th>\n",
       "      <td>05-2022</td>\n",
       "      <td>4894.0</td>\n",
       "      <td>22.0</td>\n",
       "      <td>Distribuidor</td>\n",
       "    </tr>\n",
       "    <tr>\n",
       "      <th>1</th>\n",
       "      <td>05-2022</td>\n",
       "      <td>4769.0</td>\n",
       "      <td>17.0</td>\n",
       "      <td>Distribuidor</td>\n",
       "    </tr>\n",
       "    <tr>\n",
       "      <th>2</th>\n",
       "      <td>05-2022</td>\n",
       "      <td>4823.0</td>\n",
       "      <td>227.0</td>\n",
       "      <td>Distribuidor</td>\n",
       "    </tr>\n",
       "    <tr>\n",
       "      <th>3</th>\n",
       "      <td>08-2022</td>\n",
       "      <td>4816.0</td>\n",
       "      <td>340.0</td>\n",
       "      <td>Distribuidor</td>\n",
       "    </tr>\n",
       "    <tr>\n",
       "      <th>4</th>\n",
       "      <td>08-2022</td>\n",
       "      <td>4888.0</td>\n",
       "      <td>270.0</td>\n",
       "      <td>Distribuidor</td>\n",
       "    </tr>\n",
       "    <tr>\n",
       "      <th>...</th>\n",
       "      <td>...</td>\n",
       "      <td>...</td>\n",
       "      <td>...</td>\n",
       "      <td>...</td>\n",
       "    </tr>\n",
       "    <tr>\n",
       "      <th>6973895</th>\n",
       "      <td>05-2022</td>\n",
       "      <td>1816.0</td>\n",
       "      <td>1861.0</td>\n",
       "      <td>Farmacia</td>\n",
       "    </tr>\n",
       "    <tr>\n",
       "      <th>6973896</th>\n",
       "      <td>05-2022</td>\n",
       "      <td>1725.0</td>\n",
       "      <td>1373.0</td>\n",
       "      <td>Hospital</td>\n",
       "    </tr>\n",
       "    <tr>\n",
       "      <th>6973897</th>\n",
       "      <td>05-2022</td>\n",
       "      <td>588.0</td>\n",
       "      <td>2249.0</td>\n",
       "      <td>Hospital</td>\n",
       "    </tr>\n",
       "    <tr>\n",
       "      <th>6973898</th>\n",
       "      <td>05-2022</td>\n",
       "      <td>565.0</td>\n",
       "      <td>191.0</td>\n",
       "      <td>Hospital</td>\n",
       "    </tr>\n",
       "    <tr>\n",
       "      <th>6973899</th>\n",
       "      <td>05-2022</td>\n",
       "      <td>1108.0</td>\n",
       "      <td>2160.0</td>\n",
       "      <td>Hospital</td>\n",
       "    </tr>\n",
       "  </tbody>\n",
       "</table>\n",
       "<p>6973900 rows × 4 columns</p>\n",
       "</div>"
      ],
      "text/plain": [
       "         periodo  cliente_id  material_id  tipo_cliente\n",
       "0        05-2022      4894.0         22.0  Distribuidor\n",
       "1        05-2022      4769.0         17.0  Distribuidor\n",
       "2        05-2022      4823.0        227.0  Distribuidor\n",
       "3        08-2022      4816.0        340.0  Distribuidor\n",
       "4        08-2022      4888.0        270.0  Distribuidor\n",
       "...          ...         ...          ...           ...\n",
       "6973895  05-2022      1816.0       1861.0      Farmacia\n",
       "6973896  05-2022      1725.0       1373.0      Hospital\n",
       "6973897  05-2022       588.0       2249.0      Hospital\n",
       "6973898  05-2022       565.0        191.0      Hospital\n",
       "6973899  05-2022      1108.0       2160.0      Hospital\n",
       "\n",
       "[6973900 rows x 4 columns]"
      ]
     },
     "execution_count": 4,
     "metadata": {},
     "output_type": "execute_result"
    }
   ],
   "source": [
    "raw_data"
   ]
  },
  {
   "cell_type": "markdown",
   "id": "ecfc7b67",
   "metadata": {},
   "source": [
    "### Tipos de Cliente"
   ]
  },
  {
   "cell_type": "code",
   "execution_count": 5,
   "id": "73a7ed7c",
   "metadata": {},
   "outputs": [
    {
     "data": {
      "text/plain": [
       "array(['Distribuidor', 'Hospital', 'Farmacia', 'Otro'], dtype=object)"
      ]
     },
     "execution_count": 5,
     "metadata": {},
     "output_type": "execute_result"
    }
   ],
   "source": [
    "raw_data['tipo_cliente'].unique()"
   ]
  },
  {
   "cell_type": "code",
   "execution_count": 34,
   "id": "9debfa0d",
   "metadata": {},
   "outputs": [
    {
     "data": {
      "text/html": [
       "<div>\n",
       "<style scoped>\n",
       "    .dataframe tbody tr th:only-of-type {\n",
       "        vertical-align: middle;\n",
       "    }\n",
       "\n",
       "    .dataframe tbody tr th {\n",
       "        vertical-align: top;\n",
       "    }\n",
       "\n",
       "    .dataframe thead th {\n",
       "        text-align: right;\n",
       "    }\n",
       "</style>\n",
       "<table border=\"1\" class=\"dataframe\">\n",
       "  <thead>\n",
       "    <tr style=\"text-align: right;\">\n",
       "      <th></th>\n",
       "      <th>periodo</th>\n",
       "      <th>cliente_id</th>\n",
       "      <th>material_id</th>\n",
       "      <th>tipo_cliente</th>\n",
       "    </tr>\n",
       "  </thead>\n",
       "  <tbody>\n",
       "    <tr>\n",
       "      <th>0</th>\n",
       "      <td>2021-01-01</td>\n",
       "      <td>4894.0</td>\n",
       "      <td>22.0</td>\n",
       "      <td>Distribuidor</td>\n",
       "    </tr>\n",
       "    <tr>\n",
       "      <th>1</th>\n",
       "      <td>2021-01-01</td>\n",
       "      <td>1276.0</td>\n",
       "      <td>193.0</td>\n",
       "      <td>Hospital</td>\n",
       "    </tr>\n",
       "    <tr>\n",
       "      <th>2</th>\n",
       "      <td>2021-01-01</td>\n",
       "      <td>1340.0</td>\n",
       "      <td>192.0</td>\n",
       "      <td>Hospital</td>\n",
       "    </tr>\n",
       "    <tr>\n",
       "      <th>3</th>\n",
       "      <td>2021-01-01</td>\n",
       "      <td>2398.0</td>\n",
       "      <td>254.0</td>\n",
       "      <td>Hospital</td>\n",
       "    </tr>\n",
       "    <tr>\n",
       "      <th>4</th>\n",
       "      <td>2021-01-01</td>\n",
       "      <td>1038.0</td>\n",
       "      <td>534.0</td>\n",
       "      <td>Hospital</td>\n",
       "    </tr>\n",
       "    <tr>\n",
       "      <th>...</th>\n",
       "      <td>...</td>\n",
       "      <td>...</td>\n",
       "      <td>...</td>\n",
       "      <td>...</td>\n",
       "    </tr>\n",
       "    <tr>\n",
       "      <th>590433</th>\n",
       "      <td>2023-09-01</td>\n",
       "      <td>4975.0</td>\n",
       "      <td>214.0</td>\n",
       "      <td>Distribuidor</td>\n",
       "    </tr>\n",
       "    <tr>\n",
       "      <th>590434</th>\n",
       "      <td>2023-09-01</td>\n",
       "      <td>78.0</td>\n",
       "      <td>358.0</td>\n",
       "      <td>Distribuidor</td>\n",
       "    </tr>\n",
       "    <tr>\n",
       "      <th>590435</th>\n",
       "      <td>2023-09-01</td>\n",
       "      <td>4920.0</td>\n",
       "      <td>270.0</td>\n",
       "      <td>Distribuidor</td>\n",
       "    </tr>\n",
       "    <tr>\n",
       "      <th>590436</th>\n",
       "      <td>2023-09-01</td>\n",
       "      <td>4739.0</td>\n",
       "      <td>34.0</td>\n",
       "      <td>Distribuidor</td>\n",
       "    </tr>\n",
       "    <tr>\n",
       "      <th>590437</th>\n",
       "      <td>2023-09-01</td>\n",
       "      <td>322.0</td>\n",
       "      <td>8.0</td>\n",
       "      <td>Hospital</td>\n",
       "    </tr>\n",
       "  </tbody>\n",
       "</table>\n",
       "<p>590438 rows × 4 columns</p>\n",
       "</div>"
      ],
      "text/plain": [
       "          periodo  cliente_id  material_id  tipo_cliente\n",
       "0      2021-01-01      4894.0         22.0  Distribuidor\n",
       "1      2021-01-01      1276.0        193.0      Hospital\n",
       "2      2021-01-01      1340.0        192.0      Hospital\n",
       "3      2021-01-01      2398.0        254.0      Hospital\n",
       "4      2021-01-01      1038.0        534.0      Hospital\n",
       "...           ...         ...          ...           ...\n",
       "590433 2023-09-01      4975.0        214.0  Distribuidor\n",
       "590434 2023-09-01        78.0        358.0  Distribuidor\n",
       "590435 2023-09-01      4920.0        270.0  Distribuidor\n",
       "590436 2023-09-01      4739.0         34.0  Distribuidor\n",
       "590437 2023-09-01       322.0          8.0      Hospital\n",
       "\n",
       "[590438 rows x 4 columns]"
      ]
     },
     "execution_count": 34,
     "metadata": {},
     "output_type": "execute_result"
    }
   ],
   "source": [
    "raw_data['periodo'] = pd.to_datetime(distribuidor['periodo'])\n",
    "raw_data.sort_values(by='periodo', inplace=True)\n",
    "raw_data.dropna(inplace=True)\n",
    "raw_data.reset_index(inplace=True)\n",
    "raw_data.drop('index', axis = 1,inplace=True)\n",
    "raw_data"
   ]
  },
  {
   "cell_type": "code",
   "execution_count": 35,
   "id": "550e0864",
   "metadata": {},
   "outputs": [],
   "source": [
    "Xt= raw_data['tipo_cliente'][0:-1].reset_index(drop=True).rename('X_t')\n",
    "Xt_1 = raw_data['tipo_cliente'][1::].reset_index(drop=True).rename('X_t+1')"
   ]
  },
  {
   "cell_type": "code",
   "execution_count": 36,
   "id": "c58854b4",
   "metadata": {},
   "outputs": [],
   "source": [
    "new_data=pd.concat((Xt, Xt_1), axis=1)"
   ]
  },
  {
   "cell_type": "code",
   "execution_count": 37,
   "id": "982aa310",
   "metadata": {},
   "outputs": [
    {
     "data": {
      "text/html": [
       "<div>\n",
       "<style scoped>\n",
       "    .dataframe tbody tr th:only-of-type {\n",
       "        vertical-align: middle;\n",
       "    }\n",
       "\n",
       "    .dataframe tbody tr th {\n",
       "        vertical-align: top;\n",
       "    }\n",
       "\n",
       "    .dataframe thead th {\n",
       "        text-align: right;\n",
       "    }\n",
       "</style>\n",
       "<table border=\"1\" class=\"dataframe\">\n",
       "  <thead>\n",
       "    <tr style=\"text-align: right;\">\n",
       "      <th>X_t+1</th>\n",
       "      <th>Distribuidor</th>\n",
       "      <th>Farmacia</th>\n",
       "      <th>Hospital</th>\n",
       "      <th>Otro</th>\n",
       "    </tr>\n",
       "    <tr>\n",
       "      <th>X_t</th>\n",
       "      <th></th>\n",
       "      <th></th>\n",
       "      <th></th>\n",
       "      <th></th>\n",
       "    </tr>\n",
       "  </thead>\n",
       "  <tbody>\n",
       "    <tr>\n",
       "      <th>Distribuidor</th>\n",
       "      <td>0.538146</td>\n",
       "      <td>0.104005</td>\n",
       "      <td>0.357437</td>\n",
       "      <td>0.000412</td>\n",
       "    </tr>\n",
       "    <tr>\n",
       "      <th>Farmacia</th>\n",
       "      <td>0.089140</td>\n",
       "      <td>0.397288</td>\n",
       "      <td>0.513089</td>\n",
       "      <td>0.000483</td>\n",
       "    </tr>\n",
       "    <tr>\n",
       "      <th>Hospital</th>\n",
       "      <td>0.040446</td>\n",
       "      <td>0.100740</td>\n",
       "      <td>0.858304</td>\n",
       "      <td>0.000510</td>\n",
       "    </tr>\n",
       "    <tr>\n",
       "      <th>Otro</th>\n",
       "      <td>0.060423</td>\n",
       "      <td>0.235650</td>\n",
       "      <td>0.589124</td>\n",
       "      <td>0.114804</td>\n",
       "    </tr>\n",
       "  </tbody>\n",
       "</table>\n",
       "</div>"
      ],
      "text/plain": [
       "X_t+1         Distribuidor  Farmacia  Hospital      Otro\n",
       "X_t                                                     \n",
       "Distribuidor      0.538146  0.104005  0.357437  0.000412\n",
       "Farmacia          0.089140  0.397288  0.513089  0.000483\n",
       "Hospital          0.040446  0.100740  0.858304  0.000510\n",
       "Otro              0.060423  0.235650  0.589124  0.114804"
      ]
     },
     "execution_count": 37,
     "metadata": {},
     "output_type": "execute_result"
    }
   ],
   "source": [
    "matriz_transicion = new_data.groupby('X_t').value_counts(normalize=True).unstack(level='X_t+1')\n",
    "matriz_transicion= matriz_transicion.fillna(0)\n",
    "matriz_transicion"
   ]
  },
  {
   "cell_type": "code",
   "execution_count": 38,
   "id": "322f5e98",
   "metadata": {},
   "outputs": [
    {
     "name": "stdout",
     "output_type": "stream",
     "text": [
      "Los eigenvalores de P son: [1.         0.49847385 0.29575808 0.11430964]\n",
      "Los eigenvectores de P son: [[ 5.00000000e-01  9.81236206e-01 -1.48477977e-01 -3.42925673e-04]\n",
      " [ 5.00000000e-01  1.26105439e-01  8.03198001e-01 -5.18289887e-04]\n",
      " [ 5.00000000e-01 -1.45610233e-01 -1.33669372e-01 -5.96022915e-04]\n",
      " [ 5.00000000e-01  8.40154475e-03  5.61212759e-01  9.99999629e-01]]\n"
     ]
    }
   ],
   "source": [
    "## Descomposición espectral\n",
    "\n",
    "import numpy as np\n",
    "from numpy.linalg import eig, inv\n",
    "Lambda, Q = eig(matriz_transicion)\n",
    "print(\"Los eigenvalores de P son:\", Lambda)\n",
    "print(\"Los eigenvectores de P son:\", Q)"
   ]
  },
  {
   "cell_type": "code",
   "execution_count": 39,
   "id": "27953dd7",
   "metadata": {},
   "outputs": [
    {
     "data": {
      "text/plain": [
       "array([[5.381e-01, 1.040e-01, 3.574e-01, 4.000e-04],\n",
       "       [8.910e-02, 3.973e-01, 5.131e-01, 5.000e-04],\n",
       "       [4.040e-02, 1.007e-01, 8.583e-01, 5.000e-04],\n",
       "       [6.040e-02, 2.356e-01, 5.891e-01, 1.148e-01]])"
      ]
     },
     "execution_count": 39,
     "metadata": {},
     "output_type": "execute_result"
    }
   ],
   "source": [
    "Q_1 = inv(Q)\n",
    "Lambda = np.diag(Lambda)\n",
    "PP = np.matmul(np.matmul(Q, Lambda), Q_1)\n",
    "PP.round(decimals = 4)"
   ]
  },
  {
   "cell_type": "code",
   "execution_count": 45,
   "id": "a986d708",
   "metadata": {},
   "outputs": [],
   "source": [
    "def pasos(n):\n",
    "    Lambda_n = Lambda**n\n",
    "    P_n = np.matmul(np.matmul(Q, Lambda_n), Q_1)\n",
    "    return P_n.round(decimals = 4)"
   ]
  },
  {
   "cell_type": "code",
   "execution_count": 46,
   "id": "e0059633",
   "metadata": {},
   "outputs": [
    {
     "data": {
      "text/plain": [
       "array([[1.213e-01, 1.438e-01, 7.344e-01, 6.000e-04],\n",
       "       [9.740e-02, 1.457e-01, 7.563e-01, 6.000e-04],\n",
       "       [9.060e-02, 1.434e-01, 7.655e-01, 6.000e-04],\n",
       "       [9.440e-02, 1.451e-01, 7.599e-01, 6.000e-04]])"
      ]
     },
     "execution_count": 46,
     "metadata": {},
     "output_type": "execute_result"
    }
   ],
   "source": [
    "pasos(5)"
   ]
  },
  {
   "cell_type": "code",
   "execution_count": 48,
   "id": "2ae54854",
   "metadata": {},
   "outputs": [
    {
     "data": {
      "text/plain": [
       "array([[9.450e-02, 1.438e-01, 7.612e-01, 6.000e-04],\n",
       "       [9.450e-02, 1.438e-01, 7.612e-01, 6.000e-04],\n",
       "       [9.450e-02, 1.438e-01, 7.612e-01, 6.000e-04],\n",
       "       [9.450e-02, 1.438e-01, 7.612e-01, 6.000e-04]])"
      ]
     },
     "execution_count": 48,
     "metadata": {},
     "output_type": "execute_result"
    }
   ],
   "source": [
    "pasos(15)"
   ]
  },
  {
   "cell_type": "code",
   "execution_count": null,
   "id": "7a616913",
   "metadata": {},
   "outputs": [],
   "source": []
  }
 ],
 "metadata": {
  "kernelspec": {
   "display_name": "Python 3",
   "language": "python",
   "name": "python3"
  },
  "language_info": {
   "codemirror_mode": {
    "name": "ipython",
    "version": 3
   },
   "file_extension": ".py",
   "mimetype": "text/x-python",
   "name": "python",
   "nbconvert_exporter": "python",
   "pygments_lexer": "ipython3",
   "version": "3.9.13"
  }
 },
 "nbformat": 4,
 "nbformat_minor": 5
}
