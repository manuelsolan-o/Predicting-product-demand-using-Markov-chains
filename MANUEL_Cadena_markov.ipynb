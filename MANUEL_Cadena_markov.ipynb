{
 "cells": [
  {
   "cell_type": "markdown",
   "id": "ddcbf9f1",
   "metadata": {},
   "source": [
    "# Mi cadena de markov"
   ]
  },
  {
   "cell_type": "markdown",
   "id": "cc9d761e",
   "metadata": {},
   "source": [
    "## Bibliotecas"
   ]
  },
  {
   "cell_type": "code",
   "execution_count": 2,
   "id": "2cb20bfa",
   "metadata": {},
   "outputs": [],
   "source": [
    "# Warnings ---------------------------------------------------------------------------------------------------\n",
    "\n",
    "import warnings\n",
    "warnings.filterwarnings(\"ignore\")\n",
    "\n",
    "# Lectura y manipulación de datos ----------------------------------------------------------------------------\n",
    "\n",
    "import pandas as pd\n",
    "\n",
    "# Descomposición espectral -----------------------------------------------------------------------------------\n",
    "\n",
    "import numpy as np\n",
    "from numpy.linalg import eig, inv\n"
   ]
  },
  {
   "cell_type": "markdown",
   "id": "e3ad6694",
   "metadata": {},
   "source": [
    "## Lectura de la base de datos"
   ]
  },
  {
   "cell_type": "code",
   "execution_count": 3,
   "id": "3ace3f56",
   "metadata": {},
   "outputs": [],
   "source": [
    "raw_data = pd.read_parquet('data/tec_estocasticos.parquet', engine='pyarrow')"
   ]
  },
  {
   "cell_type": "code",
   "execution_count": 4,
   "id": "e421ef41",
   "metadata": {},
   "outputs": [
    {
     "data": {
      "text/html": [
       "<div>\n",
       "<style scoped>\n",
       "    .dataframe tbody tr th:only-of-type {\n",
       "        vertical-align: middle;\n",
       "    }\n",
       "\n",
       "    .dataframe tbody tr th {\n",
       "        vertical-align: top;\n",
       "    }\n",
       "\n",
       "    .dataframe thead th {\n",
       "        text-align: right;\n",
       "    }\n",
       "</style>\n",
       "<table border=\"1\" class=\"dataframe\">\n",
       "  <thead>\n",
       "    <tr style=\"text-align: right;\">\n",
       "      <th></th>\n",
       "      <th>periodo</th>\n",
       "      <th>cliente_id</th>\n",
       "      <th>material_id</th>\n",
       "      <th>tipo_cliente</th>\n",
       "    </tr>\n",
       "  </thead>\n",
       "  <tbody>\n",
       "    <tr>\n",
       "      <th>0</th>\n",
       "      <td>05-2022</td>\n",
       "      <td>4894.0</td>\n",
       "      <td>22.0</td>\n",
       "      <td>Distribuidor</td>\n",
       "    </tr>\n",
       "    <tr>\n",
       "      <th>1</th>\n",
       "      <td>05-2022</td>\n",
       "      <td>4769.0</td>\n",
       "      <td>17.0</td>\n",
       "      <td>Distribuidor</td>\n",
       "    </tr>\n",
       "    <tr>\n",
       "      <th>2</th>\n",
       "      <td>05-2022</td>\n",
       "      <td>4823.0</td>\n",
       "      <td>227.0</td>\n",
       "      <td>Distribuidor</td>\n",
       "    </tr>\n",
       "    <tr>\n",
       "      <th>3</th>\n",
       "      <td>08-2022</td>\n",
       "      <td>4816.0</td>\n",
       "      <td>340.0</td>\n",
       "      <td>Distribuidor</td>\n",
       "    </tr>\n",
       "    <tr>\n",
       "      <th>4</th>\n",
       "      <td>08-2022</td>\n",
       "      <td>4888.0</td>\n",
       "      <td>270.0</td>\n",
       "      <td>Distribuidor</td>\n",
       "    </tr>\n",
       "    <tr>\n",
       "      <th>...</th>\n",
       "      <td>...</td>\n",
       "      <td>...</td>\n",
       "      <td>...</td>\n",
       "      <td>...</td>\n",
       "    </tr>\n",
       "    <tr>\n",
       "      <th>6973895</th>\n",
       "      <td>05-2022</td>\n",
       "      <td>1816.0</td>\n",
       "      <td>1861.0</td>\n",
       "      <td>Farmacia</td>\n",
       "    </tr>\n",
       "    <tr>\n",
       "      <th>6973896</th>\n",
       "      <td>05-2022</td>\n",
       "      <td>1725.0</td>\n",
       "      <td>1373.0</td>\n",
       "      <td>Hospital</td>\n",
       "    </tr>\n",
       "    <tr>\n",
       "      <th>6973897</th>\n",
       "      <td>05-2022</td>\n",
       "      <td>588.0</td>\n",
       "      <td>2249.0</td>\n",
       "      <td>Hospital</td>\n",
       "    </tr>\n",
       "    <tr>\n",
       "      <th>6973898</th>\n",
       "      <td>05-2022</td>\n",
       "      <td>565.0</td>\n",
       "      <td>191.0</td>\n",
       "      <td>Hospital</td>\n",
       "    </tr>\n",
       "    <tr>\n",
       "      <th>6973899</th>\n",
       "      <td>05-2022</td>\n",
       "      <td>1108.0</td>\n",
       "      <td>2160.0</td>\n",
       "      <td>Hospital</td>\n",
       "    </tr>\n",
       "  </tbody>\n",
       "</table>\n",
       "<p>6973900 rows × 4 columns</p>\n",
       "</div>"
      ],
      "text/plain": [
       "         periodo  cliente_id  material_id  tipo_cliente\n",
       "0        05-2022      4894.0         22.0  Distribuidor\n",
       "1        05-2022      4769.0         17.0  Distribuidor\n",
       "2        05-2022      4823.0        227.0  Distribuidor\n",
       "3        08-2022      4816.0        340.0  Distribuidor\n",
       "4        08-2022      4888.0        270.0  Distribuidor\n",
       "...          ...         ...          ...           ...\n",
       "6973895  05-2022      1816.0       1861.0      Farmacia\n",
       "6973896  05-2022      1725.0       1373.0      Hospital\n",
       "6973897  05-2022       588.0       2249.0      Hospital\n",
       "6973898  05-2022       565.0        191.0      Hospital\n",
       "6973899  05-2022      1108.0       2160.0      Hospital\n",
       "\n",
       "[6973900 rows x 4 columns]"
      ]
     },
     "execution_count": 4,
     "metadata": {},
     "output_type": "execute_result"
    }
   ],
   "source": [
    "raw_data"
   ]
  },
  {
   "cell_type": "markdown",
   "id": "beb3f45b",
   "metadata": {},
   "source": [
    "### Tipos de Cliente"
   ]
  },
  {
   "cell_type": "code",
   "execution_count": 5,
   "id": "73a7ed7c",
   "metadata": {},
   "outputs": [
    {
     "data": {
      "text/plain": [
       "array(['Distribuidor', 'Hospital', 'Farmacia', 'Otro'], dtype=object)"
      ]
     },
     "execution_count": 5,
     "metadata": {},
     "output_type": "execute_result"
    }
   ],
   "source": [
    "raw_data['tipo_cliente'].unique()"
   ]
  },
  {
   "cell_type": "code",
   "execution_count": 6,
   "id": "7559b8f6",
   "metadata": {},
   "outputs": [
    {
     "data": {
      "text/html": [
       "<div>\n",
       "<style scoped>\n",
       "    .dataframe tbody tr th:only-of-type {\n",
       "        vertical-align: middle;\n",
       "    }\n",
       "\n",
       "    .dataframe tbody tr th {\n",
       "        vertical-align: top;\n",
       "    }\n",
       "\n",
       "    .dataframe thead th {\n",
       "        text-align: right;\n",
       "    }\n",
       "</style>\n",
       "<table border=\"1\" class=\"dataframe\">\n",
       "  <thead>\n",
       "    <tr style=\"text-align: right;\">\n",
       "      <th></th>\n",
       "      <th>periodo</th>\n",
       "      <th>cliente_id</th>\n",
       "      <th>material_id</th>\n",
       "      <th>tipo_cliente</th>\n",
       "    </tr>\n",
       "  </thead>\n",
       "  <tbody>\n",
       "    <tr>\n",
       "      <th>0</th>\n",
       "      <td>2021-01-01</td>\n",
       "      <td>800.0</td>\n",
       "      <td>317.0</td>\n",
       "      <td>Hospital</td>\n",
       "    </tr>\n",
       "    <tr>\n",
       "      <th>1</th>\n",
       "      <td>2021-01-01</td>\n",
       "      <td>782.0</td>\n",
       "      <td>2043.0</td>\n",
       "      <td>Hospital</td>\n",
       "    </tr>\n",
       "    <tr>\n",
       "      <th>2</th>\n",
       "      <td>2021-01-01</td>\n",
       "      <td>303.0</td>\n",
       "      <td>1352.0</td>\n",
       "      <td>Hospital</td>\n",
       "    </tr>\n",
       "    <tr>\n",
       "      <th>3</th>\n",
       "      <td>2021-01-01</td>\n",
       "      <td>314.0</td>\n",
       "      <td>1577.0</td>\n",
       "      <td>Hospital</td>\n",
       "    </tr>\n",
       "    <tr>\n",
       "      <th>4</th>\n",
       "      <td>2021-01-01</td>\n",
       "      <td>122.0</td>\n",
       "      <td>1504.0</td>\n",
       "      <td>Hospital</td>\n",
       "    </tr>\n",
       "    <tr>\n",
       "      <th>...</th>\n",
       "      <td>...</td>\n",
       "      <td>...</td>\n",
       "      <td>...</td>\n",
       "      <td>...</td>\n",
       "    </tr>\n",
       "    <tr>\n",
       "      <th>6955591</th>\n",
       "      <td>2023-09-01</td>\n",
       "      <td>4406.0</td>\n",
       "      <td>317.0</td>\n",
       "      <td>Hospital</td>\n",
       "    </tr>\n",
       "    <tr>\n",
       "      <th>6955592</th>\n",
       "      <td>2023-09-01</td>\n",
       "      <td>587.0</td>\n",
       "      <td>2321.0</td>\n",
       "      <td>Hospital</td>\n",
       "    </tr>\n",
       "    <tr>\n",
       "      <th>6955593</th>\n",
       "      <td>2023-09-01</td>\n",
       "      <td>587.0</td>\n",
       "      <td>1359.0</td>\n",
       "      <td>Hospital</td>\n",
       "    </tr>\n",
       "    <tr>\n",
       "      <th>6955594</th>\n",
       "      <td>2023-09-01</td>\n",
       "      <td>2421.0</td>\n",
       "      <td>341.0</td>\n",
       "      <td>Hospital</td>\n",
       "    </tr>\n",
       "    <tr>\n",
       "      <th>6955595</th>\n",
       "      <td>2023-09-01</td>\n",
       "      <td>1678.0</td>\n",
       "      <td>114.0</td>\n",
       "      <td>Hospital</td>\n",
       "    </tr>\n",
       "  </tbody>\n",
       "</table>\n",
       "<p>6955596 rows × 4 columns</p>\n",
       "</div>"
      ],
      "text/plain": [
       "           periodo  cliente_id  material_id tipo_cliente\n",
       "0       2021-01-01       800.0        317.0     Hospital\n",
       "1       2021-01-01       782.0       2043.0     Hospital\n",
       "2       2021-01-01       303.0       1352.0     Hospital\n",
       "3       2021-01-01       314.0       1577.0     Hospital\n",
       "4       2021-01-01       122.0       1504.0     Hospital\n",
       "...            ...         ...          ...          ...\n",
       "6955591 2023-09-01      4406.0        317.0     Hospital\n",
       "6955592 2023-09-01       587.0       2321.0     Hospital\n",
       "6955593 2023-09-01       587.0       1359.0     Hospital\n",
       "6955594 2023-09-01      2421.0        341.0     Hospital\n",
       "6955595 2023-09-01      1678.0        114.0     Hospital\n",
       "\n",
       "[6955596 rows x 4 columns]"
      ]
     },
     "execution_count": 6,
     "metadata": {},
     "output_type": "execute_result"
    }
   ],
   "source": [
    "raw_data['periodo'] = pd.to_datetime(raw_data['periodo'])\n",
    "raw_data.sort_values(by='periodo', inplace=True)\n",
    "raw_data.dropna(inplace=True)\n",
    "raw_data.reset_index(inplace=True)\n",
    "raw_data.drop('index', axis = 1,inplace=True)\n",
    "raw_data"
   ]
  },
  {
   "cell_type": "code",
   "execution_count": 7,
   "id": "560ee13a",
   "metadata": {},
   "outputs": [],
   "source": [
    "hospital =raw_data.loc[raw_data['tipo_cliente'] == 'Hospital']"
   ]
  },
  {
   "cell_type": "code",
   "execution_count": 8,
   "id": "47630d89",
   "metadata": {},
   "outputs": [
    {
     "data": {
      "text/html": [
       "<div>\n",
       "<style scoped>\n",
       "    .dataframe tbody tr th:only-of-type {\n",
       "        vertical-align: middle;\n",
       "    }\n",
       "\n",
       "    .dataframe tbody tr th {\n",
       "        vertical-align: top;\n",
       "    }\n",
       "\n",
       "    .dataframe thead th {\n",
       "        text-align: right;\n",
       "    }\n",
       "</style>\n",
       "<table border=\"1\" class=\"dataframe\">\n",
       "  <thead>\n",
       "    <tr style=\"text-align: right;\">\n",
       "      <th></th>\n",
       "      <th>periodo</th>\n",
       "      <th>cliente_id</th>\n",
       "      <th>material_id</th>\n",
       "      <th>tipo_cliente</th>\n",
       "    </tr>\n",
       "  </thead>\n",
       "  <tbody>\n",
       "    <tr>\n",
       "      <th>0</th>\n",
       "      <td>2021-01-01</td>\n",
       "      <td>800.0</td>\n",
       "      <td>317.0</td>\n",
       "      <td>Hospital</td>\n",
       "    </tr>\n",
       "    <tr>\n",
       "      <th>1505</th>\n",
       "      <td>2021-01-01</td>\n",
       "      <td>2825.0</td>\n",
       "      <td>317.0</td>\n",
       "      <td>Hospital</td>\n",
       "    </tr>\n",
       "    <tr>\n",
       "      <th>1882</th>\n",
       "      <td>2021-01-01</td>\n",
       "      <td>1911.0</td>\n",
       "      <td>317.0</td>\n",
       "      <td>Hospital</td>\n",
       "    </tr>\n",
       "    <tr>\n",
       "      <th>2532</th>\n",
       "      <td>2021-01-01</td>\n",
       "      <td>1282.0</td>\n",
       "      <td>317.0</td>\n",
       "      <td>Hospital</td>\n",
       "    </tr>\n",
       "    <tr>\n",
       "      <th>3147</th>\n",
       "      <td>2021-01-01</td>\n",
       "      <td>1356.0</td>\n",
       "      <td>317.0</td>\n",
       "      <td>Hospital</td>\n",
       "    </tr>\n",
       "    <tr>\n",
       "      <th>...</th>\n",
       "      <td>...</td>\n",
       "      <td>...</td>\n",
       "      <td>...</td>\n",
       "      <td>...</td>\n",
       "    </tr>\n",
       "    <tr>\n",
       "      <th>6955076</th>\n",
       "      <td>2023-09-01</td>\n",
       "      <td>3505.0</td>\n",
       "      <td>317.0</td>\n",
       "      <td>Hospital</td>\n",
       "    </tr>\n",
       "    <tr>\n",
       "      <th>6955115</th>\n",
       "      <td>2023-09-01</td>\n",
       "      <td>799.0</td>\n",
       "      <td>317.0</td>\n",
       "      <td>Hospital</td>\n",
       "    </tr>\n",
       "    <tr>\n",
       "      <th>6955172</th>\n",
       "      <td>2023-09-01</td>\n",
       "      <td>4476.0</td>\n",
       "      <td>317.0</td>\n",
       "      <td>Hospital</td>\n",
       "    </tr>\n",
       "    <tr>\n",
       "      <th>6955296</th>\n",
       "      <td>2023-09-01</td>\n",
       "      <td>2211.0</td>\n",
       "      <td>317.0</td>\n",
       "      <td>Hospital</td>\n",
       "    </tr>\n",
       "    <tr>\n",
       "      <th>6955591</th>\n",
       "      <td>2023-09-01</td>\n",
       "      <td>4406.0</td>\n",
       "      <td>317.0</td>\n",
       "      <td>Hospital</td>\n",
       "    </tr>\n",
       "  </tbody>\n",
       "</table>\n",
       "<p>27378 rows × 4 columns</p>\n",
       "</div>"
      ],
      "text/plain": [
       "           periodo  cliente_id  material_id tipo_cliente\n",
       "0       2021-01-01       800.0        317.0     Hospital\n",
       "1505    2021-01-01      2825.0        317.0     Hospital\n",
       "1882    2021-01-01      1911.0        317.0     Hospital\n",
       "2532    2021-01-01      1282.0        317.0     Hospital\n",
       "3147    2021-01-01      1356.0        317.0     Hospital\n",
       "...            ...         ...          ...          ...\n",
       "6955076 2023-09-01      3505.0        317.0     Hospital\n",
       "6955115 2023-09-01       799.0        317.0     Hospital\n",
       "6955172 2023-09-01      4476.0        317.0     Hospital\n",
       "6955296 2023-09-01      2211.0        317.0     Hospital\n",
       "6955591 2023-09-01      4406.0        317.0     Hospital\n",
       "\n",
       "[27378 rows x 4 columns]"
      ]
     },
     "execution_count": 8,
     "metadata": {},
     "output_type": "execute_result"
    }
   ],
   "source": [
    "p_317 = hospital.loc[hospital['material_id'] == 317.0]\n",
    "\n",
    "p_317"
   ]
  },
  {
   "cell_type": "code",
   "execution_count": 9,
   "id": "a92c45d8",
   "metadata": {},
   "outputs": [
    {
     "data": {
      "text/html": [
       "<div>\n",
       "<style scoped>\n",
       "    .dataframe tbody tr th:only-of-type {\n",
       "        vertical-align: middle;\n",
       "    }\n",
       "\n",
       "    .dataframe tbody tr th {\n",
       "        vertical-align: top;\n",
       "    }\n",
       "\n",
       "    .dataframe thead th {\n",
       "        text-align: right;\n",
       "    }\n",
       "</style>\n",
       "<table border=\"1\" class=\"dataframe\">\n",
       "  <thead>\n",
       "    <tr style=\"text-align: right;\">\n",
       "      <th></th>\n",
       "      <th>periodo</th>\n",
       "      <th>cliente_id</th>\n",
       "      <th>material_id</th>\n",
       "      <th>tipo_cliente</th>\n",
       "    </tr>\n",
       "  </thead>\n",
       "  <tbody>\n",
       "    <tr>\n",
       "      <th>0</th>\n",
       "      <td>2021-01-01</td>\n",
       "      <td>800.0</td>\n",
       "      <td>317.0</td>\n",
       "      <td>Hospital</td>\n",
       "    </tr>\n",
       "    <tr>\n",
       "      <th>1505</th>\n",
       "      <td>2021-01-01</td>\n",
       "      <td>2825.0</td>\n",
       "      <td>317.0</td>\n",
       "      <td>Hospital</td>\n",
       "    </tr>\n",
       "    <tr>\n",
       "      <th>1882</th>\n",
       "      <td>2021-01-01</td>\n",
       "      <td>1911.0</td>\n",
       "      <td>317.0</td>\n",
       "      <td>Hospital</td>\n",
       "    </tr>\n",
       "    <tr>\n",
       "      <th>2532</th>\n",
       "      <td>2021-01-01</td>\n",
       "      <td>1282.0</td>\n",
       "      <td>317.0</td>\n",
       "      <td>Hospital</td>\n",
       "    </tr>\n",
       "    <tr>\n",
       "      <th>3147</th>\n",
       "      <td>2021-01-01</td>\n",
       "      <td>1356.0</td>\n",
       "      <td>317.0</td>\n",
       "      <td>Hospital</td>\n",
       "    </tr>\n",
       "    <tr>\n",
       "      <th>...</th>\n",
       "      <td>...</td>\n",
       "      <td>...</td>\n",
       "      <td>...</td>\n",
       "      <td>...</td>\n",
       "    </tr>\n",
       "    <tr>\n",
       "      <th>6715984</th>\n",
       "      <td>2023-09-01</td>\n",
       "      <td>4159.0</td>\n",
       "      <td>317.0</td>\n",
       "      <td>Hospital</td>\n",
       "    </tr>\n",
       "    <tr>\n",
       "      <th>6716013</th>\n",
       "      <td>2023-09-01</td>\n",
       "      <td>1423.0</td>\n",
       "      <td>317.0</td>\n",
       "      <td>Hospital</td>\n",
       "    </tr>\n",
       "    <tr>\n",
       "      <th>6716025</th>\n",
       "      <td>2023-09-01</td>\n",
       "      <td>1179.0</td>\n",
       "      <td>317.0</td>\n",
       "      <td>Hospital</td>\n",
       "    </tr>\n",
       "    <tr>\n",
       "      <th>6716059</th>\n",
       "      <td>2023-09-01</td>\n",
       "      <td>4656.0</td>\n",
       "      <td>317.0</td>\n",
       "      <td>Hospital</td>\n",
       "    </tr>\n",
       "    <tr>\n",
       "      <th>6716125</th>\n",
       "      <td>2023-09-01</td>\n",
       "      <td>1205.0</td>\n",
       "      <td>317.0</td>\n",
       "      <td>Hospital</td>\n",
       "    </tr>\n",
       "  </tbody>\n",
       "</table>\n",
       "<p>165 rows × 4 columns</p>\n",
       "</div>"
      ],
      "text/plain": [
       "           periodo  cliente_id  material_id tipo_cliente\n",
       "0       2021-01-01       800.0        317.0     Hospital\n",
       "1505    2021-01-01      2825.0        317.0     Hospital\n",
       "1882    2021-01-01      1911.0        317.0     Hospital\n",
       "2532    2021-01-01      1282.0        317.0     Hospital\n",
       "3147    2021-01-01      1356.0        317.0     Hospital\n",
       "...            ...         ...          ...          ...\n",
       "6715984 2023-09-01      4159.0        317.0     Hospital\n",
       "6716013 2023-09-01      1423.0        317.0     Hospital\n",
       "6716025 2023-09-01      1179.0        317.0     Hospital\n",
       "6716059 2023-09-01      4656.0        317.0     Hospital\n",
       "6716125 2023-09-01      1205.0        317.0     Hospital\n",
       "\n",
       "[165 rows x 4 columns]"
      ]
     },
     "execution_count": 9,
     "metadata": {},
     "output_type": "execute_result"
    }
   ],
   "source": [
    "p_317.groupby('periodo').head()"
   ]
  },
  {
   "cell_type": "code",
   "execution_count": 10,
   "id": "cb657f46",
   "metadata": {},
   "outputs": [
    {
     "data": {
      "text/html": [
       "<div>\n",
       "<style scoped>\n",
       "    .dataframe tbody tr th:only-of-type {\n",
       "        vertical-align: middle;\n",
       "    }\n",
       "\n",
       "    .dataframe tbody tr th {\n",
       "        vertical-align: top;\n",
       "    }\n",
       "\n",
       "    .dataframe thead th {\n",
       "        text-align: right;\n",
       "    }\n",
       "</style>\n",
       "<table border=\"1\" class=\"dataframe\">\n",
       "  <thead>\n",
       "    <tr style=\"text-align: right;\">\n",
       "      <th></th>\n",
       "      <th>periodo</th>\n",
       "      <th>cliente_id</th>\n",
       "      <th>material_id</th>\n",
       "      <th>tipo_cliente</th>\n",
       "    </tr>\n",
       "  </thead>\n",
       "  <tbody>\n",
       "    <tr>\n",
       "      <th>0</th>\n",
       "      <td>2021-01-01</td>\n",
       "      <td>800.0</td>\n",
       "      <td>317.0</td>\n",
       "      <td>Hospital</td>\n",
       "    </tr>\n",
       "    <tr>\n",
       "      <th>1</th>\n",
       "      <td>2021-07-01</td>\n",
       "      <td>800.0</td>\n",
       "      <td>317.0</td>\n",
       "      <td>Hospital</td>\n",
       "    </tr>\n",
       "    <tr>\n",
       "      <th>2</th>\n",
       "      <td>2021-09-01</td>\n",
       "      <td>800.0</td>\n",
       "      <td>317.0</td>\n",
       "      <td>Hospital</td>\n",
       "    </tr>\n",
       "    <tr>\n",
       "      <th>3</th>\n",
       "      <td>2021-10-01</td>\n",
       "      <td>800.0</td>\n",
       "      <td>317.0</td>\n",
       "      <td>Hospital</td>\n",
       "    </tr>\n",
       "    <tr>\n",
       "      <th>4</th>\n",
       "      <td>2021-11-01</td>\n",
       "      <td>800.0</td>\n",
       "      <td>317.0</td>\n",
       "      <td>Hospital</td>\n",
       "    </tr>\n",
       "    <tr>\n",
       "      <th>5</th>\n",
       "      <td>2022-01-01</td>\n",
       "      <td>800.0</td>\n",
       "      <td>317.0</td>\n",
       "      <td>Hospital</td>\n",
       "    </tr>\n",
       "    <tr>\n",
       "      <th>6</th>\n",
       "      <td>2022-02-01</td>\n",
       "      <td>800.0</td>\n",
       "      <td>317.0</td>\n",
       "      <td>Hospital</td>\n",
       "    </tr>\n",
       "    <tr>\n",
       "      <th>7</th>\n",
       "      <td>2022-03-01</td>\n",
       "      <td>800.0</td>\n",
       "      <td>317.0</td>\n",
       "      <td>Hospital</td>\n",
       "    </tr>\n",
       "    <tr>\n",
       "      <th>8</th>\n",
       "      <td>2022-04-01</td>\n",
       "      <td>800.0</td>\n",
       "      <td>317.0</td>\n",
       "      <td>Hospital</td>\n",
       "    </tr>\n",
       "    <tr>\n",
       "      <th>9</th>\n",
       "      <td>2022-05-01</td>\n",
       "      <td>800.0</td>\n",
       "      <td>317.0</td>\n",
       "      <td>Hospital</td>\n",
       "    </tr>\n",
       "    <tr>\n",
       "      <th>10</th>\n",
       "      <td>2022-06-01</td>\n",
       "      <td>800.0</td>\n",
       "      <td>317.0</td>\n",
       "      <td>Hospital</td>\n",
       "    </tr>\n",
       "    <tr>\n",
       "      <th>11</th>\n",
       "      <td>2022-07-01</td>\n",
       "      <td>800.0</td>\n",
       "      <td>317.0</td>\n",
       "      <td>Hospital</td>\n",
       "    </tr>\n",
       "    <tr>\n",
       "      <th>12</th>\n",
       "      <td>2022-08-01</td>\n",
       "      <td>800.0</td>\n",
       "      <td>317.0</td>\n",
       "      <td>Hospital</td>\n",
       "    </tr>\n",
       "    <tr>\n",
       "      <th>13</th>\n",
       "      <td>2022-09-01</td>\n",
       "      <td>800.0</td>\n",
       "      <td>317.0</td>\n",
       "      <td>Hospital</td>\n",
       "    </tr>\n",
       "    <tr>\n",
       "      <th>14</th>\n",
       "      <td>2022-10-01</td>\n",
       "      <td>800.0</td>\n",
       "      <td>317.0</td>\n",
       "      <td>Hospital</td>\n",
       "    </tr>\n",
       "    <tr>\n",
       "      <th>15</th>\n",
       "      <td>2022-11-01</td>\n",
       "      <td>800.0</td>\n",
       "      <td>317.0</td>\n",
       "      <td>Hospital</td>\n",
       "    </tr>\n",
       "    <tr>\n",
       "      <th>16</th>\n",
       "      <td>2022-12-01</td>\n",
       "      <td>800.0</td>\n",
       "      <td>317.0</td>\n",
       "      <td>Hospital</td>\n",
       "    </tr>\n",
       "    <tr>\n",
       "      <th>17</th>\n",
       "      <td>2023-01-01</td>\n",
       "      <td>800.0</td>\n",
       "      <td>317.0</td>\n",
       "      <td>Hospital</td>\n",
       "    </tr>\n",
       "    <tr>\n",
       "      <th>18</th>\n",
       "      <td>2023-02-01</td>\n",
       "      <td>800.0</td>\n",
       "      <td>317.0</td>\n",
       "      <td>Hospital</td>\n",
       "    </tr>\n",
       "    <tr>\n",
       "      <th>19</th>\n",
       "      <td>2023-03-01</td>\n",
       "      <td>800.0</td>\n",
       "      <td>317.0</td>\n",
       "      <td>Hospital</td>\n",
       "    </tr>\n",
       "    <tr>\n",
       "      <th>20</th>\n",
       "      <td>2023-04-01</td>\n",
       "      <td>800.0</td>\n",
       "      <td>317.0</td>\n",
       "      <td>Hospital</td>\n",
       "    </tr>\n",
       "    <tr>\n",
       "      <th>21</th>\n",
       "      <td>2023-07-01</td>\n",
       "      <td>800.0</td>\n",
       "      <td>317.0</td>\n",
       "      <td>Hospital</td>\n",
       "    </tr>\n",
       "    <tr>\n",
       "      <th>22</th>\n",
       "      <td>2023-08-01</td>\n",
       "      <td>800.0</td>\n",
       "      <td>317.0</td>\n",
       "      <td>Hospital</td>\n",
       "    </tr>\n",
       "    <tr>\n",
       "      <th>23</th>\n",
       "      <td>2023-09-01</td>\n",
       "      <td>800.0</td>\n",
       "      <td>317.0</td>\n",
       "      <td>Hospital</td>\n",
       "    </tr>\n",
       "  </tbody>\n",
       "</table>\n",
       "</div>"
      ],
      "text/plain": [
       "      periodo  cliente_id  material_id tipo_cliente\n",
       "0  2021-01-01       800.0        317.0     Hospital\n",
       "1  2021-07-01       800.0        317.0     Hospital\n",
       "2  2021-09-01       800.0        317.0     Hospital\n",
       "3  2021-10-01       800.0        317.0     Hospital\n",
       "4  2021-11-01       800.0        317.0     Hospital\n",
       "5  2022-01-01       800.0        317.0     Hospital\n",
       "6  2022-02-01       800.0        317.0     Hospital\n",
       "7  2022-03-01       800.0        317.0     Hospital\n",
       "8  2022-04-01       800.0        317.0     Hospital\n",
       "9  2022-05-01       800.0        317.0     Hospital\n",
       "10 2022-06-01       800.0        317.0     Hospital\n",
       "11 2022-07-01       800.0        317.0     Hospital\n",
       "12 2022-08-01       800.0        317.0     Hospital\n",
       "13 2022-09-01       800.0        317.0     Hospital\n",
       "14 2022-10-01       800.0        317.0     Hospital\n",
       "15 2022-11-01       800.0        317.0     Hospital\n",
       "16 2022-12-01       800.0        317.0     Hospital\n",
       "17 2023-01-01       800.0        317.0     Hospital\n",
       "18 2023-02-01       800.0        317.0     Hospital\n",
       "19 2023-03-01       800.0        317.0     Hospital\n",
       "20 2023-04-01       800.0        317.0     Hospital\n",
       "21 2023-07-01       800.0        317.0     Hospital\n",
       "22 2023-08-01       800.0        317.0     Hospital\n",
       "23 2023-09-01       800.0        317.0     Hospital"
      ]
     },
     "execution_count": 10,
     "metadata": {},
     "output_type": "execute_result"
    }
   ],
   "source": [
    "h = p_317.loc[p_317['cliente_id'] == 800.0]\n",
    "h.reset_index(inplace = True)\n",
    "h.drop('index', axis = 1, inplace = True)\n",
    "h"
   ]
  },
  {
   "cell_type": "code",
   "execution_count": 11,
   "id": "8bb89a61",
   "metadata": {},
   "outputs": [
    {
     "data": {
      "text/plain": [
       "181"
      ]
     },
     "execution_count": 11,
     "metadata": {},
     "output_type": "execute_result"
    }
   ],
   "source": [
    "(h['periodo'][1] - h['periodo'][0]).days"
   ]
  },
  {
   "cell_type": "code",
   "execution_count": 12,
   "id": "8ef47c9b",
   "metadata": {},
   "outputs": [
    {
     "data": {
      "text/plain": [
       "6"
      ]
     },
     "execution_count": 12,
     "metadata": {},
     "output_type": "execute_result"
    }
   ],
   "source": [
    "181 // 30"
   ]
  },
  {
   "cell_type": "code",
   "execution_count": 27,
   "id": "ae06ef08",
   "metadata": {},
   "outputs": [
    {
     "data": {
      "text/plain": [
       "[0,\n",
       " 1,\n",
       " 1,\n",
       " 1,\n",
       " 1,\n",
       " 1,\n",
       " 0,\n",
       " 1,\n",
       " 0,\n",
       " 0,\n",
       " 0,\n",
       " 1,\n",
       " 0,\n",
       " 0,\n",
       " 0,\n",
       " 0,\n",
       " 0,\n",
       " 0,\n",
       " 0,\n",
       " 0,\n",
       " 0,\n",
       " 0,\n",
       " 0,\n",
       " 0,\n",
       " 0,\n",
       " 0,\n",
       " 0,\n",
       " 0,\n",
       " 1,\n",
       " 1,\n",
       " 0,\n",
       " 0]"
      ]
     },
     "execution_count": 27,
     "metadata": {},
     "output_type": "execute_result"
    }
   ],
   "source": [
    "t = [0]\n",
    "\n",
    "for x in range(0, len(h['periodo'])-2):\n",
    "    if (h['periodo'][x+1] - h['periodo'][x]).days <= 31:\n",
    "        t.append(0)\n",
    "    else:\n",
    "        for _ in range(((h['periodo'][x+1] - h['periodo'][x]).days // 30)-1):\n",
    "            t.append(1)\n",
    "        t.append(0)\n",
    "t"
   ]
  },
  {
   "cell_type": "code",
   "execution_count": 40,
   "id": "b853815a",
   "metadata": {},
   "outputs": [
    {
     "data": {
      "text/plain": [
       "[1,\n",
       " 1,\n",
       " 1,\n",
       " 1,\n",
       " 1,\n",
       " 0,\n",
       " 1,\n",
       " 0,\n",
       " 0,\n",
       " 0,\n",
       " 1,\n",
       " 0,\n",
       " 0,\n",
       " 0,\n",
       " 0,\n",
       " 0,\n",
       " 0,\n",
       " 0,\n",
       " 0,\n",
       " 0,\n",
       " 0,\n",
       " 0,\n",
       " 0,\n",
       " 0,\n",
       " 0,\n",
       " 0,\n",
       " 0,\n",
       " 1,\n",
       " 1,\n",
       " 0,\n",
       " 0,\n",
       " 0]"
      ]
     },
     "execution_count": 40,
     "metadata": {},
     "output_type": "execute_result"
    }
   ],
   "source": [
    "t_1 = []\n",
    "\n",
    "for x in range(0, len(h['periodo'])-1):\n",
    "    if (h['periodo'][x+1] - h['periodo'][x]).days <= 31:\n",
    "        t_1.append(0)\n",
    "    else:\n",
    "        for _ in range(((h['periodo'][x+1] - h['periodo'][x]).days // 30)-1):\n",
    "            t_1.append(1)\n",
    "        t_1.append(0)\n",
    "t_1"
   ]
  },
  {
   "cell_type": "code",
   "execution_count": 41,
   "id": "6bb33acc",
   "metadata": {},
   "outputs": [
    {
     "data": {
      "text/html": [
       "<div>\n",
       "<style scoped>\n",
       "    .dataframe tbody tr th:only-of-type {\n",
       "        vertical-align: middle;\n",
       "    }\n",
       "\n",
       "    .dataframe tbody tr th {\n",
       "        vertical-align: top;\n",
       "    }\n",
       "\n",
       "    .dataframe thead th {\n",
       "        text-align: right;\n",
       "    }\n",
       "</style>\n",
       "<table border=\"1\" class=\"dataframe\">\n",
       "  <thead>\n",
       "    <tr style=\"text-align: right;\">\n",
       "      <th></th>\n",
       "      <th>t</th>\n",
       "      <th>t_1</th>\n",
       "    </tr>\n",
       "  </thead>\n",
       "  <tbody>\n",
       "    <tr>\n",
       "      <th>0</th>\n",
       "      <td>0</td>\n",
       "      <td>1</td>\n",
       "    </tr>\n",
       "    <tr>\n",
       "      <th>1</th>\n",
       "      <td>1</td>\n",
       "      <td>1</td>\n",
       "    </tr>\n",
       "    <tr>\n",
       "      <th>2</th>\n",
       "      <td>1</td>\n",
       "      <td>1</td>\n",
       "    </tr>\n",
       "    <tr>\n",
       "      <th>3</th>\n",
       "      <td>1</td>\n",
       "      <td>1</td>\n",
       "    </tr>\n",
       "    <tr>\n",
       "      <th>4</th>\n",
       "      <td>1</td>\n",
       "      <td>1</td>\n",
       "    </tr>\n",
       "    <tr>\n",
       "      <th>5</th>\n",
       "      <td>1</td>\n",
       "      <td>0</td>\n",
       "    </tr>\n",
       "    <tr>\n",
       "      <th>6</th>\n",
       "      <td>0</td>\n",
       "      <td>1</td>\n",
       "    </tr>\n",
       "    <tr>\n",
       "      <th>7</th>\n",
       "      <td>1</td>\n",
       "      <td>0</td>\n",
       "    </tr>\n",
       "    <tr>\n",
       "      <th>8</th>\n",
       "      <td>0</td>\n",
       "      <td>0</td>\n",
       "    </tr>\n",
       "    <tr>\n",
       "      <th>9</th>\n",
       "      <td>0</td>\n",
       "      <td>0</td>\n",
       "    </tr>\n",
       "    <tr>\n",
       "      <th>10</th>\n",
       "      <td>0</td>\n",
       "      <td>1</td>\n",
       "    </tr>\n",
       "    <tr>\n",
       "      <th>11</th>\n",
       "      <td>1</td>\n",
       "      <td>0</td>\n",
       "    </tr>\n",
       "    <tr>\n",
       "      <th>12</th>\n",
       "      <td>0</td>\n",
       "      <td>0</td>\n",
       "    </tr>\n",
       "    <tr>\n",
       "      <th>13</th>\n",
       "      <td>0</td>\n",
       "      <td>0</td>\n",
       "    </tr>\n",
       "    <tr>\n",
       "      <th>14</th>\n",
       "      <td>0</td>\n",
       "      <td>0</td>\n",
       "    </tr>\n",
       "    <tr>\n",
       "      <th>15</th>\n",
       "      <td>0</td>\n",
       "      <td>0</td>\n",
       "    </tr>\n",
       "    <tr>\n",
       "      <th>16</th>\n",
       "      <td>0</td>\n",
       "      <td>0</td>\n",
       "    </tr>\n",
       "    <tr>\n",
       "      <th>17</th>\n",
       "      <td>0</td>\n",
       "      <td>0</td>\n",
       "    </tr>\n",
       "    <tr>\n",
       "      <th>18</th>\n",
       "      <td>0</td>\n",
       "      <td>0</td>\n",
       "    </tr>\n",
       "    <tr>\n",
       "      <th>19</th>\n",
       "      <td>0</td>\n",
       "      <td>0</td>\n",
       "    </tr>\n",
       "    <tr>\n",
       "      <th>20</th>\n",
       "      <td>0</td>\n",
       "      <td>0</td>\n",
       "    </tr>\n",
       "    <tr>\n",
       "      <th>21</th>\n",
       "      <td>0</td>\n",
       "      <td>0</td>\n",
       "    </tr>\n",
       "    <tr>\n",
       "      <th>22</th>\n",
       "      <td>0</td>\n",
       "      <td>0</td>\n",
       "    </tr>\n",
       "    <tr>\n",
       "      <th>23</th>\n",
       "      <td>0</td>\n",
       "      <td>0</td>\n",
       "    </tr>\n",
       "    <tr>\n",
       "      <th>24</th>\n",
       "      <td>0</td>\n",
       "      <td>0</td>\n",
       "    </tr>\n",
       "    <tr>\n",
       "      <th>25</th>\n",
       "      <td>0</td>\n",
       "      <td>0</td>\n",
       "    </tr>\n",
       "    <tr>\n",
       "      <th>26</th>\n",
       "      <td>0</td>\n",
       "      <td>0</td>\n",
       "    </tr>\n",
       "    <tr>\n",
       "      <th>27</th>\n",
       "      <td>0</td>\n",
       "      <td>1</td>\n",
       "    </tr>\n",
       "    <tr>\n",
       "      <th>28</th>\n",
       "      <td>1</td>\n",
       "      <td>1</td>\n",
       "    </tr>\n",
       "    <tr>\n",
       "      <th>29</th>\n",
       "      <td>1</td>\n",
       "      <td>0</td>\n",
       "    </tr>\n",
       "    <tr>\n",
       "      <th>30</th>\n",
       "      <td>0</td>\n",
       "      <td>0</td>\n",
       "    </tr>\n",
       "    <tr>\n",
       "      <th>31</th>\n",
       "      <td>0</td>\n",
       "      <td>0</td>\n",
       "    </tr>\n",
       "  </tbody>\n",
       "</table>\n",
       "</div>"
      ],
      "text/plain": [
       "    t  t_1\n",
       "0   0    1\n",
       "1   1    1\n",
       "2   1    1\n",
       "3   1    1\n",
       "4   1    1\n",
       "5   1    0\n",
       "6   0    1\n",
       "7   1    0\n",
       "8   0    0\n",
       "9   0    0\n",
       "10  0    1\n",
       "11  1    0\n",
       "12  0    0\n",
       "13  0    0\n",
       "14  0    0\n",
       "15  0    0\n",
       "16  0    0\n",
       "17  0    0\n",
       "18  0    0\n",
       "19  0    0\n",
       "20  0    0\n",
       "21  0    0\n",
       "22  0    0\n",
       "23  0    0\n",
       "24  0    0\n",
       "25  0    0\n",
       "26  0    0\n",
       "27  0    1\n",
       "28  1    1\n",
       "29  1    0\n",
       "30  0    0\n",
       "31  0    0"
      ]
     },
     "execution_count": 41,
     "metadata": {},
     "output_type": "execute_result"
    }
   ],
   "source": [
    "p = pd.DataFrame()\n",
    "\n",
    "p['t'] = t\n",
    "p['t_1'] = t_1\n",
    "\n",
    "p"
   ]
  },
  {
   "cell_type": "code",
   "execution_count": 39,
   "id": "687e85a3",
   "metadata": {},
   "outputs": [
    {
     "data": {
      "text/plain": [
       "31"
      ]
     },
     "execution_count": 39,
     "metadata": {},
     "output_type": "execute_result"
    }
   ],
   "source": [
    "len(t_1)"
   ]
  },
  {
   "cell_type": "code",
   "execution_count": 34,
   "id": "35b4104d",
   "metadata": {},
   "outputs": [
    {
     "data": {
      "text/plain": [
       "33"
      ]
     },
     "execution_count": 34,
     "metadata": {},
     "output_type": "execute_result"
    }
   ],
   "source": [
    "len(fechas)"
   ]
  },
  {
   "cell_type": "code",
   "execution_count": 58,
   "id": "98d5a343",
   "metadata": {},
   "outputs": [
    {
     "data": {
      "text/plain": [
       "[Timestamp('2021-01-01 00:00:00'),\n",
       " Timestamp('2021-02-01 00:00:00'),\n",
       " Timestamp('2021-03-01 00:00:00'),\n",
       " Timestamp('2021-04-01 00:00:00'),\n",
       " Timestamp('2021-05-01 00:00:00'),\n",
       " Timestamp('2021-06-01 00:00:00'),\n",
       " Timestamp('2021-07-01 00:00:00'),\n",
       " Timestamp('2021-08-01 00:00:00'),\n",
       " Timestamp('2021-09-01 00:00:00'),\n",
       " Timestamp('2021-10-01 00:00:00'),\n",
       " Timestamp('2021-11-01 00:00:00'),\n",
       " Timestamp('2021-12-01 00:00:00'),\n",
       " Timestamp('2022-01-01 00:00:00'),\n",
       " Timestamp('2022-02-01 00:00:00'),\n",
       " Timestamp('2022-03-01 00:00:00'),\n",
       " Timestamp('2022-04-01 00:00:00'),\n",
       " Timestamp('2022-05-01 00:00:00'),\n",
       " Timestamp('2022-06-01 00:00:00'),\n",
       " Timestamp('2022-07-01 00:00:00'),\n",
       " Timestamp('2022-08-01 00:00:00'),\n",
       " Timestamp('2022-09-01 00:00:00'),\n",
       " Timestamp('2022-10-01 00:00:00'),\n",
       " Timestamp('2022-11-01 00:00:00'),\n",
       " Timestamp('2022-12-01 00:00:00'),\n",
       " Timestamp('2023-01-01 00:00:00'),\n",
       " Timestamp('2023-02-01 00:00:00'),\n",
       " Timestamp('2023-03-01 00:00:00'),\n",
       " Timestamp('2023-04-01 00:00:00'),\n",
       " Timestamp('2023-05-01 00:00:00'),\n",
       " Timestamp('2023-06-01 00:00:00'),\n",
       " Timestamp('2023-07-01 00:00:00'),\n",
       " Timestamp('2023-08-01 00:00:00'),\n",
       " Timestamp('2023-09-01 00:00:00')]"
      ]
     },
     "execution_count": 58,
     "metadata": {},
     "output_type": "execute_result"
    }
   ],
   "source": [
    "fechas"
   ]
  },
  {
   "cell_type": "code",
   "execution_count": null,
   "id": "fd706465",
   "metadata": {},
   "outputs": [],
   "source": []
  },
  {
   "cell_type": "code",
   "execution_count": 33,
   "id": "621f06d7",
   "metadata": {},
   "outputs": [
    {
     "data": {
      "text/plain": [
       "[Timestamp('2021-01-01 00:00:00'),\n",
       " Timestamp('2021-02-01 00:00:00'),\n",
       " Timestamp('2021-03-01 00:00:00'),\n",
       " Timestamp('2021-04-01 00:00:00'),\n",
       " Timestamp('2021-05-01 00:00:00'),\n",
       " Timestamp('2021-06-01 00:00:00'),\n",
       " Timestamp('2021-07-01 00:00:00'),\n",
       " Timestamp('2021-08-01 00:00:00'),\n",
       " Timestamp('2021-09-01 00:00:00'),\n",
       " Timestamp('2021-10-01 00:00:00'),\n",
       " Timestamp('2021-11-01 00:00:00'),\n",
       " Timestamp('2021-12-01 00:00:00'),\n",
       " Timestamp('2022-01-01 00:00:00'),\n",
       " Timestamp('2022-02-01 00:00:00'),\n",
       " Timestamp('2022-03-01 00:00:00'),\n",
       " Timestamp('2022-04-01 00:00:00'),\n",
       " Timestamp('2022-05-01 00:00:00'),\n",
       " Timestamp('2022-06-01 00:00:00'),\n",
       " Timestamp('2022-07-01 00:00:00'),\n",
       " Timestamp('2022-08-01 00:00:00'),\n",
       " Timestamp('2022-09-01 00:00:00'),\n",
       " Timestamp('2022-10-01 00:00:00'),\n",
       " Timestamp('2022-11-01 00:00:00'),\n",
       " Timestamp('2022-12-01 00:00:00'),\n",
       " Timestamp('2023-01-01 00:00:00'),\n",
       " Timestamp('2023-02-01 00:00:00'),\n",
       " Timestamp('2023-03-01 00:00:00'),\n",
       " Timestamp('2023-04-01 00:00:00'),\n",
       " Timestamp('2023-05-01 00:00:00'),\n",
       " Timestamp('2023-06-01 00:00:00'),\n",
       " Timestamp('2023-07-01 00:00:00'),\n",
       " Timestamp('2023-08-01 00:00:00'),\n",
       " Timestamp('2023-09-01 00:00:00')]"
      ]
     },
     "execution_count": 33,
     "metadata": {},
     "output_type": "execute_result"
    }
   ],
   "source": [
    "import pandas as pd\n",
    "\n",
    "# Fecha de inicio\n",
    "fecha_inicio = pd.Timestamp(2021, 1, 1)\n",
    "\n",
    "# Fecha de finalización\n",
    "fecha_fin = pd.Timestamp(2023, 9, 1)\n",
    "\n",
    "# Frecuencia mensual\n",
    "frecuencia = pd.DateOffset(months=1)\n",
    "\n",
    "# Lista para almacenar las fechas\n",
    "fechas = []\n",
    "\n",
    "# Bucle para generar las fechas mensuales\n",
    "while fecha_inicio <= fecha_fin:\n",
    "    fechas.append(fecha_inicio)\n",
    "    fecha_inicio += frecuencia\n",
    "\n",
    "fechas"
   ]
  },
  {
   "cell_type": "code",
   "execution_count": null,
   "id": "f71be3bd",
   "metadata": {},
   "outputs": [],
   "source": [
    "t = []\n",
    "t_1 = []\n",
    "\n",
    "for i in range(len(fechas)):\n",
    "    while mes <= fecha_fin:\n",
    "    fechas.append(fecha_inicio)\n",
    "    fecha_inicio += frecuencia"
   ]
  },
  {
   "cell_type": "code",
   "execution_count": 13,
   "id": "efbc7993",
   "metadata": {},
   "outputs": [
    {
     "data": {
      "text/plain": [
       "1689"
      ]
     },
     "execution_count": 13,
     "metadata": {},
     "output_type": "execute_result"
    }
   ],
   "source": [
    "len(raw_data['material_id'].unique())"
   ]
  },
  {
   "cell_type": "code",
   "execution_count": 42,
   "id": "cd5e485d",
   "metadata": {},
   "outputs": [],
   "source": [
    "Xt= p['t'][0:-1].reset_index(drop=True).rename('X_t')\n",
    "Xt_1 = p['t_1'][1::].reset_index(drop=True).rename('X_t+1')"
   ]
  },
  {
   "cell_type": "code",
   "execution_count": 43,
   "id": "c96fd5d5",
   "metadata": {},
   "outputs": [],
   "source": [
    "new_data=pd.concat((Xt, Xt_1), axis=1)"
   ]
  },
  {
   "cell_type": "code",
   "execution_count": 44,
   "id": "c09006d4",
   "metadata": {},
   "outputs": [
    {
     "data": {
      "text/html": [
       "<div>\n",
       "<style scoped>\n",
       "    .dataframe tbody tr th:only-of-type {\n",
       "        vertical-align: middle;\n",
       "    }\n",
       "\n",
       "    .dataframe tbody tr th {\n",
       "        vertical-align: top;\n",
       "    }\n",
       "\n",
       "    .dataframe thead th {\n",
       "        text-align: right;\n",
       "    }\n",
       "</style>\n",
       "<table border=\"1\" class=\"dataframe\">\n",
       "  <thead>\n",
       "    <tr style=\"text-align: right;\">\n",
       "      <th>X_t+1</th>\n",
       "      <th>0</th>\n",
       "      <th>1</th>\n",
       "    </tr>\n",
       "    <tr>\n",
       "      <th>X_t</th>\n",
       "      <th></th>\n",
       "      <th></th>\n",
       "    </tr>\n",
       "  </thead>\n",
       "  <tbody>\n",
       "    <tr>\n",
       "      <th>0</th>\n",
       "      <td>0.818182</td>\n",
       "      <td>0.181818</td>\n",
       "    </tr>\n",
       "    <tr>\n",
       "      <th>1</th>\n",
       "      <td>0.555556</td>\n",
       "      <td>0.444444</td>\n",
       "    </tr>\n",
       "  </tbody>\n",
       "</table>\n",
       "</div>"
      ],
      "text/plain": [
       "X_t+1         0         1\n",
       "X_t                      \n",
       "0      0.818182  0.181818\n",
       "1      0.555556  0.444444"
      ]
     },
     "execution_count": 44,
     "metadata": {},
     "output_type": "execute_result"
    }
   ],
   "source": [
    "matriz_transicion = new_data.groupby('X_t').value_counts(normalize=True).unstack(level='X_t+1')\n",
    "matriz_transicion= matriz_transicion.fillna(0)\n",
    "matriz_transicion"
   ]
  },
  {
   "cell_type": "code",
   "execution_count": 45,
   "id": "4bf2286b",
   "metadata": {},
   "outputs": [
    {
     "name": "stdout",
     "output_type": "stream",
     "text": [
      "Los eigenvalores de P son: [1.         0.26262626]\n",
      "Los eigenvectores de P son: [[ 0.70710678 -0.31103906]\n",
      " [ 0.70710678  0.95039713]]\n"
     ]
    }
   ],
   "source": [
    "## Descomposición espectral\n",
    "\n",
    "import numpy as np\n",
    "from numpy.linalg import eig, inv\n",
    "Lambda, Q = eig(matriz_transicion)\n",
    "print(\"Los eigenvalores de P son:\", Lambda)\n",
    "print(\"Los eigenvectores de P son:\", Q)"
   ]
  },
  {
   "cell_type": "code",
   "execution_count": 46,
   "id": "716679fb",
   "metadata": {},
   "outputs": [
    {
     "data": {
      "text/plain": [
       "array([[0.8182, 0.1818],\n",
       "       [0.5556, 0.4444]])"
      ]
     },
     "execution_count": 46,
     "metadata": {},
     "output_type": "execute_result"
    }
   ],
   "source": [
    "Q_1 = inv(Q)\n",
    "Lambda = np.diag(Lambda)\n",
    "PP = np.matmul(np.matmul(Q, Lambda), Q_1)\n",
    "PP.round(decimals = 4)"
   ]
  },
  {
   "cell_type": "code",
   "execution_count": 47,
   "id": "c5bcd6f5",
   "metadata": {},
   "outputs": [],
   "source": [
    "def pasos(n):\n",
    "    Lambda_n = Lambda**n\n",
    "    P_n = np.matmul(np.matmul(Q, Lambda_n), Q_1)\n",
    "    return P_n.round(decimals = 4)"
   ]
  },
  {
   "cell_type": "code",
   "execution_count": 48,
   "id": "22553792",
   "metadata": {},
   "outputs": [
    {
     "data": {
      "text/plain": [
       "array([[0.7537, 0.2463],\n",
       "       [0.7525, 0.2475]])"
      ]
     },
     "execution_count": 48,
     "metadata": {},
     "output_type": "execute_result"
    }
   ],
   "source": [
    "pasos(5)"
   ]
  },
  {
   "cell_type": "code",
   "execution_count": 49,
   "id": "24533409",
   "metadata": {},
   "outputs": [
    {
     "data": {
      "text/plain": [
       "array([[0.7534, 0.2466],\n",
       "       [0.7534, 0.2466]])"
      ]
     },
     "execution_count": 49,
     "metadata": {},
     "output_type": "execute_result"
    }
   ],
   "source": [
    "pasos(10)"
   ]
  },
  {
   "cell_type": "code",
   "execution_count": 50,
   "id": "d60ce95d",
   "metadata": {},
   "outputs": [
    {
     "data": {
      "text/plain": [
       "array([[0.7534, 0.2466],\n",
       "       [0.7534, 0.2466]])"
      ]
     },
     "execution_count": 50,
     "metadata": {},
     "output_type": "execute_result"
    }
   ],
   "source": [
    "pasos(15)"
   ]
  },
  {
   "cell_type": "code",
   "execution_count": 22,
   "id": "bdb4f695",
   "metadata": {},
   "outputs": [
    {
     "data": {
      "text/plain": [
       "array([[ 9.99700000e-01,  3.00000000e-04,  0.00000000e+00, ...,\n",
       "         2.16317869e+22,  3.62133347e+23, -1.33534641e+22],\n",
       "       [ 0.00000000e+00,  9.99700000e-01,  3.00000000e-04, ...,\n",
       "        -9.65261081e+20, -5.58997353e+22,  5.84001225e+22],\n",
       "       [ 0.00000000e+00,  0.00000000e+00,  9.99700000e-01, ...,\n",
       "        -2.77606162e+20, -1.59895843e+21,  1.97473608e+21],\n",
       "       ...,\n",
       "       [ 0.00000000e+00,  0.00000000e+00,  0.00000000e+00, ...,\n",
       "         9.99100000e-01,  9.00000000e-04,  0.00000000e+00],\n",
       "       [ 0.00000000e+00,  0.00000000e+00,  0.00000000e+00, ...,\n",
       "         0.00000000e+00,  9.99600000e-01,  4.00000000e-04],\n",
       "       [ 0.00000000e+00,  0.00000000e+00,  0.00000000e+00, ...,\n",
       "         0.00000000e+00,  0.00000000e+00,  1.00000000e+00]])"
      ]
     },
     "execution_count": 22,
     "metadata": {},
     "output_type": "execute_result"
    }
   ],
   "source": [
    "pasos(70)"
   ]
  },
  {
   "cell_type": "code",
   "execution_count": 23,
   "id": "c2edc915",
   "metadata": {},
   "outputs": [
    {
     "data": {
      "text/plain": [
       "array([[ 9.99600000e-01,  4.00000000e-04,  0.00000000e+00, ...,\n",
       "        -2.06518165e+22,  9.26123846e+21,  2.46836234e+23],\n",
       "       [ 0.00000000e+00,  9.99600000e-01,  4.00000000e-04, ...,\n",
       "        -2.86329607e+20, -2.19260740e+22,  5.90177614e+21],\n",
       "       [ 0.00000000e+00,  0.00000000e+00,  9.99700000e-01, ...,\n",
       "        -2.00404304e+20,  8.13479146e+20,  8.36384849e+20],\n",
       "       ...,\n",
       "       [ 0.00000000e+00,  0.00000000e+00,  0.00000000e+00, ...,\n",
       "         9.99000000e-01,  1.00000000e-03,  0.00000000e+00],\n",
       "       [ 0.00000000e+00,  0.00000000e+00,  0.00000000e+00, ...,\n",
       "         0.00000000e+00,  9.99600000e-01,  4.00000000e-04],\n",
       "       [ 0.00000000e+00,  0.00000000e+00,  0.00000000e+00, ...,\n",
       "         0.00000000e+00,  0.00000000e+00,  1.00000000e+00]])"
      ]
     },
     "execution_count": 23,
     "metadata": {},
     "output_type": "execute_result"
    }
   ],
   "source": [
    "pasos(75)"
   ]
  },
  {
   "cell_type": "code",
   "execution_count": 24,
   "id": "4b7b9547",
   "metadata": {},
   "outputs": [
    {
     "data": {
      "text/plain": [
       "array([[ 9.99500000e-01,  5.00000000e-04,  0.00000000e+00, ...,\n",
       "         2.86151151e+21,  2.07750117e+23,  3.02727090e+23],\n",
       "       [ 0.00000000e+00,  9.99500000e-01,  5.00000000e-04, ...,\n",
       "         1.31341891e+21, -1.90641333e+22, -2.75830580e+22],\n",
       "       [ 0.00000000e+00,  0.00000000e+00,  9.99600000e-01, ...,\n",
       "        -2.29001423e+20,  8.31690610e+20, -2.18168860e+21],\n",
       "       ...,\n",
       "       [ 0.00000000e+00,  0.00000000e+00,  0.00000000e+00, ...,\n",
       "         9.98700000e-01,  1.30000000e-03,  0.00000000e+00],\n",
       "       [ 0.00000000e+00,  0.00000000e+00,  0.00000000e+00, ...,\n",
       "         0.00000000e+00,  9.99500000e-01,  5.00000000e-04],\n",
       "       [ 0.00000000e+00,  0.00000000e+00,  0.00000000e+00, ...,\n",
       "         0.00000000e+00,  0.00000000e+00,  1.00000000e+00]])"
      ]
     },
     "execution_count": 24,
     "metadata": {},
     "output_type": "execute_result"
    }
   ],
   "source": [
    "pasos(100)"
   ]
  },
  {
   "cell_type": "code",
   "execution_count": 25,
   "id": "db1e163a",
   "metadata": {},
   "outputs": [
    {
     "data": {
      "text/plain": [
       "array([[ 9.99500000e-01,  5.00000000e-04,  0.00000000e+00, ...,\n",
       "         2.88253347e+22,  2.00173236e+23,  9.27700083e+22],\n",
       "       [ 0.00000000e+00,  9.99500000e-01,  5.00000000e-04, ...,\n",
       "         2.20819546e+21,  2.29997356e+22,  4.26478690e+21],\n",
       "       [ 0.00000000e+00,  0.00000000e+00,  9.99500000e-01, ...,\n",
       "        -2.44033263e+19,  2.90549400e+21, -4.02318241e+21],\n",
       "       ...,\n",
       "       [ 0.00000000e+00,  0.00000000e+00,  0.00000000e+00, ...,\n",
       "         9.98600000e-01,  1.40000000e-03,  0.00000000e+00],\n",
       "       [ 0.00000000e+00,  0.00000000e+00,  0.00000000e+00, ...,\n",
       "         0.00000000e+00,  9.99400000e-01,  6.00000000e-04],\n",
       "       [ 0.00000000e+00,  0.00000000e+00,  0.00000000e+00, ...,\n",
       "         0.00000000e+00,  0.00000000e+00,  1.00000000e+00]])"
      ]
     },
     "execution_count": 25,
     "metadata": {},
     "output_type": "execute_result"
    }
   ],
   "source": [
    "pasos(110)"
   ]
  },
  {
   "cell_type": "code",
   "execution_count": null,
   "id": "dbfd5b21",
   "metadata": {},
   "outputs": [],
   "source": []
  }
 ],
 "metadata": {
  "kernelspec": {
   "display_name": "Python 3",
   "language": "python",
   "name": "python3"
  },
  "language_info": {
   "codemirror_mode": {
    "name": "ipython",
    "version": 3
   },
   "file_extension": ".py",
   "mimetype": "text/x-python",
   "name": "python",
   "nbconvert_exporter": "python",
   "pygments_lexer": "ipython3",
   "version": "3.9.13"
  }
 },
 "nbformat": 4,
 "nbformat_minor": 5
}
