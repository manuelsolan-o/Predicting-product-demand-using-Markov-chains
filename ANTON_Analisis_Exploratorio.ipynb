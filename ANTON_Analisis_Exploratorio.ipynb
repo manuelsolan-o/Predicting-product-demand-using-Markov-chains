{
 "cells": [
  {
   "cell_type": "code",
   "execution_count": 3,
   "metadata": {},
   "outputs": [],
   "source": [
    "import os\n",
    "import pandas as pd\n",
    "#import NUMEXPR_INSTALLED"
   ]
  },
  {
   "cell_type": "code",
   "execution_count": 5,
   "metadata": {},
   "outputs": [
    {
     "data": {
      "text/html": [
       "<div>\n",
       "<style scoped>\n",
       "    .dataframe tbody tr th:only-of-type {\n",
       "        vertical-align: middle;\n",
       "    }\n",
       "\n",
       "    .dataframe tbody tr th {\n",
       "        vertical-align: top;\n",
       "    }\n",
       "\n",
       "    .dataframe thead th {\n",
       "        text-align: right;\n",
       "    }\n",
       "</style>\n",
       "<table border=\"1\" class=\"dataframe\">\n",
       "  <thead>\n",
       "    <tr style=\"text-align: right;\">\n",
       "      <th></th>\n",
       "      <th>periodo</th>\n",
       "      <th>cliente_id</th>\n",
       "      <th>material_id</th>\n",
       "      <th>tipo_cliente</th>\n",
       "    </tr>\n",
       "  </thead>\n",
       "  <tbody>\n",
       "    <tr>\n",
       "      <th>0</th>\n",
       "      <td>05-2022</td>\n",
       "      <td>4894.0</td>\n",
       "      <td>22.0</td>\n",
       "      <td>Distribuidor</td>\n",
       "    </tr>\n",
       "    <tr>\n",
       "      <th>1</th>\n",
       "      <td>05-2022</td>\n",
       "      <td>4769.0</td>\n",
       "      <td>17.0</td>\n",
       "      <td>Distribuidor</td>\n",
       "    </tr>\n",
       "    <tr>\n",
       "      <th>2</th>\n",
       "      <td>05-2022</td>\n",
       "      <td>4823.0</td>\n",
       "      <td>227.0</td>\n",
       "      <td>Distribuidor</td>\n",
       "    </tr>\n",
       "    <tr>\n",
       "      <th>3</th>\n",
       "      <td>08-2022</td>\n",
       "      <td>4816.0</td>\n",
       "      <td>340.0</td>\n",
       "      <td>Distribuidor</td>\n",
       "    </tr>\n",
       "    <tr>\n",
       "      <th>4</th>\n",
       "      <td>08-2022</td>\n",
       "      <td>4888.0</td>\n",
       "      <td>270.0</td>\n",
       "      <td>Distribuidor</td>\n",
       "    </tr>\n",
       "  </tbody>\n",
       "</table>\n",
       "</div>"
      ],
      "text/plain": [
       "   periodo  cliente_id  material_id  tipo_cliente\n",
       "0  05-2022      4894.0         22.0  Distribuidor\n",
       "1  05-2022      4769.0         17.0  Distribuidor\n",
       "2  05-2022      4823.0        227.0  Distribuidor\n",
       "3  08-2022      4816.0        340.0  Distribuidor\n",
       "4  08-2022      4888.0        270.0  Distribuidor"
      ]
     },
     "execution_count": 5,
     "metadata": {},
     "output_type": "execute_result"
    }
   ],
   "source": [
    "raw_data = pd.read_parquet('data/tec_estocasticos.parquet', engine='pyarrow')\n",
    "raw_data.head()"
   ]
  },
  {
   "cell_type": "code",
   "execution_count": null,
   "metadata": {},
   "outputs": [],
   "source": []
  }
 ],
 "metadata": {
  "kernelspec": {
   "display_name": "Python 3",
   "language": "python",
   "name": "python3"
  },
  "language_info": {
   "codemirror_mode": {
    "name": "ipython",
    "version": 3
   },
   "file_extension": ".py",
   "mimetype": "text/x-python",
   "name": "python",
   "nbconvert_exporter": "python",
   "pygments_lexer": "ipython3",
   "version": "3.8.5"
  }
 },
 "nbformat": 4,
 "nbformat_minor": 5
}
