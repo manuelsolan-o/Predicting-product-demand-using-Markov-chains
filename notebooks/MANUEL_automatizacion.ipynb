{
 "cells": [
  {
   "cell_type": "markdown",
   "id": "ddcbf9f1",
   "metadata": {},
   "source": [
    "# Mi cadena de markov"
   ]
  },
  {
   "cell_type": "markdown",
   "id": "cc9d761e",
   "metadata": {},
   "source": [
    "## Bibliotecas"
   ]
  },
  {
   "cell_type": "code",
   "execution_count": 1,
   "id": "2cb20bfa",
   "metadata": {},
   "outputs": [],
   "source": [
    "# Warnings ---------------------------------------------------------------------------------------------------\n",
    "\n",
    "import warnings\n",
    "warnings.filterwarnings(\"ignore\")\n",
    "\n",
    "# Lectura y manipulación de datos ----------------------------------------------------------------------------\n",
    "\n",
    "import pandas as pd\n",
    "\n",
    "# Descomposición espectral -----------------------------------------------------------------------------------\n",
    "\n",
    "import numpy as np\n",
    "from numpy.linalg import eig, inv\n"
   ]
  },
  {
   "cell_type": "markdown",
   "id": "e3ad6694",
   "metadata": {},
   "source": [
    "## Lectura de la base de datos"
   ]
  },
  {
   "cell_type": "code",
   "execution_count": 2,
   "id": "3ace3f56",
   "metadata": {},
   "outputs": [],
   "source": [
    "data = pd.read_parquet('data/tec_estocasticos.parquet', engine='pyarrow')"
   ]
  },
  {
   "cell_type": "code",
   "execution_count": 3,
   "id": "e421ef41",
   "metadata": {},
   "outputs": [
    {
     "data": {
      "text/html": [
       "<div>\n",
       "<style scoped>\n",
       "    .dataframe tbody tr th:only-of-type {\n",
       "        vertical-align: middle;\n",
       "    }\n",
       "\n",
       "    .dataframe tbody tr th {\n",
       "        vertical-align: top;\n",
       "    }\n",
       "\n",
       "    .dataframe thead th {\n",
       "        text-align: right;\n",
       "    }\n",
       "</style>\n",
       "<table border=\"1\" class=\"dataframe\">\n",
       "  <thead>\n",
       "    <tr style=\"text-align: right;\">\n",
       "      <th></th>\n",
       "      <th>periodo</th>\n",
       "      <th>cliente_id</th>\n",
       "      <th>material_id</th>\n",
       "      <th>tipo_cliente</th>\n",
       "    </tr>\n",
       "  </thead>\n",
       "  <tbody>\n",
       "    <tr>\n",
       "      <th>0</th>\n",
       "      <td>05-2022</td>\n",
       "      <td>4894.0</td>\n",
       "      <td>22.0</td>\n",
       "      <td>Distribuidor</td>\n",
       "    </tr>\n",
       "    <tr>\n",
       "      <th>1</th>\n",
       "      <td>05-2022</td>\n",
       "      <td>4769.0</td>\n",
       "      <td>17.0</td>\n",
       "      <td>Distribuidor</td>\n",
       "    </tr>\n",
       "    <tr>\n",
       "      <th>2</th>\n",
       "      <td>05-2022</td>\n",
       "      <td>4823.0</td>\n",
       "      <td>227.0</td>\n",
       "      <td>Distribuidor</td>\n",
       "    </tr>\n",
       "    <tr>\n",
       "      <th>3</th>\n",
       "      <td>08-2022</td>\n",
       "      <td>4816.0</td>\n",
       "      <td>340.0</td>\n",
       "      <td>Distribuidor</td>\n",
       "    </tr>\n",
       "    <tr>\n",
       "      <th>4</th>\n",
       "      <td>08-2022</td>\n",
       "      <td>4888.0</td>\n",
       "      <td>270.0</td>\n",
       "      <td>Distribuidor</td>\n",
       "    </tr>\n",
       "    <tr>\n",
       "      <th>...</th>\n",
       "      <td>...</td>\n",
       "      <td>...</td>\n",
       "      <td>...</td>\n",
       "      <td>...</td>\n",
       "    </tr>\n",
       "    <tr>\n",
       "      <th>6973895</th>\n",
       "      <td>05-2022</td>\n",
       "      <td>1816.0</td>\n",
       "      <td>1861.0</td>\n",
       "      <td>Farmacia</td>\n",
       "    </tr>\n",
       "    <tr>\n",
       "      <th>6973896</th>\n",
       "      <td>05-2022</td>\n",
       "      <td>1725.0</td>\n",
       "      <td>1373.0</td>\n",
       "      <td>Hospital</td>\n",
       "    </tr>\n",
       "    <tr>\n",
       "      <th>6973897</th>\n",
       "      <td>05-2022</td>\n",
       "      <td>588.0</td>\n",
       "      <td>2249.0</td>\n",
       "      <td>Hospital</td>\n",
       "    </tr>\n",
       "    <tr>\n",
       "      <th>6973898</th>\n",
       "      <td>05-2022</td>\n",
       "      <td>565.0</td>\n",
       "      <td>191.0</td>\n",
       "      <td>Hospital</td>\n",
       "    </tr>\n",
       "    <tr>\n",
       "      <th>6973899</th>\n",
       "      <td>05-2022</td>\n",
       "      <td>1108.0</td>\n",
       "      <td>2160.0</td>\n",
       "      <td>Hospital</td>\n",
       "    </tr>\n",
       "  </tbody>\n",
       "</table>\n",
       "<p>6973900 rows × 4 columns</p>\n",
       "</div>"
      ],
      "text/plain": [
       "         periodo  cliente_id  material_id  tipo_cliente\n",
       "0        05-2022      4894.0         22.0  Distribuidor\n",
       "1        05-2022      4769.0         17.0  Distribuidor\n",
       "2        05-2022      4823.0        227.0  Distribuidor\n",
       "3        08-2022      4816.0        340.0  Distribuidor\n",
       "4        08-2022      4888.0        270.0  Distribuidor\n",
       "...          ...         ...          ...           ...\n",
       "6973895  05-2022      1816.0       1861.0      Farmacia\n",
       "6973896  05-2022      1725.0       1373.0      Hospital\n",
       "6973897  05-2022       588.0       2249.0      Hospital\n",
       "6973898  05-2022       565.0        191.0      Hospital\n",
       "6973899  05-2022      1108.0       2160.0      Hospital\n",
       "\n",
       "[6973900 rows x 4 columns]"
      ]
     },
     "execution_count": 3,
     "metadata": {},
     "output_type": "execute_result"
    }
   ],
   "source": [
    "data"
   ]
  },
  {
   "cell_type": "code",
   "execution_count": null,
   "id": "097ac880",
   "metadata": {},
   "outputs": [],
   "source": [
    "data['periodo'] = pd.to_datetime(data['periodo'])\n",
    "data.sort_values(by='periodo', inplace=True)\n",
    "data.dropna(inplace=True)\n",
    "data.reset_index(inplace=True)\n",
    "data.drop('index', axis = 1,inplace=True)\n",
    "data"
   ]
  },
  {
   "cell_type": "markdown",
   "id": "beb3f45b",
   "metadata": {},
   "source": [
    "### Tipos de Cliente"
   ]
  },
  {
   "cell_type": "code",
   "execution_count": null,
   "id": "73a7ed7c",
   "metadata": {},
   "outputs": [],
   "source": [
    "data['tipo_cliente'].unique()"
   ]
  },
  {
   "cell_type": "markdown",
   "id": "ce41ce04",
   "metadata": {},
   "source": [
    "## Función para obtener la matriz de transición de un cliente comprando un determinado producto"
   ]
  },
  {
   "cell_type": "code",
   "execution_count": null,
   "id": "0695ebb3",
   "metadata": {},
   "outputs": [],
   "source": [
    "def matriz_transicion(tipo_cliente, cliente_id, material_id):\n",
    "    \n",
    "    # Subset\n",
    "    cliente_tipo = data.loc[data['tipo_cliente'] == tipo_cliente]\n",
    "    pruducto = cliente_tipo.loc[cliente_tipo['material_id'] == material_id]\n",
    "    id_cliente = pruducto.loc[pruducto['cliente_id'] == cliente_id]\n",
    "    id_cliente.reset_index(inplace = True)\n",
    "    id_cliente.drop('index', axis = 1, inplace = True)\n",
    "    \n",
    "    # Estados: Compró o no compró\n",
    "    \n",
    "    t = [0]\n",
    "\n",
    "    for x in range(0, len(id_cliente['periodo'])-2):\n",
    "        if (id_cliente['periodo'][x+1] - id_cliente['periodo'][x]).days <= 31:\n",
    "            t.append(0)\n",
    "        else:\n",
    "            for _ in range(((id_cliente['periodo'][x+1] - id_cliente['periodo'][x]).days // 30)-1):\n",
    "                t.append(1)\n",
    "            t.append(0)\n",
    "    \n",
    "    t_1 = []\n",
    "\n",
    "    for x in range(0, len(id_cliente['periodo'])-1):\n",
    "        if (id_cliente['periodo'][x+1] - id_cliente['periodo'][x]).days <= 31:\n",
    "            t_1.append(0)\n",
    "        else:\n",
    "            for _ in range(((id_cliente['periodo'][x+1] - id_cliente['periodo'][x]).days // 30)-1):\n",
    "                t_1.append(1)\n",
    "            t_1.append(0)\n",
    "            \n",
    "\n",
    "    estados = pd.DataFrame()\n",
    "\n",
    "    estados['t'] = t\n",
    "    estados['t_1'] = t_1\n",
    "    \n",
    "    Xt = estados['t'][0:-1].reset_index(drop=True).rename('X_t')\n",
    "    Xt_1 = estados['t_1'][1::].reset_index(drop=True).rename('X_t+1')\n",
    "    \n",
    "    new_data=pd.concat((Xt, Xt_1), axis=1)\n",
    "    \n",
    "    matriz_transicion = new_data.groupby('X_t').value_counts(normalize=True).unstack(level='X_t+1')\n",
    "    matriz_transicion= matriz_transicion.fillna(0)\n",
    "    \n",
    "    return matriz_transicion"
   ]
  },
  {
   "cell_type": "code",
   "execution_count": null,
   "id": "7b70cce4",
   "metadata": {},
   "outputs": [],
   "source": [
    " matriz_transicion('Distribuidor', 4769.0, 17.0)"
   ]
  },
  {
   "cell_type": "code",
   "execution_count": null,
   "id": "aa75afc7",
   "metadata": {},
   "outputs": [],
   "source": [
    "matriz_transicion =  matriz_transicion('Distribuidor', 4769.0, 17.0)"
   ]
  },
  {
   "cell_type": "markdown",
   "id": "c7879cdf",
   "metadata": {},
   "source": [
    "## Descomposición espectral"
   ]
  },
  {
   "cell_type": "code",
   "execution_count": null,
   "id": "4bf2286b",
   "metadata": {},
   "outputs": [],
   "source": [
    "## Descomposición espectral\n",
    "\n",
    "import numpy as np\n",
    "from numpy.linalg import eig, inv\n",
    "Lambda, Q = eig(matriz_transicion)\n",
    "print(\"Los eigenvalores de P son:\", Lambda)\n",
    "print(\"Los eigenvectores de P son:\", Q)"
   ]
  },
  {
   "cell_type": "code",
   "execution_count": null,
   "id": "716679fb",
   "metadata": {},
   "outputs": [],
   "source": [
    "Q_1 = inv(Q)\n",
    "Lambda = np.diag(Lambda)\n",
    "PP = np.matmul(np.matmul(Q, Lambda), Q_1)\n",
    "PP.round(decimals = 4)"
   ]
  },
  {
   "cell_type": "markdown",
   "id": "c814fa5c",
   "metadata": {},
   "source": [
    "## Consultar probabilidad en tiempo n"
   ]
  },
  {
   "cell_type": "code",
   "execution_count": null,
   "id": "c5bcd6f5",
   "metadata": {},
   "outputs": [],
   "source": [
    "def pasos(n):\n",
    "    Lambda_n = Lambda**n\n",
    "    P_n = np.matmul(np.matmul(Q, Lambda_n), Q_1)\n",
    "    \n",
    "    df = pd.DataFrame(P_n.round(decimals = 4), index=['Compra', 'No compra'])\n",
    "    df.rename(columns = {0:'Compra'}, inplace = True)\n",
    "    df.rename(columns = {1:'No Compra'}, inplace = True)\n",
    "    return df"
   ]
  },
  {
   "cell_type": "code",
   "execution_count": null,
   "id": "22553792",
   "metadata": {},
   "outputs": [],
   "source": [
    "pasos(5)"
   ]
  },
  {
   "cell_type": "code",
   "execution_count": null,
   "id": "24533409",
   "metadata": {},
   "outputs": [],
   "source": [
    "pasos(10)"
   ]
  },
  {
   "cell_type": "code",
   "execution_count": null,
   "id": "d60ce95d",
   "metadata": {},
   "outputs": [],
   "source": [
    "pasos(15)"
   ]
  },
  {
   "cell_type": "code",
   "execution_count": null,
   "id": "1ccfca91",
   "metadata": {},
   "outputs": [],
   "source": [
    "data.loc[data['tipo_cliente'] == 'Hospital']"
   ]
  },
  {
   "cell_type": "markdown",
   "id": "8a57ccac",
   "metadata": {},
   "source": [
    "## Dropdown"
   ]
  },
  {
   "cell_type": "code",
   "execution_count": null,
   "id": "d3b1057e",
   "metadata": {},
   "outputs": [],
   "source": [
    "import ipywidgets as widgets\n",
    "from IPython.display import display\n",
    "import matplotlib.pyplot as plt\n",
    "import numpy as np"
   ]
  },
  {
   "cell_type": "code",
   "execution_count": null,
   "id": "e5a31c23",
   "metadata": {},
   "outputs": [],
   "source": [
    "# ------\n",
    "\n",
    "tipo_cliente = list(data['tipo_cliente'].unique())\n",
    "\n",
    "cliente_id = {}\n",
    "\n",
    "for x in tipo_cliente:\n",
    "        cliente_id[x] = list(data.loc[data['tipo_cliente'] == x]['cliente_id'].unique())\n",
    "\n",
    "boton1 = widgets.Dropdown(options=tipo_cliente, description='Tipo cliente:')\n",
    "boton2 = widgets.Dropdown(options=[], description='Cliente id:')\n",
    "\n",
    "\n",
    "def actualizar_opciones(*args):\n",
    "    boton2.options = cliente_id[boton1.value]\n",
    "\n",
    "boton1.observe(actualizar_opciones, 'value')\n",
    "\n",
    "\n",
    "# -----\n",
    "\n",
    "material_id = list(data['material_id'].unique()) \n",
    "      \n",
    "boton3 = widgets.Dropdown(options =material_id, description='Material id:')\n",
    "\n",
    "pasos_t = list(range(1,51))\n",
    "\n",
    "boton4 = widgets.Dropdown(options= pasos_t, description='Pasos:')\n",
    "\n",
    "\n",
    "# Función para la visualización con parámetros\n",
    "def valores(tipo_cliente, cliente_id, material_id, pasos_t):\n",
    "    \n",
    "    try: \n",
    "        Lambda, Q = eig(matriz_transicion(tipo_cliente, cliente_id, material_id))\n",
    "        Q_1 = inv(Q)\n",
    "        Lambda = np.diag(Lambda)\n",
    "        PP = np.matmul(np.matmul(Q, Lambda), Q_1)\n",
    "\n",
    "        Lambda_n = Lambda**pasos_t\n",
    "        P_n = np.matmul(np.matmul(Q, Lambda_n), Q_1)\n",
    "\n",
    "        df = pd.DataFrame(P_n.round(decimals = 4), index=['Compra', 'No compra'])\n",
    "        df.rename(columns = {0:'Compra'}, inplace = True)\n",
    "        df.rename(columns = {1:'No Compra'}, inplace = True)\n",
    "    \n",
    "    except:\n",
    "        return print('No existe información de ese cliente comprando ese producto')\n",
    "    return print(df)\n",
    "\n",
    "\n",
    "widgets.interactive(valores, \n",
    "                    tipo_cliente=boton1, \n",
    "                    cliente_id=boton2,\n",
    "                    material_id=boton3,\n",
    "                    pasos_t = boton4)\n"
   ]
  },
  {
   "cell_type": "code",
   "execution_count": null,
   "id": "60926af9",
   "metadata": {},
   "outputs": [],
   "source": [
    "tipo_cliente = list(data['tipo_cliente'].unique())\n",
    "\n",
    "cliente_id = {}\n",
    "\n",
    "for x in tipo_cliente:\n",
    "    cliente_id[x] = list(data.loc[data['tipo_cliente'] == x]['cliente_id'].unique())\n",
    "        \n",
    "        \n",
    "cliente_id"
   ]
  },
  {
   "cell_type": "code",
   "execution_count": null,
   "id": "9fe9d22a",
   "metadata": {},
   "outputs": [],
   "source": [
    "material_id = {}\n",
    "\n",
    "for x in tipo_cliente:\n",
    "    for i in cliente_id[x]:\n",
    "        material_id[i] = list(data.loc[data['cliente_id'] == i]['material_id'].unique())"
   ]
  },
  {
   "cell_type": "code",
   "execution_count": null,
   "id": "ab2f4d2f",
   "metadata": {},
   "outputs": [],
   "source": [
    "material_id"
   ]
  },
  {
   "cell_type": "code",
   "execution_count": null,
   "id": "7fcdd975",
   "metadata": {},
   "outputs": [],
   "source": [
    "cliente_id['Hospital']"
   ]
  },
  {
   "cell_type": "code",
   "execution_count": null,
   "id": "d6d5eaa6",
   "metadata": {},
   "outputs": [],
   "source": []
  },
  {
   "cell_type": "code",
   "execution_count": null,
   "id": "5b8bf9bd",
   "metadata": {},
   "outputs": [],
   "source": [
    "# Markdown Funcional\n",
    "\n",
    "# Opciones\n",
    "\n",
    "tipo_cliente = list(data['tipo_cliente'].unique())\n",
    "\n",
    "cliente_id = list(data['cliente_id'].unique()) \n",
    "\n",
    "material_id = list(data['material_id'].unique()) \n",
    "\n",
    "pasos_t = list(range(1,51))\n",
    "\n",
    "# Botones\n",
    "\n",
    "dropdown_tipo_cliente = widgets.Dropdown(\n",
    "    options=tipo_cliente,\n",
    "    description=\"tipo_cliente:\"\n",
    ")\n",
    "\n",
    "dropdown_cliente_id = widgets.Dropdown(\n",
    "    options=cliente_id,\n",
    "    description=\"cliente_id:\"\n",
    ")\n",
    "\n",
    "dropdown_material_id = widgets.Dropdown(\n",
    "    options= material_id,\n",
    "    description=\"material_id:\"\n",
    ")\n",
    "\n",
    "dropdown_pasos = widgets.Dropdown(\n",
    "    options=pasos_t,\n",
    "    description=\"pasos:\"\n",
    ")\n",
    "\n",
    "\n",
    "# Función para la visualización con parámetros\n",
    "def valores(tipo_cliente, cliente_id, material_id, pasos_t):\n",
    "    \n",
    "    try: \n",
    "        Lambda, Q = eig(matriz_transicion(tipo_cliente, cliente_id, material_id))\n",
    "        Q_1 = inv(Q)\n",
    "        Lambda = np.diag(Lambda)\n",
    "        PP = np.matmul(np.matmul(Q, Lambda), Q_1)\n",
    "\n",
    "        Lambda_n = Lambda**pasos_t\n",
    "        P_n = np.matmul(np.matmul(Q, Lambda_n), Q_1)\n",
    "\n",
    "        df = pd.DataFrame(P_n.round(decimals = 4), index=['Compra', 'No compra'])\n",
    "        df.rename(columns = {0:'Compra'}, inplace = True)\n",
    "        df.rename(columns = {1:'No Compra'}, inplace = True)\n",
    "    \n",
    "    except:\n",
    "        return print('No existe información de ese cliente comprando ese producto')\n",
    "    return print(df)\n",
    "\n",
    "widgets.interactive(valores, \n",
    "                    tipo_cliente=dropdown_tipo_cliente, \n",
    "                    cliente_id=dropdown_cliente_id,\n",
    "                    material_id=dropdown_material_id,\n",
    "                    pasos_t = dropdown_pasos)"
   ]
  },
  {
   "cell_type": "code",
   "execution_count": null,
   "id": "199febfa",
   "metadata": {},
   "outputs": [],
   "source": [
    "import ipywidgets as widgets\n",
    "from IPython.display import display\n",
    "\n",
    "# Define las opciones iniciales para el primer y segundo botón\n",
    "opciones_boton1 = ['Opción A', 'Opción B', 'Opción C']\n",
    "opciones_boton2 = {\n",
    "    'Opción A': ['A1', 'A2'],\n",
    "    'Opción B': ['B1', 'B2', 'B3'],\n",
    "    'Opción C': ['C1', 'C2', 'C3']\n",
    "}\n",
    "\n",
    "opciones_boton1 = list(data['tipo_cliente'].unique())\n",
    "\n",
    "opciones_boton2 = {}\n",
    "\n",
    "for x in opciones_boton1:\n",
    "        opciones_boton2[x] = list(data.loc[data['tipo_cliente'] == x]['cliente_id'].unique())\n",
    "\n",
    "# Crea los widgets para los botones desplegables\n",
    "boton1 = widgets.Dropdown(options=opciones_boton1, description='Botón 1:')\n",
    "boton2 = widgets.Dropdown(options=[], description='Botón 2:')\n",
    "\n",
    "# Función para actualizar las opciones del botón 2 según la selección en el botón 1\n",
    "def actualizar_opciones(*args):\n",
    "    boton2.options = opciones_boton2[boton1.value]\n",
    "\n",
    "# Vincula la función de actualización al evento de cambio en el botón 1\n",
    "boton1.observe(actualizar_opciones, 'value')\n",
    "\n",
    "# Muestra los widgets\n",
    "display(boton1, boton2)\n"
   ]
  },
  {
   "cell_type": "code",
   "execution_count": null,
   "id": "2fdbd8d1",
   "metadata": {},
   "outputs": [],
   "source": [
    "opciones_boton2"
   ]
  },
  {
   "cell_type": "code",
   "execution_count": null,
   "id": "374709a5",
   "metadata": {},
   "outputs": [],
   "source": [
    "tipo_cliente = list(data['tipo_cliente'].unique())\n",
    "\n",
    "cliente_id = {}\n",
    "\n",
    "for x in tipo_cliente:\n",
    "    cliente_id[x] = list(data.loc[data['tipo_cliente'] == x]['cliente_id'].unique())\n",
    "    \n",
    "material_id = {}\n",
    "\n",
    "for x in cliente_id.keys():\n",
    "    for i in cliente_id[x]:\n",
    "        material_id[i] = list(data.loc[data['cliente_id'] == i]['material_id'].unique())"
   ]
  },
  {
   "cell_type": "code",
   "execution_count": null,
   "id": "d3fcb53d",
   "metadata": {},
   "outputs": [],
   "source": [
    "material_id"
   ]
  },
  {
   "cell_type": "code",
   "execution_count": null,
   "id": "a536dc7a",
   "metadata": {},
   "outputs": [],
   "source": [
    "cliente_id.values()"
   ]
  },
  {
   "cell_type": "code",
   "execution_count": null,
   "id": "e0ddbf90",
   "metadata": {},
   "outputs": [],
   "source": [
    "material_id"
   ]
  },
  {
   "cell_type": "code",
   "execution_count": 4,
   "id": "3f79f97d",
   "metadata": {},
   "outputs": [],
   "source": [
    "data.to_csv('data.csv')"
   ]
  }
 ],
 "metadata": {
  "kernelspec": {
   "display_name": "Python 3 (ipykernel)",
   "language": "python",
   "name": "python3"
  },
  "language_info": {
   "codemirror_mode": {
    "name": "ipython",
    "version": 3
   },
   "file_extension": ".py",
   "mimetype": "text/x-python",
   "name": "python",
   "nbconvert_exporter": "python",
   "pygments_lexer": "ipython3",
   "version": "3.11.4"
  }
 },
 "nbformat": 4,
 "nbformat_minor": 5
}
