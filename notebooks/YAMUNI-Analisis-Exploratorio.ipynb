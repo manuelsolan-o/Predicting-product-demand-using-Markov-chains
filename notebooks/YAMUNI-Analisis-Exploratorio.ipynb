{
 "cells": [
  {
   "cell_type": "code",
   "execution_count": 2,
   "id": "29dd523f",
   "metadata": {},
   "outputs": [],
   "source": [
    "import pandas as pd"
   ]
  },
  {
   "cell_type": "code",
   "execution_count": 18,
   "id": "08a60e50",
   "metadata": {},
   "outputs": [
    {
     "data": {
      "text/html": [
       "<div>\n",
       "<style scoped>\n",
       "    .dataframe tbody tr th:only-of-type {\n",
       "        vertical-align: middle;\n",
       "    }\n",
       "\n",
       "    .dataframe tbody tr th {\n",
       "        vertical-align: top;\n",
       "    }\n",
       "\n",
       "    .dataframe thead th {\n",
       "        text-align: right;\n",
       "    }\n",
       "</style>\n",
       "<table border=\"1\" class=\"dataframe\">\n",
       "  <thead>\n",
       "    <tr style=\"text-align: right;\">\n",
       "      <th></th>\n",
       "      <th>periodo</th>\n",
       "      <th>cliente_id</th>\n",
       "      <th>material_id</th>\n",
       "      <th>tipo_cliente</th>\n",
       "    </tr>\n",
       "  </thead>\n",
       "  <tbody>\n",
       "    <tr>\n",
       "      <th>0</th>\n",
       "      <td>05-2022</td>\n",
       "      <td>4894.0</td>\n",
       "      <td>22.0</td>\n",
       "      <td>Distribuidor</td>\n",
       "    </tr>\n",
       "    <tr>\n",
       "      <th>1</th>\n",
       "      <td>05-2022</td>\n",
       "      <td>4769.0</td>\n",
       "      <td>17.0</td>\n",
       "      <td>Distribuidor</td>\n",
       "    </tr>\n",
       "    <tr>\n",
       "      <th>2</th>\n",
       "      <td>05-2022</td>\n",
       "      <td>4823.0</td>\n",
       "      <td>227.0</td>\n",
       "      <td>Distribuidor</td>\n",
       "    </tr>\n",
       "    <tr>\n",
       "      <th>3</th>\n",
       "      <td>08-2022</td>\n",
       "      <td>4816.0</td>\n",
       "      <td>340.0</td>\n",
       "      <td>Distribuidor</td>\n",
       "    </tr>\n",
       "    <tr>\n",
       "      <th>4</th>\n",
       "      <td>08-2022</td>\n",
       "      <td>4888.0</td>\n",
       "      <td>270.0</td>\n",
       "      <td>Distribuidor</td>\n",
       "    </tr>\n",
       "  </tbody>\n",
       "</table>\n",
       "</div>"
      ],
      "text/plain": [
       "   periodo  cliente_id  material_id  tipo_cliente\n",
       "0  05-2022      4894.0         22.0  Distribuidor\n",
       "1  05-2022      4769.0         17.0  Distribuidor\n",
       "2  05-2022      4823.0        227.0  Distribuidor\n",
       "3  08-2022      4816.0        340.0  Distribuidor\n",
       "4  08-2022      4888.0        270.0  Distribuidor"
      ]
     },
     "execution_count": 18,
     "metadata": {},
     "output_type": "execute_result"
    }
   ],
   "source": [
    "df = pd.read_parquet('data/tec_estocasticos.parquet', engine = 'pyarrow')\n",
    "df.head()"
   ]
  },
  {
   "cell_type": "code",
   "execution_count": 19,
   "id": "aa52b37e",
   "metadata": {},
   "outputs": [
    {
     "name": "stdout",
     "output_type": "stream",
     "text": [
      "<class 'pandas.core.frame.DataFrame'>\n",
      "RangeIndex: 6973900 entries, 0 to 6973899\n",
      "Data columns (total 4 columns):\n",
      " #   Column        Dtype  \n",
      "---  ------        -----  \n",
      " 0   periodo       object \n",
      " 1   cliente_id    float64\n",
      " 2   material_id   float64\n",
      " 3   tipo_cliente  object \n",
      "dtypes: float64(2), object(2)\n",
      "memory usage: 212.8+ MB\n"
     ]
    }
   ],
   "source": [
    "df.info()"
   ]
  },
  {
   "cell_type": "code",
   "execution_count": 20,
   "id": "a543e3ef",
   "metadata": {},
   "outputs": [],
   "source": [
    "df['periodo'] = pd.to_datetime(df['periodo'], format='%m-%Y')\n",
    "df = df.sort_values(by = 'periodo')\n",
    "df = df.reset_index(drop = True)"
   ]
  },
  {
   "cell_type": "code",
   "execution_count": 21,
   "id": "ff834c58",
   "metadata": {},
   "outputs": [
    {
     "data": {
      "text/html": [
       "<div>\n",
       "<style scoped>\n",
       "    .dataframe tbody tr th:only-of-type {\n",
       "        vertical-align: middle;\n",
       "    }\n",
       "\n",
       "    .dataframe tbody tr th {\n",
       "        vertical-align: top;\n",
       "    }\n",
       "\n",
       "    .dataframe thead th {\n",
       "        text-align: right;\n",
       "    }\n",
       "</style>\n",
       "<table border=\"1\" class=\"dataframe\">\n",
       "  <thead>\n",
       "    <tr style=\"text-align: right;\">\n",
       "      <th></th>\n",
       "      <th>periodo</th>\n",
       "      <th>cliente_id</th>\n",
       "      <th>material_id</th>\n",
       "      <th>tipo_cliente</th>\n",
       "    </tr>\n",
       "  </thead>\n",
       "  <tbody>\n",
       "    <tr>\n",
       "      <th>6973875</th>\n",
       "      <td>2023-09-01</td>\n",
       "      <td>4537.0</td>\n",
       "      <td>190.0</td>\n",
       "      <td>Hospital</td>\n",
       "    </tr>\n",
       "    <tr>\n",
       "      <th>6973876</th>\n",
       "      <td>2023-09-01</td>\n",
       "      <td>2704.0</td>\n",
       "      <td>1353.0</td>\n",
       "      <td>Hospital</td>\n",
       "    </tr>\n",
       "    <tr>\n",
       "      <th>6973877</th>\n",
       "      <td>2023-09-01</td>\n",
       "      <td>489.0</td>\n",
       "      <td>1061.0</td>\n",
       "      <td>Hospital</td>\n",
       "    </tr>\n",
       "    <tr>\n",
       "      <th>6973878</th>\n",
       "      <td>2023-09-01</td>\n",
       "      <td>531.0</td>\n",
       "      <td>2319.0</td>\n",
       "      <td>Hospital</td>\n",
       "    </tr>\n",
       "    <tr>\n",
       "      <th>6973879</th>\n",
       "      <td>2023-09-01</td>\n",
       "      <td>4162.0</td>\n",
       "      <td>100.0</td>\n",
       "      <td>Hospital</td>\n",
       "    </tr>\n",
       "    <tr>\n",
       "      <th>6973880</th>\n",
       "      <td>2023-09-01</td>\n",
       "      <td>3050.0</td>\n",
       "      <td>55.0</td>\n",
       "      <td>Hospital</td>\n",
       "    </tr>\n",
       "    <tr>\n",
       "      <th>6973881</th>\n",
       "      <td>2023-09-01</td>\n",
       "      <td>3342.0</td>\n",
       "      <td>1001.0</td>\n",
       "      <td>Hospital</td>\n",
       "    </tr>\n",
       "    <tr>\n",
       "      <th>6973882</th>\n",
       "      <td>2023-09-01</td>\n",
       "      <td>375.0</td>\n",
       "      <td>2043.0</td>\n",
       "      <td>Hospital</td>\n",
       "    </tr>\n",
       "    <tr>\n",
       "      <th>6973883</th>\n",
       "      <td>2023-09-01</td>\n",
       "      <td>531.0</td>\n",
       "      <td>512.0</td>\n",
       "      <td>Hospital</td>\n",
       "    </tr>\n",
       "    <tr>\n",
       "      <th>6973884</th>\n",
       "      <td>2023-09-01</td>\n",
       "      <td>418.0</td>\n",
       "      <td>214.0</td>\n",
       "      <td>Hospital</td>\n",
       "    </tr>\n",
       "    <tr>\n",
       "      <th>6973885</th>\n",
       "      <td>2023-09-01</td>\n",
       "      <td>418.0</td>\n",
       "      <td>1870.0</td>\n",
       "      <td>Hospital</td>\n",
       "    </tr>\n",
       "    <tr>\n",
       "      <th>6973886</th>\n",
       "      <td>2023-09-01</td>\n",
       "      <td>3387.0</td>\n",
       "      <td>1915.0</td>\n",
       "      <td>Hospital</td>\n",
       "    </tr>\n",
       "    <tr>\n",
       "      <th>6973887</th>\n",
       "      <td>2023-09-01</td>\n",
       "      <td>489.0</td>\n",
       "      <td>2428.0</td>\n",
       "      <td>Hospital</td>\n",
       "    </tr>\n",
       "    <tr>\n",
       "      <th>6973888</th>\n",
       "      <td>2023-09-01</td>\n",
       "      <td>531.0</td>\n",
       "      <td>1962.0</td>\n",
       "      <td>Hospital</td>\n",
       "    </tr>\n",
       "    <tr>\n",
       "      <th>6973889</th>\n",
       "      <td>2023-09-01</td>\n",
       "      <td>2667.0</td>\n",
       "      <td>248.0</td>\n",
       "      <td>Hospital</td>\n",
       "    </tr>\n",
       "    <tr>\n",
       "      <th>6973890</th>\n",
       "      <td>2023-09-01</td>\n",
       "      <td>3787.0</td>\n",
       "      <td>458.0</td>\n",
       "      <td>Hospital</td>\n",
       "    </tr>\n",
       "    <tr>\n",
       "      <th>6973891</th>\n",
       "      <td>2023-09-01</td>\n",
       "      <td>3267.0</td>\n",
       "      <td>2082.0</td>\n",
       "      <td>Hospital</td>\n",
       "    </tr>\n",
       "    <tr>\n",
       "      <th>6973892</th>\n",
       "      <td>2023-09-01</td>\n",
       "      <td>4162.0</td>\n",
       "      <td>2247.0</td>\n",
       "      <td>Hospital</td>\n",
       "    </tr>\n",
       "    <tr>\n",
       "      <th>6973893</th>\n",
       "      <td>2023-09-01</td>\n",
       "      <td>643.0</td>\n",
       "      <td>2031.0</td>\n",
       "      <td>Hospital</td>\n",
       "    </tr>\n",
       "    <tr>\n",
       "      <th>6973894</th>\n",
       "      <td>2023-09-01</td>\n",
       "      <td>4639.0</td>\n",
       "      <td>266.0</td>\n",
       "      <td>Hospital</td>\n",
       "    </tr>\n",
       "    <tr>\n",
       "      <th>6973895</th>\n",
       "      <td>2023-09-01</td>\n",
       "      <td>4406.0</td>\n",
       "      <td>317.0</td>\n",
       "      <td>Hospital</td>\n",
       "    </tr>\n",
       "    <tr>\n",
       "      <th>6973896</th>\n",
       "      <td>2023-09-01</td>\n",
       "      <td>587.0</td>\n",
       "      <td>2321.0</td>\n",
       "      <td>Hospital</td>\n",
       "    </tr>\n",
       "    <tr>\n",
       "      <th>6973897</th>\n",
       "      <td>2023-09-01</td>\n",
       "      <td>587.0</td>\n",
       "      <td>1359.0</td>\n",
       "      <td>Hospital</td>\n",
       "    </tr>\n",
       "    <tr>\n",
       "      <th>6973898</th>\n",
       "      <td>2023-09-01</td>\n",
       "      <td>2421.0</td>\n",
       "      <td>341.0</td>\n",
       "      <td>Hospital</td>\n",
       "    </tr>\n",
       "    <tr>\n",
       "      <th>6973899</th>\n",
       "      <td>2023-09-01</td>\n",
       "      <td>1678.0</td>\n",
       "      <td>114.0</td>\n",
       "      <td>Hospital</td>\n",
       "    </tr>\n",
       "  </tbody>\n",
       "</table>\n",
       "</div>"
      ],
      "text/plain": [
       "           periodo  cliente_id  material_id tipo_cliente\n",
       "6973875 2023-09-01      4537.0        190.0     Hospital\n",
       "6973876 2023-09-01      2704.0       1353.0     Hospital\n",
       "6973877 2023-09-01       489.0       1061.0     Hospital\n",
       "6973878 2023-09-01       531.0       2319.0     Hospital\n",
       "6973879 2023-09-01      4162.0        100.0     Hospital\n",
       "6973880 2023-09-01      3050.0         55.0     Hospital\n",
       "6973881 2023-09-01      3342.0       1001.0     Hospital\n",
       "6973882 2023-09-01       375.0       2043.0     Hospital\n",
       "6973883 2023-09-01       531.0        512.0     Hospital\n",
       "6973884 2023-09-01       418.0        214.0     Hospital\n",
       "6973885 2023-09-01       418.0       1870.0     Hospital\n",
       "6973886 2023-09-01      3387.0       1915.0     Hospital\n",
       "6973887 2023-09-01       489.0       2428.0     Hospital\n",
       "6973888 2023-09-01       531.0       1962.0     Hospital\n",
       "6973889 2023-09-01      2667.0        248.0     Hospital\n",
       "6973890 2023-09-01      3787.0        458.0     Hospital\n",
       "6973891 2023-09-01      3267.0       2082.0     Hospital\n",
       "6973892 2023-09-01      4162.0       2247.0     Hospital\n",
       "6973893 2023-09-01       643.0       2031.0     Hospital\n",
       "6973894 2023-09-01      4639.0        266.0     Hospital\n",
       "6973895 2023-09-01      4406.0        317.0     Hospital\n",
       "6973896 2023-09-01       587.0       2321.0     Hospital\n",
       "6973897 2023-09-01       587.0       1359.0     Hospital\n",
       "6973898 2023-09-01      2421.0        341.0     Hospital\n",
       "6973899 2023-09-01      1678.0        114.0     Hospital"
      ]
     },
     "execution_count": 21,
     "metadata": {},
     "output_type": "execute_result"
    }
   ],
   "source": [
    "df.tail(25)"
   ]
  },
  {
   "cell_type": "code",
   "execution_count": 22,
   "id": "8eb38c6b",
   "metadata": {},
   "outputs": [
    {
     "name": "stdout",
     "output_type": "stream",
     "text": [
      "Valores únicos en periodo: ['2021-01-01T00:00:00.000000000' '2021-02-01T00:00:00.000000000'\n",
      " '2021-03-01T00:00:00.000000000' '2021-04-01T00:00:00.000000000'\n",
      " '2021-05-01T00:00:00.000000000' '2021-06-01T00:00:00.000000000'\n",
      " '2021-07-01T00:00:00.000000000' '2021-08-01T00:00:00.000000000'\n",
      " '2021-09-01T00:00:00.000000000' '2021-10-01T00:00:00.000000000'\n",
      " '2021-11-01T00:00:00.000000000' '2021-12-01T00:00:00.000000000'\n",
      " '2022-01-01T00:00:00.000000000' '2022-02-01T00:00:00.000000000'\n",
      " '2022-03-01T00:00:00.000000000' '2022-04-01T00:00:00.000000000'\n",
      " '2022-05-01T00:00:00.000000000' '2022-06-01T00:00:00.000000000'\n",
      " '2022-07-01T00:00:00.000000000' '2022-08-01T00:00:00.000000000'\n",
      " '2022-09-01T00:00:00.000000000' '2022-10-01T00:00:00.000000000'\n",
      " '2022-11-01T00:00:00.000000000' '2022-12-01T00:00:00.000000000'\n",
      " '2023-01-01T00:00:00.000000000' '2023-02-01T00:00:00.000000000'\n",
      " '2023-03-01T00:00:00.000000000' '2023-04-01T00:00:00.000000000'\n",
      " '2023-05-01T00:00:00.000000000' '2023-06-01T00:00:00.000000000'\n",
      " '2023-07-01T00:00:00.000000000' '2023-08-01T00:00:00.000000000'\n",
      " '2023-09-01T00:00:00.000000000']. Una cantidad total de 33 valores únicos\n",
      "Valores únicos en cliente_id: [ 800.  782.   nan ... 4719. 4718. 4717.]. Una cantidad total de 4774 valores únicos\n",
      "Valores únicos en material_id: [ 317. 2043. 1279. ... 1562. 1557. 1860.]. Una cantidad total de 1720 valores únicos\n",
      "Valores únicos en tipo_cliente: ['Hospital' 'Otro' 'Farmacia' 'Distribuidor']. Una cantidad total de 4 valores únicos\n"
     ]
    }
   ],
   "source": [
    "for columna in df.columns:\n",
    "    valores_unicos = df[columna].unique()\n",
    "    cantidad_valores = len(valores_unicos)\n",
    "    print(f'Valores únicos en {columna}: {valores_unicos}. Una cantidad total de {cantidad_valores} valores únicos')"
   ]
  },
  {
   "cell_type": "code",
   "execution_count": 23,
   "id": "85aaae3f",
   "metadata": {},
   "outputs": [],
   "source": [
    "df_distribuidor = df[df['tipo_cliente'] == 'Distribuidor']\n",
    "df_hospital = df[df['tipo_cliente'] == 'Hospital']\n",
    "df_farmacia = df[df['tipo_cliente'] == 'Farmacia']\n",
    "df_otro = df[df['tipo_cliente'] == 'Otro']"
   ]
  },
  {
   "cell_type": "code",
   "execution_count": 24,
   "id": "7254743e",
   "metadata": {},
   "outputs": [
    {
     "data": {
      "text/plain": [
       "18274"
      ]
     },
     "execution_count": 24,
     "metadata": {},
     "output_type": "execute_result"
    }
   ],
   "source": [
    "clientes_nansotros = df_otro['cliente_id'].isna().sum()\n",
    "clientes_nansotros"
   ]
  },
  {
   "cell_type": "code",
   "execution_count": 25,
   "id": "01b45e1f",
   "metadata": {},
   "outputs": [
    {
     "data": {
      "text/plain": [
       "18304"
      ]
     },
     "execution_count": 25,
     "metadata": {},
     "output_type": "execute_result"
    }
   ],
   "source": [
    "clientes_nans = df['cliente_id'].isna().sum()\n",
    "clientes_nans"
   ]
  },
  {
   "cell_type": "code",
   "execution_count": 26,
   "id": "0b27fbcb",
   "metadata": {},
   "outputs": [
    {
     "data": {
      "text/plain": [
       "18"
      ]
     },
     "execution_count": 26,
     "metadata": {},
     "output_type": "execute_result"
    }
   ],
   "source": [
    "material_nans = df['material_id'].isna().sum()\n",
    "material_nans"
   ]
  },
  {
   "cell_type": "code",
   "execution_count": 27,
   "id": "75cf4a93",
   "metadata": {},
   "outputs": [
    {
     "data": {
      "text/plain": [
       "(6973900, 4)"
      ]
     },
     "execution_count": 27,
     "metadata": {},
     "output_type": "execute_result"
    }
   ],
   "source": [
    "df.shape"
   ]
  },
  {
   "cell_type": "markdown",
   "id": "8818135d",
   "metadata": {},
   "source": [
    "### Análisis Distribuidores"
   ]
  },
  {
   "cell_type": "code",
   "execution_count": 28,
   "id": "b7732d59",
   "metadata": {},
   "outputs": [
    {
     "data": {
      "text/plain": [
       "(592016, 4)"
      ]
     },
     "execution_count": 28,
     "metadata": {},
     "output_type": "execute_result"
    }
   ],
   "source": [
    "df_distribuidor.shape"
   ]
  },
  {
   "cell_type": "code",
   "execution_count": 29,
   "id": "fe64e4f3",
   "metadata": {},
   "outputs": [
    {
     "name": "stdout",
     "output_type": "stream",
     "text": [
      "Valores únicos en periodo: ['2021-01-01T00:00:00.000000000' '2021-02-01T00:00:00.000000000'\n",
      " '2021-03-01T00:00:00.000000000' '2021-04-01T00:00:00.000000000'\n",
      " '2021-05-01T00:00:00.000000000' '2021-06-01T00:00:00.000000000'\n",
      " '2021-07-01T00:00:00.000000000' '2021-08-01T00:00:00.000000000'\n",
      " '2021-09-01T00:00:00.000000000' '2021-10-01T00:00:00.000000000'\n",
      " '2021-11-01T00:00:00.000000000' '2021-12-01T00:00:00.000000000'\n",
      " '2022-01-01T00:00:00.000000000' '2022-02-01T00:00:00.000000000'\n",
      " '2022-03-01T00:00:00.000000000' '2022-04-01T00:00:00.000000000'\n",
      " '2022-05-01T00:00:00.000000000' '2022-06-01T00:00:00.000000000'\n",
      " '2022-07-01T00:00:00.000000000' '2022-08-01T00:00:00.000000000'\n",
      " '2022-09-01T00:00:00.000000000' '2022-10-01T00:00:00.000000000'\n",
      " '2022-11-01T00:00:00.000000000' '2022-12-01T00:00:00.000000000'\n",
      " '2023-01-01T00:00:00.000000000' '2023-02-01T00:00:00.000000000'\n",
      " '2023-03-01T00:00:00.000000000' '2023-04-01T00:00:00.000000000'\n",
      " '2023-05-01T00:00:00.000000000' '2023-06-01T00:00:00.000000000'\n",
      " '2023-07-01T00:00:00.000000000' '2023-08-01T00:00:00.000000000'\n",
      " '2023-09-01T00:00:00.000000000']. Una cantidad total de 33 valores únicos\n",
      "Valores únicos en cliente_id: [2.662e+03 9.650e+02 1.008e+03 1.091e+03 1.466e+03 1.792e+03 2.968e+03\n",
      " 1.491e+03 2.907e+03 5.050e+02 1.407e+03 3.219e+03 4.370e+02 1.076e+03\n",
      " 4.620e+02 5.410e+02 2.272e+03 1.797e+03 7.100e+02 1.252e+03 2.800e+02\n",
      " 1.051e+03 2.345e+03 2.931e+03 2.343e+03 2.267e+03 9.190e+02 1.039e+03\n",
      " 1.920e+02 1.656e+03 1.294e+03 3.601e+03 3.016e+03 2.768e+03 3.226e+03\n",
      " 2.080e+03 1.037e+03 2.226e+03 2.507e+03 1.594e+03 5.860e+02 3.247e+03\n",
      " 6.480e+02 1.791e+03 2.542e+03 2.460e+03 3.115e+03 3.450e+02 2.094e+03\n",
      " 1.227e+03 4.520e+02 2.389e+03 2.602e+03 2.268e+03 6.320e+02 3.339e+03\n",
      " 2.077e+03 3.346e+03 3.280e+02 1.254e+03 1.795e+03 5.020e+02 1.900e+02\n",
      " 7.400e+02 4.570e+02 1.536e+03 2.590e+03 3.352e+03 3.131e+03 1.040e+03\n",
      " 4.610e+02 1.585e+03 4.660e+02 2.274e+03 2.018e+03 9.660e+02 6.060e+02\n",
      " 3.278e+03 1.591e+03 1.578e+03 3.291e+03 2.285e+03 1.053e+03 2.486e+03\n",
      " 2.117e+03 4.640e+02 2.903e+03 2.742e+03 1.480e+02 2.256e+03 2.572e+03\n",
      " 2.284e+03 1.114e+03 9.620e+02 3.063e+03 1.239e+03 3.300e+03 2.409e+03\n",
      " 2.841e+03 3.970e+02 2.103e+03 2.000e+02 3.347e+03 3.035e+03 2.543e+03\n",
      " 2.834e+03 2.761e+03 1.287e+03 1.991e+03 2.491e+03 1.016e+03 1.056e+03\n",
      " 1.634e+03 2.030e+02 2.896e+03 3.539e+03 1.078e+03 2.592e+03 2.336e+03\n",
      " 1.556e+03 3.290e+03 2.594e+03 1.000e+03 2.846e+03 2.160e+02 2.003e+03\n",
      " 2.411e+03 9.640e+02 2.314e+03 1.450e+02 1.292e+03 2.883e+03 9.100e+01\n",
      " 9.000e+01 3.700e+01 1.900e+01 4.794e+03 4.937e+03 4.940e+03 4.726e+03\n",
      " 5.074e+03 4.975e+03 4.790e+03 4.739e+03 8.900e+01 4.734e+03 5.300e+01\n",
      " 4.823e+03 4.751e+03 4.835e+03 4.865e+03 5.048e+03 4.816e+03 4.792e+03\n",
      " 1.595e+03 2.260e+03 2.540e+02 2.349e+03 3.039e+03 4.630e+02 2.081e+03\n",
      " 2.481e+03 3.162e+03 2.351e+03 9.630e+02 1.064e+03 1.081e+03 3.307e+03\n",
      " 1.072e+03 6.690e+02 3.795e+03 2.321e+03 1.788e+03 2.885e+03 1.829e+03\n",
      " 2.987e+03 4.490e+02 2.265e+03 2.150e+03 1.520e+02 2.568e+03 2.369e+03\n",
      " 3.439e+03 1.129e+03 1.271e+03 1.471e+03 3.682e+03 1.268e+03 1.043e+03\n",
      " 1.379e+03 2.458e+03 2.037e+03 1.118e+03 1.560e+02 1.220e+03 1.501e+03\n",
      " 4.888e+03 7.100e+01 4.931e+03 8.700e+01 1.000e+00 5.009e+03 4.921e+03\n",
      " 4.920e+03 4.864e+03 4.855e+03 2.500e+01 4.738e+03 6.500e+01 5.023e+03\n",
      " 4.766e+03 4.973e+03 5.027e+03 4.791e+03 4.764e+03 7.600e+01 6.900e+01\n",
      " 4.774e+03 8.200e+01 4.843e+03 4.877e+03 5.200e+01 4.894e+03 4.946e+03\n",
      " 4.742e+03 4.755e+03 5.700e+01 4.805e+03 4.861e+03 3.000e+01 4.763e+03\n",
      " 8.000e+01 8.800e+01 2.100e+01 4.732e+03 1.035e+03 4.826e+03 5.038e+03\n",
      " 4.736e+03 4.754e+03 4.851e+03 4.793e+03 4.760e+03 4.724e+03 4.997e+03\n",
      " 4.765e+03 4.965e+03 4.771e+03 5.034e+03 4.890e+03 7.300e+01 4.820e+03\n",
      " 4.867e+03 4.740e+03 4.972e+03 4.895e+03 7.800e+01 5.046e+03 1.854e+03\n",
      " 8.000e+00 5.051e+03 7.000e+01 4.984e+03 4.860e+03 4.857e+03 5.400e+01\n",
      " 4.769e+03 4.947e+03 5.028e+03 4.850e+03 4.815e+03 4.744e+03 4.987e+03\n",
      " 4.848e+03 5.041e+03 4.733e+03 5.032e+03 7.700e+01 8.600e+01 8.100e+01\n",
      " 7.900e+01 4.983e+03 4.880e+03 5.003e+03 7.200e+01 4.939e+03 5.070e+03\n",
      " 7.500e+01 1.120e+03 4.892e+03 4.788e+03 2.083e+03 4.859e+03 2.335e+03\n",
      " 1.099e+03 4.982e+03 1.124e+03 2.046e+03 4.735e+03 4.753e+03 1.100e+01\n",
      " 8.300e+01 4.992e+03 8.400e+01 4.814e+03 5.060e+03 2.283e+03 5.047e+03\n",
      " 2.817e+03 3.554e+03 5.016e+03 1.959e+03 1.655e+03 1.408e+03 7.400e+01\n",
      " 3.351e+03 4.813e+03 2.358e+03 5.000e+03 1.055e+03 4.796e+03 3.480e+03\n",
      " 3.030e+03 1.794e+03 1.784e+03 1.990e+03 3.465e+03 3.148e+03 2.713e+03\n",
      " 2.044e+03 3.446e+03 1.785e+03 1.960e+03 4.776e+03 4.882e+03 2.600e+01\n",
      " 4.852e+03 9.930e+02 1.074e+03 2.041e+03 1.087e+03 4.872e+03 4.743e+03\n",
      " 4.918e+03 4.801e+03 3.463e+03 4.729e+03 3.489e+03 4.923e+03 4.808e+03\n",
      " 3.051e+03 4.006e+03 4.741e+03 2.368e+03 3.156e+03 2.695e+03 3.677e+03\n",
      " 6.400e+01 1.530e+03 4.913e+03 3.890e+03 1.295e+03 4.799e+03 4.102e+03\n",
      " 5.079e+03 5.073e+03 3.023e+03 1.082e+03 2.260e+02 4.173e+03 2.200e+02\n",
      " 4.289e+03 2.569e+03 9.300e+01 4.280e+03 4.297e+03 2.788e+03 4.492e+03\n",
      " 4.308e+03 2.357e+03 9.400e+01 4.552e+03 9.500e+01 1.089e+03 4.581e+03\n",
      " 2.799e+03 5.680e+02 4.612e+03 9.200e+01 4.627e+03 2.333e+03 9.900e+01\n",
      " 4.684e+03 4.683e+03 4.665e+03 4.666e+03 8.500e+01 1.000e+02 3.107e+03\n",
      " 9.800e+01 4.618e+03 4.693e+03 4.694e+03 9.600e+01 4.700e+03 4.698e+03\n",
      " 4.706e+03 4.707e+03 3.281e+03 4.711e+03 9.700e+01 1.960e+02 1.380e+02\n",
      " 5.560e+02 4.537e+03 1.800e+02 1.755e+03 2.275e+03 4.180e+02 2.308e+03\n",
      " 3.127e+03 2.376e+03 1.223e+03 1.285e+03 6.170e+02 2.976e+03 2.640e+02\n",
      " 2.566e+03 1.569e+03 4.890e+02 4.284e+03 1.048e+03 4.510e+02 9.700e+02\n",
      " 2.835e+03 3.304e+03 2.249e+03 1.243e+03 3.342e+03 2.344e+03 3.267e+03\n",
      " 2.095e+03 3.792e+03 9.430e+02 2.688e+03 1.979e+03 1.439e+03 3.750e+02\n",
      " 6.990e+02 1.604e+03 1.012e+03 3.991e+03 3.221e+03 3.167e+03 3.008e+03\n",
      " 2.970e+02 6.430e+02 2.029e+03 2.757e+03 1.475e+03 2.421e+03 2.070e+03\n",
      " 2.952e+03 4.491e+03 2.899e+03 1.811e+03 8.960e+02 4.290e+03 1.088e+03\n",
      " 3.430e+02 2.877e+03 1.520e+03 2.656e+03 1.113e+03 4.094e+03 2.466e+03\n",
      " 3.088e+03 1.641e+03 4.300e+03 3.653e+03 2.522e+03 3.424e+03 3.529e+03\n",
      " 4.717e+03 2.350e+02 2.920e+03 4.162e+03]. Una cantidad total de 487 valores únicos\n",
      "Valores únicos en material_id: [1950.  240.    6. ... 1560. 1860. 1561.]. Una cantidad total de 1258 valores únicos\n",
      "Valores únicos en tipo_cliente: ['Distribuidor']. Una cantidad total de 1 valores únicos\n"
     ]
    }
   ],
   "source": [
    "for columna in df_distribuidor.columns:\n",
    "    valores_unicos = df_distribuidor[columna].unique()\n",
    "    cantidad_valores = len(valores_unicos)\n",
    "    print(f'Valores únicos en {columna}: {valores_unicos}. Una cantidad total de {cantidad_valores} valores únicos')"
   ]
  },
  {
   "cell_type": "markdown",
   "id": "a040c537",
   "metadata": {},
   "source": [
    "### Análisis Hospitales"
   ]
  },
  {
   "cell_type": "code",
   "execution_count": 30,
   "id": "27bde7df",
   "metadata": {},
   "outputs": [
    {
     "data": {
      "text/plain": [
       "(5346048, 4)"
      ]
     },
     "execution_count": 30,
     "metadata": {},
     "output_type": "execute_result"
    }
   ],
   "source": [
    "df_hospital.shape"
   ]
  },
  {
   "cell_type": "code",
   "execution_count": 31,
   "id": "0babac2e",
   "metadata": {},
   "outputs": [
    {
     "name": "stdout",
     "output_type": "stream",
     "text": [
      "Valores únicos en periodo: ['2021-01-01T00:00:00.000000000' '2021-02-01T00:00:00.000000000'\n",
      " '2021-03-01T00:00:00.000000000' '2021-04-01T00:00:00.000000000'\n",
      " '2021-05-01T00:00:00.000000000' '2021-06-01T00:00:00.000000000'\n",
      " '2021-07-01T00:00:00.000000000' '2021-08-01T00:00:00.000000000'\n",
      " '2021-09-01T00:00:00.000000000' '2021-10-01T00:00:00.000000000'\n",
      " '2021-11-01T00:00:00.000000000' '2021-12-01T00:00:00.000000000'\n",
      " '2022-01-01T00:00:00.000000000' '2022-02-01T00:00:00.000000000'\n",
      " '2022-03-01T00:00:00.000000000' '2022-04-01T00:00:00.000000000'\n",
      " '2022-05-01T00:00:00.000000000' '2022-06-01T00:00:00.000000000'\n",
      " '2022-07-01T00:00:00.000000000' '2022-08-01T00:00:00.000000000'\n",
      " '2022-09-01T00:00:00.000000000' '2022-10-01T00:00:00.000000000'\n",
      " '2022-11-01T00:00:00.000000000' '2022-12-01T00:00:00.000000000'\n",
      " '2023-01-01T00:00:00.000000000' '2023-02-01T00:00:00.000000000'\n",
      " '2023-03-01T00:00:00.000000000' '2023-04-01T00:00:00.000000000'\n",
      " '2023-05-01T00:00:00.000000000' '2023-06-01T00:00:00.000000000'\n",
      " '2023-07-01T00:00:00.000000000' '2023-08-01T00:00:00.000000000'\n",
      " '2023-09-01T00:00:00.000000000']. Una cantidad total de 33 valores únicos\n",
      "Valores únicos en cliente_id: [ 800.  782.  303. ... 3787. 4719. 4718.]. Una cantidad total de 3510 valores únicos\n",
      "Valores únicos en material_id: [ 317. 2043. 1352. ... 2437. 2438. 2412.]. Una cantidad total de 1613 valores únicos\n",
      "Valores únicos en tipo_cliente: ['Hospital']. Una cantidad total de 1 valores únicos\n"
     ]
    }
   ],
   "source": [
    "for columna in df_hospital.columns:\n",
    "    valores_unicos = df_hospital[columna].unique()\n",
    "    cantidad_valores = len(valores_unicos)\n",
    "    print(f'Valores únicos en {columna}: {valores_unicos}. Una cantidad total de {cantidad_valores} valores únicos')"
   ]
  },
  {
   "cell_type": "markdown",
   "id": "1be248ee",
   "metadata": {},
   "source": [
    "### Análisis farmacia"
   ]
  },
  {
   "cell_type": "code",
   "execution_count": 32,
   "id": "628cba0b",
   "metadata": {
    "scrolled": true
   },
   "outputs": [
    {
     "data": {
      "text/plain": [
       "(1013262, 4)"
      ]
     },
     "execution_count": 32,
     "metadata": {},
     "output_type": "execute_result"
    }
   ],
   "source": [
    "df_farmacia.shape"
   ]
  },
  {
   "cell_type": "code",
   "execution_count": 33,
   "id": "a380fe91",
   "metadata": {},
   "outputs": [
    {
     "name": "stdout",
     "output_type": "stream",
     "text": [
      "Valores únicos en periodo: ['2021-01-01T00:00:00.000000000' '2021-02-01T00:00:00.000000000'\n",
      " '2021-03-01T00:00:00.000000000' '2021-04-01T00:00:00.000000000'\n",
      " '2021-05-01T00:00:00.000000000' '2021-06-01T00:00:00.000000000'\n",
      " '2021-07-01T00:00:00.000000000' '2021-08-01T00:00:00.000000000'\n",
      " '2021-09-01T00:00:00.000000000' '2021-10-01T00:00:00.000000000'\n",
      " '2021-11-01T00:00:00.000000000' '2021-12-01T00:00:00.000000000'\n",
      " '2022-01-01T00:00:00.000000000' '2022-02-01T00:00:00.000000000'\n",
      " '2022-03-01T00:00:00.000000000' '2022-04-01T00:00:00.000000000'\n",
      " '2022-05-01T00:00:00.000000000' '2022-06-01T00:00:00.000000000'\n",
      " '2022-07-01T00:00:00.000000000' '2022-08-01T00:00:00.000000000'\n",
      " '2022-09-01T00:00:00.000000000' '2022-10-01T00:00:00.000000000'\n",
      " '2022-11-01T00:00:00.000000000' '2022-12-01T00:00:00.000000000'\n",
      " '2023-01-01T00:00:00.000000000' '2023-02-01T00:00:00.000000000'\n",
      " '2023-03-01T00:00:00.000000000' '2023-04-01T00:00:00.000000000'\n",
      " '2023-05-01T00:00:00.000000000' '2023-06-01T00:00:00.000000000'\n",
      " '2023-07-01T00:00:00.000000000' '2023-08-01T00:00:00.000000000'\n",
      " '2023-09-01T00:00:00.000000000']. Una cantidad total de 33 valores únicos\n",
      "Valores únicos en cliente_id: [2000. 2866.  212. ... 3934. 3555. 4341.]. Una cantidad total de 1191 valores únicos\n",
      "Valores únicos en material_id: [ 259. 2142.  161. ... 2438. 1667. 2437.]. Una cantidad total de 1296 valores únicos\n",
      "Valores únicos en tipo_cliente: ['Farmacia']. Una cantidad total de 1 valores únicos\n"
     ]
    }
   ],
   "source": [
    "for columna in df_farmacia.columns:\n",
    "    valores_unicos = df_farmacia[columna].unique()\n",
    "    cantidad_valores = len(valores_unicos)\n",
    "    print(f'Valores únicos en {columna}: {valores_unicos}. Una cantidad total de {cantidad_valores} valores únicos')"
   ]
  },
  {
   "cell_type": "markdown",
   "id": "6992ea32",
   "metadata": {},
   "source": [
    "### Análisis otro"
   ]
  },
  {
   "cell_type": "code",
   "execution_count": 34,
   "id": "d36a956f",
   "metadata": {},
   "outputs": [
    {
     "data": {
      "text/plain": [
       "(22574, 4)"
      ]
     },
     "execution_count": 34,
     "metadata": {},
     "output_type": "execute_result"
    }
   ],
   "source": [
    "df_otro.shape"
   ]
  },
  {
   "cell_type": "code",
   "execution_count": 35,
   "id": "390e06dc",
   "metadata": {},
   "outputs": [
    {
     "name": "stdout",
     "output_type": "stream",
     "text": [
      "Valores únicos en periodo: ['2021-01-01T00:00:00.000000000' '2021-02-01T00:00:00.000000000'\n",
      " '2021-03-01T00:00:00.000000000' '2021-04-01T00:00:00.000000000'\n",
      " '2021-05-01T00:00:00.000000000' '2021-06-01T00:00:00.000000000'\n",
      " '2021-07-01T00:00:00.000000000' '2021-08-01T00:00:00.000000000'\n",
      " '2021-09-01T00:00:00.000000000' '2021-10-01T00:00:00.000000000'\n",
      " '2021-11-01T00:00:00.000000000' '2021-12-01T00:00:00.000000000'\n",
      " '2022-01-01T00:00:00.000000000' '2022-02-01T00:00:00.000000000'\n",
      " '2022-03-01T00:00:00.000000000' '2022-04-01T00:00:00.000000000'\n",
      " '2022-05-01T00:00:00.000000000' '2022-06-01T00:00:00.000000000'\n",
      " '2022-07-01T00:00:00.000000000' '2022-08-01T00:00:00.000000000'\n",
      " '2022-09-01T00:00:00.000000000' '2022-10-01T00:00:00.000000000'\n",
      " '2022-11-01T00:00:00.000000000' '2022-12-01T00:00:00.000000000'\n",
      " '2023-01-01T00:00:00.000000000' '2023-02-01T00:00:00.000000000'\n",
      " '2023-03-01T00:00:00.000000000' '2023-04-01T00:00:00.000000000'\n",
      " '2023-05-01T00:00:00.000000000' '2023-06-01T00:00:00.000000000'\n",
      " '2023-07-01T00:00:00.000000000' '2023-08-01T00:00:00.000000000'\n",
      " '2023-09-01T00:00:00.000000000']. Una cantidad total de 33 valores únicos\n",
      "Valores únicos en cliente_id: [  nan  103.  104.  105.  102. 3499. 3372. 3286. 3331. 3337. 3364. 3491.\n",
      " 3799.  101. 3420. 3461. 3820. 2857. 3353. 3382. 3399. 3613. 3315. 3349.\n",
      " 3316. 3571. 3441. 3481. 3404. 3580. 3362. 3834. 3588. 3474. 3366. 3445.\n",
      " 3482. 3618. 1787. 3301. 3527. 3813. 1148. 3573. 3656. 2048. 3811. 3679.\n",
      " 3532. 3839. 3517. 3305. 3577. 3295. 3541. 3542.  625. 3289. 3596. 3312.\n",
      " 3369.  690. 3393. 3865. 3604. 3488. 1101. 3584.  517. 3844. 3801. 3857.\n",
      " 3802. 3869. 3796. 3920. 3819. 3894. 3880. 3899. 3881. 3835. 3800. 3709.\n",
      " 3897. 3898. 4060. 3793. 3984. 4058. 3955. 4064. 4020. 4033. 4004. 3843.\n",
      " 3755. 3965. 4240. 3989. 4223. 3821. 4217. 4059. 3860. 4034. 3979. 4151.\n",
      " 4112. 4224. 4190. 4042. 3833. 3042. 3876. 3768. 4127. 3840. 4074. 3917.\n",
      " 4063. 3957. 3805. 4053. 4121. 4101. 4216. 3845. 3986. 4157. 4214. 3981.\n",
      " 2694. 4114. 3939. 4089. 3194. 4137. 4196. 4105. 3864. 4122. 3873. 4222.\n",
      " 4225. 3848.  275. 4148.  310.  268. 3992.  771.  455. 2544.  323. 3925.\n",
      " 1177. 1341. 1364. 1559.  359.  477. 1562. 1813. 2684. 2270. 3228. 1362.\n",
      " 3010. 1394. 4144.  301. 3856.  129. 3658.  871. 1929. 1400.  187. 1349.\n",
      " 1343. 2921. 1228. 1139. 2135.  566. 2361. 3106. 3918.  189.  342. 2869.\n",
      " 1293. 1180.  534. 3012. 3616.  265. 2689.  370. 2685. 4360. 1896. 3872.\n",
      "  904. 2253. 1278. 3398.  123. 3213. 4022. 2354. 2729. 3969. 1308. 1820.\n",
      " 1476. 2949. 2794. 2234.  584. 1808. 4358. 1659. 3061.  121. 2241.  396.\n",
      "  234. 2744. 4218. 2244.  406.  620. 2239. 1347. 1438. 4211. 2257.  973.\n",
      " 1165. 1835. 2812.  980. 1669. 3776. 4212. 2897. 1957. 1418.  996. 1122.\n",
      " 2243. 1110.  162. 3214.  797.  971. 1108. 3076.  394. 1480.  389. 1405.\n",
      "  518. 3932. 2777.  316. 1982. 3282.  308. 3498. 2238. 3771. 2909.  300.\n",
      " 3119. 1133. 1770. 2603. 1167. 3083. 2552. 3509. 2352. 1344. 3274. 3116.\n",
      " 1356. 1643. 1765.  974. 2250.  472. 1777. 4335. 1005. 3676. 2318. 2517.\n",
      " 2648. 4136. 2823. 1079. 2518. 2551. 1952.  364. 2124.  183.  113. 2170.\n",
      " 2187. 1141.  999. 2159. 2926. 3515. 2621.  988. 1425. 4547. 4220. 1707.\n",
      " 4352. 3728.  521. 1149.  785. 1493.  318. 1708. 1602. 4001.  508.  420.]. Una cantidad total de 336 valores únicos\n",
      "Valores únicos en material_id: [1279. 1039. 1359. ... 2451. 2452. 2182.]. Una cantidad total de 1550 valores únicos\n",
      "Valores únicos en tipo_cliente: ['Otro']. Una cantidad total de 1 valores únicos\n"
     ]
    }
   ],
   "source": [
    "for columna in df_otro.columns:\n",
    "    valores_unicos = df_otro[columna].unique()\n",
    "    cantidad_valores = len(valores_unicos)\n",
    "    print(f'Valores únicos en {columna}: {valores_unicos}. Una cantidad total de {cantidad_valores} valores únicos')"
   ]
  },
  {
   "cell_type": "markdown",
   "id": "6e7e79c6",
   "metadata": {},
   "source": [
    "### Ejemplo con una farmacia"
   ]
  },
  {
   "cell_type": "code",
   "execution_count": 36,
   "id": "936f5ced",
   "metadata": {},
   "outputs": [
    {
     "data": {
      "text/html": [
       "<div>\n",
       "<style scoped>\n",
       "    .dataframe tbody tr th:only-of-type {\n",
       "        vertical-align: middle;\n",
       "    }\n",
       "\n",
       "    .dataframe tbody tr th {\n",
       "        vertical-align: top;\n",
       "    }\n",
       "\n",
       "    .dataframe thead th {\n",
       "        text-align: right;\n",
       "    }\n",
       "</style>\n",
       "<table border=\"1\" class=\"dataframe\">\n",
       "  <thead>\n",
       "    <tr style=\"text-align: right;\">\n",
       "      <th></th>\n",
       "      <th>periodo</th>\n",
       "      <th>cliente_id</th>\n",
       "      <th>material_id</th>\n",
       "      <th>tipo_cliente</th>\n",
       "    </tr>\n",
       "  </thead>\n",
       "  <tbody>\n",
       "    <tr>\n",
       "      <th>27</th>\n",
       "      <td>2021-01-01</td>\n",
       "      <td>2000.0</td>\n",
       "      <td>259.0</td>\n",
       "      <td>Farmacia</td>\n",
       "    </tr>\n",
       "    <tr>\n",
       "      <th>28</th>\n",
       "      <td>2021-01-01</td>\n",
       "      <td>2866.0</td>\n",
       "      <td>259.0</td>\n",
       "      <td>Farmacia</td>\n",
       "    </tr>\n",
       "    <tr>\n",
       "      <th>40</th>\n",
       "      <td>2021-01-01</td>\n",
       "      <td>212.0</td>\n",
       "      <td>2142.0</td>\n",
       "      <td>Farmacia</td>\n",
       "    </tr>\n",
       "    <tr>\n",
       "      <th>41</th>\n",
       "      <td>2021-01-01</td>\n",
       "      <td>1052.0</td>\n",
       "      <td>161.0</td>\n",
       "      <td>Farmacia</td>\n",
       "    </tr>\n",
       "    <tr>\n",
       "      <th>42</th>\n",
       "      <td>2021-01-01</td>\n",
       "      <td>1083.0</td>\n",
       "      <td>505.0</td>\n",
       "      <td>Farmacia</td>\n",
       "    </tr>\n",
       "  </tbody>\n",
       "</table>\n",
       "</div>"
      ],
      "text/plain": [
       "      periodo  cliente_id  material_id tipo_cliente\n",
       "27 2021-01-01      2000.0        259.0     Farmacia\n",
       "28 2021-01-01      2866.0        259.0     Farmacia\n",
       "40 2021-01-01       212.0       2142.0     Farmacia\n",
       "41 2021-01-01      1052.0        161.0     Farmacia\n",
       "42 2021-01-01      1083.0        505.0     Farmacia"
      ]
     },
     "execution_count": 36,
     "metadata": {},
     "output_type": "execute_result"
    }
   ],
   "source": [
    "df_farmacia.head()"
   ]
  },
  {
   "cell_type": "code",
   "execution_count": 49,
   "id": "b28b6c75",
   "metadata": {},
   "outputs": [],
   "source": [
    "df_cliente_and_material = df_farmacia[(df_farmacia['cliente_id'] == 1052) & (df_farmacia['material_id'] == 161)]"
   ]
  },
  {
   "cell_type": "code",
   "execution_count": 50,
   "id": "83a263d6",
   "metadata": {},
   "outputs": [
    {
     "data": {
      "text/html": [
       "<div>\n",
       "<style scoped>\n",
       "    .dataframe tbody tr th:only-of-type {\n",
       "        vertical-align: middle;\n",
       "    }\n",
       "\n",
       "    .dataframe tbody tr th {\n",
       "        vertical-align: top;\n",
       "    }\n",
       "\n",
       "    .dataframe thead th {\n",
       "        text-align: right;\n",
       "    }\n",
       "</style>\n",
       "<table border=\"1\" class=\"dataframe\">\n",
       "  <thead>\n",
       "    <tr style=\"text-align: right;\">\n",
       "      <th></th>\n",
       "      <th>periodo</th>\n",
       "      <th>cliente_id</th>\n",
       "      <th>material_id</th>\n",
       "      <th>tipo_cliente</th>\n",
       "    </tr>\n",
       "  </thead>\n",
       "  <tbody>\n",
       "    <tr>\n",
       "      <th>41</th>\n",
       "      <td>2021-01-01</td>\n",
       "      <td>1052.0</td>\n",
       "      <td>161.0</td>\n",
       "      <td>Farmacia</td>\n",
       "    </tr>\n",
       "    <tr>\n",
       "      <th>1623250</th>\n",
       "      <td>2021-08-01</td>\n",
       "      <td>1052.0</td>\n",
       "      <td>161.0</td>\n",
       "      <td>Farmacia</td>\n",
       "    </tr>\n",
       "    <tr>\n",
       "      <th>2797690</th>\n",
       "      <td>2022-01-01</td>\n",
       "      <td>1052.0</td>\n",
       "      <td>161.0</td>\n",
       "      <td>Farmacia</td>\n",
       "    </tr>\n",
       "    <tr>\n",
       "      <th>2979007</th>\n",
       "      <td>2022-02-01</td>\n",
       "      <td>1052.0</td>\n",
       "      <td>161.0</td>\n",
       "      <td>Farmacia</td>\n",
       "    </tr>\n",
       "    <tr>\n",
       "      <th>3202194</th>\n",
       "      <td>2022-03-01</td>\n",
       "      <td>1052.0</td>\n",
       "      <td>161.0</td>\n",
       "      <td>Farmacia</td>\n",
       "    </tr>\n",
       "    <tr>\n",
       "      <th>3431929</th>\n",
       "      <td>2022-04-01</td>\n",
       "      <td>1052.0</td>\n",
       "      <td>161.0</td>\n",
       "      <td>Farmacia</td>\n",
       "    </tr>\n",
       "    <tr>\n",
       "      <th>3768512</th>\n",
       "      <td>2022-05-01</td>\n",
       "      <td>1052.0</td>\n",
       "      <td>161.0</td>\n",
       "      <td>Farmacia</td>\n",
       "    </tr>\n",
       "    <tr>\n",
       "      <th>3950797</th>\n",
       "      <td>2022-06-01</td>\n",
       "      <td>1052.0</td>\n",
       "      <td>161.0</td>\n",
       "      <td>Farmacia</td>\n",
       "    </tr>\n",
       "    <tr>\n",
       "      <th>4151511</th>\n",
       "      <td>2022-07-01</td>\n",
       "      <td>1052.0</td>\n",
       "      <td>161.0</td>\n",
       "      <td>Farmacia</td>\n",
       "    </tr>\n",
       "    <tr>\n",
       "      <th>4319757</th>\n",
       "      <td>2022-08-01</td>\n",
       "      <td>1052.0</td>\n",
       "      <td>161.0</td>\n",
       "      <td>Farmacia</td>\n",
       "    </tr>\n",
       "    <tr>\n",
       "      <th>4678479</th>\n",
       "      <td>2022-09-01</td>\n",
       "      <td>1052.0</td>\n",
       "      <td>161.0</td>\n",
       "      <td>Farmacia</td>\n",
       "    </tr>\n",
       "    <tr>\n",
       "      <th>4850657</th>\n",
       "      <td>2022-10-01</td>\n",
       "      <td>1052.0</td>\n",
       "      <td>161.0</td>\n",
       "      <td>Farmacia</td>\n",
       "    </tr>\n",
       "    <tr>\n",
       "      <th>5051821</th>\n",
       "      <td>2022-11-01</td>\n",
       "      <td>1052.0</td>\n",
       "      <td>161.0</td>\n",
       "      <td>Farmacia</td>\n",
       "    </tr>\n",
       "    <tr>\n",
       "      <th>5334474</th>\n",
       "      <td>2022-12-01</td>\n",
       "      <td>1052.0</td>\n",
       "      <td>161.0</td>\n",
       "      <td>Farmacia</td>\n",
       "    </tr>\n",
       "    <tr>\n",
       "      <th>5757719</th>\n",
       "      <td>2023-02-01</td>\n",
       "      <td>1052.0</td>\n",
       "      <td>161.0</td>\n",
       "      <td>Farmacia</td>\n",
       "    </tr>\n",
       "  </tbody>\n",
       "</table>\n",
       "</div>"
      ],
      "text/plain": [
       "           periodo  cliente_id  material_id tipo_cliente\n",
       "41      2021-01-01      1052.0        161.0     Farmacia\n",
       "1623250 2021-08-01      1052.0        161.0     Farmacia\n",
       "2797690 2022-01-01      1052.0        161.0     Farmacia\n",
       "2979007 2022-02-01      1052.0        161.0     Farmacia\n",
       "3202194 2022-03-01      1052.0        161.0     Farmacia\n",
       "3431929 2022-04-01      1052.0        161.0     Farmacia\n",
       "3768512 2022-05-01      1052.0        161.0     Farmacia\n",
       "3950797 2022-06-01      1052.0        161.0     Farmacia\n",
       "4151511 2022-07-01      1052.0        161.0     Farmacia\n",
       "4319757 2022-08-01      1052.0        161.0     Farmacia\n",
       "4678479 2022-09-01      1052.0        161.0     Farmacia\n",
       "4850657 2022-10-01      1052.0        161.0     Farmacia\n",
       "5051821 2022-11-01      1052.0        161.0     Farmacia\n",
       "5334474 2022-12-01      1052.0        161.0     Farmacia\n",
       "5757719 2023-02-01      1052.0        161.0     Farmacia"
      ]
     },
     "execution_count": 50,
     "metadata": {},
     "output_type": "execute_result"
    }
   ],
   "source": [
    "df_cliente_and_material"
   ]
  },
  {
   "cell_type": "code",
   "execution_count": 51,
   "id": "dad67805",
   "metadata": {},
   "outputs": [
    {
     "data": {
      "text/plain": [
       "(12, 4)"
      ]
     },
     "execution_count": 51,
     "metadata": {},
     "output_type": "execute_result"
    }
   ],
   "source": [
    "df_cliente_2000_and_material_259.shape"
   ]
  },
  {
   "cell_type": "code",
   "execution_count": null,
   "id": "6e4ad561",
   "metadata": {},
   "outputs": [],
   "source": []
  }
 ],
 "metadata": {
  "kernelspec": {
   "display_name": "Python 3 (ipykernel)",
   "language": "python",
   "name": "python3"
  },
  "language_info": {
   "codemirror_mode": {
    "name": "ipython",
    "version": 3
   },
   "file_extension": ".py",
   "mimetype": "text/x-python",
   "name": "python",
   "nbconvert_exporter": "python",
   "pygments_lexer": "ipython3",
   "version": "3.10.9"
  }
 },
 "nbformat": 4,
 "nbformat_minor": 5
}
