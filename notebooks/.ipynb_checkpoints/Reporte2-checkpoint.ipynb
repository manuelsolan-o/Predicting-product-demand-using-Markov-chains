{
 "cells": [
  {
   "cell_type": "markdown",
   "id": "c2ad5a9c",
   "metadata": {},
   "source": [
    "Autores: Alejandra Velasco Zárate A01635453, José Antonio Juárez Pacheco A00572186, Jose Carlos Yamuni Contreras A01740285, Juan Manuel Hernández Solano A00572208 y Mayra Sarahí De Luna Castillo A01635774"
   ]
  },
  {
   "cell_type": "markdown",
   "id": "e11ae5eb",
   "metadata": {},
   "source": [
    "# Implementación del primer modelo usando cadenas de Markov"
   ]
  },
  {
   "cell_type": "markdown",
   "id": "77a4d664",
   "metadata": {},
   "source": [
    "## Importación librerías necesarias"
   ]
  },
  {
   "cell_type": "code",
   "execution_count": 1,
   "id": "46272104",
   "metadata": {},
   "outputs": [],
   "source": [
    "\n",
    "# Warnings ---------------------------------------------\n",
    "\n",
    "import warnings\n",
    "warnings.filterwarnings(\"ignore\")\n",
    "\n",
    "# Lectura y manipulación de datos ----------------------\n",
    "\n",
    "import pandas as pd\n",
    "\n",
    "# Descomposición espectral -----------------------------\n",
    "\n",
    "import numpy as np\n",
    "from numpy.linalg import eig, inv"
   ]
  },
  {
   "cell_type": "markdown",
   "id": "dddb00bf",
   "metadata": {},
   "source": [
    "## Lectura de la base de datos"
   ]
  },
  {
   "cell_type": "code",
   "execution_count": 13,
   "id": "8c1e9846",
   "metadata": {},
   "outputs": [
    {
     "data": {
      "text/html": [
       "<div>\n",
       "<style scoped>\n",
       "    .dataframe tbody tr th:only-of-type {\n",
       "        vertical-align: middle;\n",
       "    }\n",
       "\n",
       "    .dataframe tbody tr th {\n",
       "        vertical-align: top;\n",
       "    }\n",
       "\n",
       "    .dataframe thead th {\n",
       "        text-align: right;\n",
       "    }\n",
       "</style>\n",
       "<table border=\"1\" class=\"dataframe\">\n",
       "  <thead>\n",
       "    <tr style=\"text-align: right;\">\n",
       "      <th></th>\n",
       "      <th>periodo</th>\n",
       "      <th>cliente_id</th>\n",
       "      <th>material_id</th>\n",
       "      <th>tipo_cliente</th>\n",
       "    </tr>\n",
       "  </thead>\n",
       "  <tbody>\n",
       "    <tr>\n",
       "      <th>0</th>\n",
       "      <td>05-2022</td>\n",
       "      <td>4894.0</td>\n",
       "      <td>22.0</td>\n",
       "      <td>Distribuidor</td>\n",
       "    </tr>\n",
       "    <tr>\n",
       "      <th>1</th>\n",
       "      <td>05-2022</td>\n",
       "      <td>4769.0</td>\n",
       "      <td>17.0</td>\n",
       "      <td>Distribuidor</td>\n",
       "    </tr>\n",
       "    <tr>\n",
       "      <th>2</th>\n",
       "      <td>05-2022</td>\n",
       "      <td>4823.0</td>\n",
       "      <td>227.0</td>\n",
       "      <td>Distribuidor</td>\n",
       "    </tr>\n",
       "    <tr>\n",
       "      <th>3</th>\n",
       "      <td>08-2022</td>\n",
       "      <td>4816.0</td>\n",
       "      <td>340.0</td>\n",
       "      <td>Distribuidor</td>\n",
       "    </tr>\n",
       "    <tr>\n",
       "      <th>4</th>\n",
       "      <td>08-2022</td>\n",
       "      <td>4888.0</td>\n",
       "      <td>270.0</td>\n",
       "      <td>Distribuidor</td>\n",
       "    </tr>\n",
       "  </tbody>\n",
       "</table>\n",
       "</div>"
      ],
      "text/plain": [
       "   periodo  cliente_id  material_id  tipo_cliente\n",
       "0  05-2022      4894.0         22.0  Distribuidor\n",
       "1  05-2022      4769.0         17.0  Distribuidor\n",
       "2  05-2022      4823.0        227.0  Distribuidor\n",
       "3  08-2022      4816.0        340.0  Distribuidor\n",
       "4  08-2022      4888.0        270.0  Distribuidor"
      ]
     },
     "execution_count": 13,
     "metadata": {},
     "output_type": "execute_result"
    }
   ],
   "source": [
    "data = pd.read_parquet('../data/tec_estocasticos.parquet', engine='pyarrow')\n",
    "data.head()"
   ]
  },
  {
   "cell_type": "markdown",
   "id": "86201add",
   "metadata": {},
   "source": [
    "## Análisis premilinar de los datos"
   ]
  },
  {
   "cell_type": "code",
   "execution_count": 6,
   "id": "081d7533",
   "metadata": {},
   "outputs": [
    {
     "name": "stdout",
     "output_type": "stream",
     "text": [
      "Los tipos de cliente en la base de datos son 4: ['Distribuidor' 'Hospital' 'Farmacia' 'Otro']\n"
     ]
    }
   ],
   "source": [
    "# Tipos de cliente\n",
    "\n",
    "print(f\"Los tipos de cliente en la base de datos son {len(data.tipo_cliente.unique())}: {data.tipo_cliente.unique()}\")"
   ]
  },
  {
   "cell_type": "code",
   "execution_count": 8,
   "id": "9219952a",
   "metadata": {},
   "outputs": [
    {
     "name": "stdout",
     "output_type": "stream",
     "text": [
      "El número de clientes en la base de datos son: 4774\n"
     ]
    }
   ],
   "source": [
    "# Número de clientes únicos\n",
    "\n",
    "print(f\"El número de clientes únicos en la base de datos son: {len(data.cliente_id.unique())}\")"
   ]
  },
  {
   "cell_type": "code",
   "execution_count": 9,
   "id": "d0174b49",
   "metadata": {},
   "outputs": [
    {
     "name": "stdout",
     "output_type": "stream",
     "text": [
      "El número de productos únicos en la base de datos son: 1720\n"
     ]
    }
   ],
   "source": [
    "# Número de productos únicos \n",
    "\n",
    "print(f\"El número de productos únicos en la base de datos son: {len(data.material_id.unique())}\")"
   ]
  },
  {
   "cell_type": "code",
   "execution_count": 16,
   "id": "12d4eb09",
   "metadata": {},
   "outputs": [
    {
     "name": "stdout",
     "output_type": "stream",
     "text": [
      "Los datos del periodo en la base de datos son: datetime64[ns]\n"
     ]
    }
   ],
   "source": [
    "# Conversión de la variable periodo de string a timestamp\n",
    "\n",
    "data['periodo'] = pd.to_datetime(data['periodo'])\n",
    "data.sort_values(by='periodo', inplace=True)\n",
    "data.dropna(inplace=True)\n",
    "data.reset_index(inplace=True)\n",
    "data.drop('index', axis = 1,inplace=True)\n",
    "print(f\"Los datos del periodo en la base de datos son: {data.periodo.dtype}\")"
   ]
  },
  {
   "cell_type": "markdown",
   "id": "fdf13d16",
   "metadata": {},
   "source": [
    "## Ejemplo de cadena de Markov: cliente_id = 800, material_id = 317.0"
   ]
  },
  {
   "cell_type": "markdown",
   "id": "3dc0759a",
   "metadata": {},
   "source": [
    "Primero, se necesita hacer un nuevo subset agrupando por cliente y producto."
   ]
  },
  {
   "cell_type": "code",
   "execution_count": 28,
   "id": "ea265d44",
   "metadata": {},
   "outputs": [
    {
     "name": "stdout",
     "output_type": "stream",
     "text": [
      "El subset de la base de datos para el cliente 800 y el producto 317 es el siguiente. \n"
     ]
    },
    {
     "data": {
      "text/html": [
       "<div>\n",
       "<style scoped>\n",
       "    .dataframe tbody tr th:only-of-type {\n",
       "        vertical-align: middle;\n",
       "    }\n",
       "\n",
       "    .dataframe tbody tr th {\n",
       "        vertical-align: top;\n",
       "    }\n",
       "\n",
       "    .dataframe thead th {\n",
       "        text-align: right;\n",
       "    }\n",
       "</style>\n",
       "<table border=\"1\" class=\"dataframe\">\n",
       "  <thead>\n",
       "    <tr style=\"text-align: right;\">\n",
       "      <th></th>\n",
       "      <th>periodo</th>\n",
       "      <th>cliente_id</th>\n",
       "      <th>material_id</th>\n",
       "      <th>tipo_cliente</th>\n",
       "    </tr>\n",
       "  </thead>\n",
       "  <tbody>\n",
       "    <tr>\n",
       "      <th>0</th>\n",
       "      <td>2021-01-01</td>\n",
       "      <td>800.0</td>\n",
       "      <td>317.0</td>\n",
       "      <td>Hospital</td>\n",
       "    </tr>\n",
       "    <tr>\n",
       "      <th>1</th>\n",
       "      <td>2021-07-01</td>\n",
       "      <td>800.0</td>\n",
       "      <td>317.0</td>\n",
       "      <td>Hospital</td>\n",
       "    </tr>\n",
       "    <tr>\n",
       "      <th>2</th>\n",
       "      <td>2021-09-01</td>\n",
       "      <td>800.0</td>\n",
       "      <td>317.0</td>\n",
       "      <td>Hospital</td>\n",
       "    </tr>\n",
       "    <tr>\n",
       "      <th>3</th>\n",
       "      <td>2021-10-01</td>\n",
       "      <td>800.0</td>\n",
       "      <td>317.0</td>\n",
       "      <td>Hospital</td>\n",
       "    </tr>\n",
       "    <tr>\n",
       "      <th>4</th>\n",
       "      <td>2021-11-01</td>\n",
       "      <td>800.0</td>\n",
       "      <td>317.0</td>\n",
       "      <td>Hospital</td>\n",
       "    </tr>\n",
       "  </tbody>\n",
       "</table>\n",
       "</div>"
      ],
      "text/plain": [
       "     periodo  cliente_id  material_id tipo_cliente\n",
       "0 2021-01-01       800.0        317.0     Hospital\n",
       "1 2021-07-01       800.0        317.0     Hospital\n",
       "2 2021-09-01       800.0        317.0     Hospital\n",
       "3 2021-10-01       800.0        317.0     Hospital\n",
       "4 2021-11-01       800.0        317.0     Hospital"
      ]
     },
     "execution_count": 28,
     "metadata": {},
     "output_type": "execute_result"
    }
   ],
   "source": [
    "# Agrupación de la base de datos por cliente_id -> nuevo subset\n",
    "\n",
    "subset_cliente = data.loc[data['cliente_id'] == 800.0]\n",
    "subset_cliente_producto = subset_cliente.loc[subset_cliente['material_id'] == 317.0]\n",
    "\n",
    "subset_cliente_producto.reset_index(inplace = True)\n",
    "subset_cliente_producto.drop('index', axis = 1, inplace = True)\n",
    "print(\"El subset de la base de datos para el cliente 800 y el producto 317 es el siguiente. \")\n",
    "subset_cliente_producto.head()"
   ]
  },
  {
   "cell_type": "markdown",
   "id": "d5ae9065",
   "metadata": {},
   "source": [
    "Como en la base de datos solo aparecen registros en el mes que compraron los clientes ese producto, se tiene que realizar un registro donde aparezcan todos los meses, sin importar si compró o no. \n",
    "\n",
    "Para hacer esto, se crea una lista $t_i$ donde su valor es $0$ si el cliente compró el producto y $1$ en caso contrario. "
   ]
  },
  {
   "cell_type": "code",
   "execution_count": 32,
   "id": "41615c51",
   "metadata": {},
   "outputs": [
    {
     "name": "stdout",
     "output_type": "stream",
     "text": [
      "La lista para representar los estados (compró o no compró) en el subset es: \n",
      "[0, 1, 1, 1, 1, 1, 0, 1, 0, 0, 0, 1, 0, 0, 0, 0, 0, 0, 0, 0, 0, 0, 0, 0, 0, 0, 0, 0, 1, 1, 0, 0]\n"
     ]
    }
   ],
   "source": [
    "# Lista t_i\n",
    "\n",
    "t = [0]\n",
    "\n",
    "for x in range(0, len(subset_cliente_producto['periodo'])-2):\n",
    "    if (subset_cliente_producto['periodo'][x+1] - subset_cliente_producto['periodo'][x]).days <= 31:\n",
    "        t.append(0)\n",
    "    else:\n",
    "        for _ in range(((subset_cliente_producto['periodo'][x+1] - subset_cliente_producto['periodo'][x]).days // 30)-1):\n",
    "            t.append(1)\n",
    "        t.append(0)\n",
    "print(f\"La lista para representar los estados (compró o no compró) en el subset es: \\n{t}\")"
   ]
  },
  {
   "cell_type": "markdown",
   "id": "7dea881f",
   "metadata": {},
   "source": [
    "Por otro lado, se necesita el tiempo $t_i+1$, es decir, la lista $t_i$ desplazada por un mes. Esto es, debido a que las cadenas de Markov tienen 'pérdida de memoria' y solo se necesita un paso antes. "
   ]
  },
  {
   "cell_type": "code",
   "execution_count": 34,
   "id": "92d1d417",
   "metadata": {},
   "outputs": [
    {
     "name": "stdout",
     "output_type": "stream",
     "text": [
      "La lista para representar los estados (compró o no compró) en el subset desplazado un mes después es: \n",
      "[1, 1, 1, 1, 1, 0, 1, 0, 0, 0, 1, 0, 0, 0, 0, 0, 0, 0, 0, 0, 0, 0, 0, 0, 0, 0, 0, 1, 1, 0, 0, 0]\n"
     ]
    }
   ],
   "source": [
    "# Lista t_i+1\n",
    "\n",
    "t_1 = []\n",
    "\n",
    "for x in range(0, len(subset_cliente_producto['periodo'])-1):\n",
    "    if (subset_cliente_producto['periodo'][x+1] - subset_cliente_producto['periodo'][x]).days <= 31:\n",
    "        t_1.append(0)\n",
    "    else:\n",
    "        for _ in range(((subset_cliente_producto['periodo'][x+1] - subset_cliente_producto['periodo'][x]).days // 30)-1):\n",
    "            t_1.append(1)\n",
    "        t_1.append(0)\n",
    "\n",
    "print(f\"La lista para representar los estados (compró o no compró) en el subset desplazado un mes después es: \\n{t_1}\")"
   ]
  },
  {
   "cell_type": "markdown",
   "id": "ff2e1688",
   "metadata": {},
   "source": [
    "Después estas dos listas con los estados se hacen una base de datos."
   ]
  },
  {
   "cell_type": "code",
   "execution_count": 35,
   "id": "8dc8563e",
   "metadata": {},
   "outputs": [
    {
     "data": {
      "text/html": [
       "<div>\n",
       "<style scoped>\n",
       "    .dataframe tbody tr th:only-of-type {\n",
       "        vertical-align: middle;\n",
       "    }\n",
       "\n",
       "    .dataframe tbody tr th {\n",
       "        vertical-align: top;\n",
       "    }\n",
       "\n",
       "    .dataframe thead th {\n",
       "        text-align: right;\n",
       "    }\n",
       "</style>\n",
       "<table border=\"1\" class=\"dataframe\">\n",
       "  <thead>\n",
       "    <tr style=\"text-align: right;\">\n",
       "      <th></th>\n",
       "      <th>X_t</th>\n",
       "      <th>X_t+1</th>\n",
       "    </tr>\n",
       "  </thead>\n",
       "  <tbody>\n",
       "    <tr>\n",
       "      <th>0</th>\n",
       "      <td>0</td>\n",
       "      <td>1</td>\n",
       "    </tr>\n",
       "    <tr>\n",
       "      <th>1</th>\n",
       "      <td>1</td>\n",
       "      <td>1</td>\n",
       "    </tr>\n",
       "    <tr>\n",
       "      <th>2</th>\n",
       "      <td>1</td>\n",
       "      <td>1</td>\n",
       "    </tr>\n",
       "    <tr>\n",
       "      <th>3</th>\n",
       "      <td>1</td>\n",
       "      <td>1</td>\n",
       "    </tr>\n",
       "    <tr>\n",
       "      <th>4</th>\n",
       "      <td>1</td>\n",
       "      <td>0</td>\n",
       "    </tr>\n",
       "  </tbody>\n",
       "</table>\n",
       "</div>"
      ],
      "text/plain": [
       "   X_t  X_t+1\n",
       "0    0      1\n",
       "1    1      1\n",
       "2    1      1\n",
       "3    1      1\n",
       "4    1      0"
      ]
     },
     "execution_count": 35,
     "metadata": {},
     "output_type": "execute_result"
    }
   ],
   "source": [
    "# Nueva base de datos para hacer la matriz de transición\n",
    "\n",
    "estados = pd.DataFrame()\n",
    "\n",
    "estados['t'] = t\n",
    "estados['t_1'] = t_1\n",
    "\n",
    "Xt = estados['t'][0:-1].reset_index(drop=True).rename('X_t')\n",
    "Xt_1 = estados['t_1'][1::].reset_index(drop=True).rename('X_t+1')\n",
    "\n",
    "new_data=pd.concat((Xt, Xt_1), axis=1)\n",
    "new_data.head()"
   ]
  },
  {
   "cell_type": "markdown",
   "id": "48169320",
   "metadata": {},
   "source": [
    "Utilizando esta nueva base de datos se crea la matriz de transición, ya que es lo único necesario para poder hacerla. "
   ]
  },
  {
   "cell_type": "code",
   "execution_count": 36,
   "id": "79423faf",
   "metadata": {},
   "outputs": [
    {
     "name": "stdout",
     "output_type": "stream",
     "text": [
      "La matriz de transición para el cliente 800 y el producto 317 es: \n"
     ]
    },
    {
     "data": {
      "text/html": [
       "<div>\n",
       "<style scoped>\n",
       "    .dataframe tbody tr th:only-of-type {\n",
       "        vertical-align: middle;\n",
       "    }\n",
       "\n",
       "    .dataframe tbody tr th {\n",
       "        vertical-align: top;\n",
       "    }\n",
       "\n",
       "    .dataframe thead th {\n",
       "        text-align: right;\n",
       "    }\n",
       "</style>\n",
       "<table border=\"1\" class=\"dataframe\">\n",
       "  <thead>\n",
       "    <tr style=\"text-align: right;\">\n",
       "      <th>X_t+1</th>\n",
       "      <th>0</th>\n",
       "      <th>1</th>\n",
       "    </tr>\n",
       "    <tr>\n",
       "      <th>X_t</th>\n",
       "      <th></th>\n",
       "      <th></th>\n",
       "    </tr>\n",
       "  </thead>\n",
       "  <tbody>\n",
       "    <tr>\n",
       "      <th>0</th>\n",
       "      <td>0.818182</td>\n",
       "      <td>0.181818</td>\n",
       "    </tr>\n",
       "    <tr>\n",
       "      <th>1</th>\n",
       "      <td>0.555556</td>\n",
       "      <td>0.444444</td>\n",
       "    </tr>\n",
       "  </tbody>\n",
       "</table>\n",
       "</div>"
      ],
      "text/plain": [
       "X_t+1         0         1\n",
       "X_t                      \n",
       "0      0.818182  0.181818\n",
       "1      0.555556  0.444444"
      ]
     },
     "execution_count": 36,
     "metadata": {},
     "output_type": "execute_result"
    }
   ],
   "source": [
    "matriz_transicion = new_data.groupby('X_t').value_counts(normalize=True).unstack(level='X_t+1')\n",
    "matriz_transicion= matriz_transicion.fillna(0)\n",
    "print(f\"La matriz de transición para el cliente 800 y el producto 317 es: \")\n",
    "matriz_transicion"
   ]
  },
  {
   "cell_type": "markdown",
   "id": "d541e4fa",
   "metadata": {},
   "source": [
    "Esta matriz indica lo siguiente: \n",
    "\n",
    "- La probabilidad de que el cliente 800 compre el producto 317 dado que ya lo compró es de $0.8181 \\: (81.81 \\%)$\n",
    "\n",
    "- La probabilidad de que el cliente 800 compre el producto 317 dado que no lo compró es de $0.1818 \\: (18.18 \\%)$\n",
    "\n",
    "- La probabilidad de que el cliente 800 compre el producto 317 dado que no lo compró es de $0.5556 \\: (55.56 \\%)$\n",
    "\n",
    "- La probabilidad de que el cliente 800 no compre el producto 317 dado que no lo compró es de $0.4444 \\: (44.44 \\%)$\n",
    "\n",
    "Estas probabilidades son exactamente las que necesitamos para responder las hipótesis planteadas en el primer reporte, que representan la información que el socio formador quiere saber. "
   ]
  },
  {
   "cell_type": "markdown",
   "id": "28a7798a",
   "metadata": {},
   "source": [
    "## Automatización del proceso"
   ]
  },
  {
   "cell_type": "markdown",
   "id": "9236f8dd",
   "metadata": {},
   "source": [
    "Se planea hacer una cadena de Markov por cliente por producto y esto resultaría en $8,211,280$ cadenas de Markov. Esto podría ser imposible si no se automatiza el proceso. Afortunadamente, el procedimiento y las herramientas computacionales dan paso a la automatización de la creación de las cadenas de Markov. "
   ]
  },
  {
   "cell_type": "code",
   "execution_count": 42,
   "id": "280824d5",
   "metadata": {},
   "outputs": [],
   "source": [
    "def matriz_transicion(tipo_cliente, cliente_id, material_id):\n",
    "        \n",
    "    # Subset\n",
    "\n",
    "    cliente_tipo = data.loc[data['tipo_cliente'] == tipo_cliente]\n",
    "    pruducto = cliente_tipo.loc[cliente_tipo['material_id'] == material_id]\n",
    "    id_cliente = pruducto.loc[pruducto['cliente_id'] == cliente_id]\n",
    "    id_cliente.reset_index(inplace = True)\n",
    "    id_cliente.drop('index', axis = 1, inplace = True)\n",
    "    \n",
    "    # Fecha de inicio\n",
    "    fecha_inicio = pd.Timestamp(2021, 1, 1)\n",
    "    # Fecha de finalización\n",
    "    fecha_fin = pd.Timestamp(2023, 9, 1)\n",
    "\n",
    "    frecuencia = pd.DateOffset(months=1)\n",
    "\n",
    "    fechas = []\n",
    "\n",
    "    while fecha_inicio <= fecha_fin:\n",
    "        fechas.append(fecha_inicio)\n",
    "        fecha_inicio += frecuencia\n",
    "\n",
    "    fechas\n",
    "\n",
    "    periodos = {}\n",
    "\n",
    "    for k,v in enumerate(fechas):\n",
    "        periodos[v] = k \n",
    "\n",
    "    t = [1 for x in range(len(fechas))]\n",
    "\n",
    "    indices = [periodos[x] for x in id_cliente['periodo']]\n",
    "\n",
    "    for i in indices:\n",
    "        t[i] = 0\n",
    "    \n",
    "    estados = pd.DataFrame()\n",
    "\n",
    "    estados['t'] = t\n",
    "    estados['t_1'] = t\n",
    "    \n",
    "    Xt = estados['t'][0:-1].reset_index(drop=True).rename('X_t')\n",
    "    Xt_1 = estados['t_1'][1::].reset_index(drop=True).rename('X_t+1')\n",
    "    \n",
    "    new_data=pd.concat((Xt, Xt_1), axis=1)\n",
    "    \n",
    "    matriz_transicion = new_data.groupby('X_t').value_counts(normalize=True).unstack(level='X_t+1')\n",
    "    matriz_transicion= matriz_transicion.fillna(0)\n",
    "    \n",
    "    return matriz_transicion"
   ]
  },
  {
   "cell_type": "markdown",
   "id": "e8879d17",
   "metadata": {},
   "source": [
    "## Ejemplos con automatización"
   ]
  },
  {
   "cell_type": "markdown",
   "id": "9e92cbd1",
   "metadata": {},
   "source": [
    "### Cliente_id = $4769$ y producto_id = $17$"
   ]
  },
  {
   "cell_type": "code",
   "execution_count": 43,
   "id": "130d1944",
   "metadata": {},
   "outputs": [
    {
     "data": {
      "text/html": [
       "<div>\n",
       "<style scoped>\n",
       "    .dataframe tbody tr th:only-of-type {\n",
       "        vertical-align: middle;\n",
       "    }\n",
       "\n",
       "    .dataframe tbody tr th {\n",
       "        vertical-align: top;\n",
       "    }\n",
       "\n",
       "    .dataframe thead th {\n",
       "        text-align: right;\n",
       "    }\n",
       "</style>\n",
       "<table border=\"1\" class=\"dataframe\">\n",
       "  <thead>\n",
       "    <tr style=\"text-align: right;\">\n",
       "      <th>X_t+1</th>\n",
       "      <th>0</th>\n",
       "      <th>1</th>\n",
       "    </tr>\n",
       "    <tr>\n",
       "      <th>X_t</th>\n",
       "      <th></th>\n",
       "      <th></th>\n",
       "    </tr>\n",
       "  </thead>\n",
       "  <tbody>\n",
       "    <tr>\n",
       "      <th>0</th>\n",
       "      <td>0.896552</td>\n",
       "      <td>0.103448</td>\n",
       "    </tr>\n",
       "    <tr>\n",
       "      <th>1</th>\n",
       "      <td>1.000000</td>\n",
       "      <td>0.000000</td>\n",
       "    </tr>\n",
       "  </tbody>\n",
       "</table>\n",
       "</div>"
      ],
      "text/plain": [
       "X_t+1         0         1\n",
       "X_t                      \n",
       "0      0.896552  0.103448\n",
       "1      1.000000  0.000000"
      ]
     },
     "execution_count": 43,
     "metadata": {},
     "output_type": "execute_result"
    }
   ],
   "source": [
    " matriz_transicion('Distribuidor', 4769.0, 17.0)"
   ]
  },
  {
   "cell_type": "markdown",
   "id": "0b6de305",
   "metadata": {},
   "source": [
    "### Cliente_id = $2000$ y producto_id = $259$"
   ]
  },
  {
   "cell_type": "code",
   "execution_count": 44,
   "id": "bc7f5348",
   "metadata": {},
   "outputs": [
    {
     "data": {
      "text/html": [
       "<div>\n",
       "<style scoped>\n",
       "    .dataframe tbody tr th:only-of-type {\n",
       "        vertical-align: middle;\n",
       "    }\n",
       "\n",
       "    .dataframe tbody tr th {\n",
       "        vertical-align: top;\n",
       "    }\n",
       "\n",
       "    .dataframe thead th {\n",
       "        text-align: right;\n",
       "    }\n",
       "</style>\n",
       "<table border=\"1\" class=\"dataframe\">\n",
       "  <thead>\n",
       "    <tr style=\"text-align: right;\">\n",
       "      <th>X_t+1</th>\n",
       "      <th>0</th>\n",
       "      <th>1</th>\n",
       "    </tr>\n",
       "    <tr>\n",
       "      <th>X_t</th>\n",
       "      <th></th>\n",
       "      <th></th>\n",
       "    </tr>\n",
       "  </thead>\n",
       "  <tbody>\n",
       "    <tr>\n",
       "      <th>0</th>\n",
       "      <td>0.916667</td>\n",
       "      <td>0.083333</td>\n",
       "    </tr>\n",
       "    <tr>\n",
       "      <th>1</th>\n",
       "      <td>0.000000</td>\n",
       "      <td>1.000000</td>\n",
       "    </tr>\n",
       "  </tbody>\n",
       "</table>\n",
       "</div>"
      ],
      "text/plain": [
       "X_t+1         0         1\n",
       "X_t                      \n",
       "0      0.916667  0.083333\n",
       "1      0.000000  1.000000"
      ]
     },
     "execution_count": 44,
     "metadata": {},
     "output_type": "execute_result"
    }
   ],
   "source": [
    "matriz_transicion('Farmacia', 2000.0 ,259.0)"
   ]
  },
  {
   "cell_type": "markdown",
   "id": "16cb4647",
   "metadata": {},
   "source": [
    "# ¿Qué propiedades deberían tener estas cadenas para asegurar su convergencia?"
   ]
  },
  {
   "cell_type": "markdown",
   "id": "aa2e7254",
   "metadata": {},
   "source": [
    "Para que una cadena de Markov converga necesita cumplir con las siguientes características: \n",
    "\n",
    "- **Irreducibilidad**: La cadena de Markov debe ser irreducible, lo que significa que desde cualquier estado es posible llegar a cualquier otro estado con una probabilidad positiva en un número finito de pasos.\n",
    "\n",
    "- **Aperiodicidad**: La cadena debe ser aperiódica, es decir, que los periodos de cada clase tiene que ser 1. Esto significa que no debe seguir un patrón regular o periódico en la transición entre estados.\n",
    "\n",
    "- **Recurrente**: Los estados de la cadena de Markov deben ser recurrentes positivos. Los estados recurrentes positivos son aquellos desde los cuales eventualmente regresará a sí mismos. Para asegurar la convergencia, es importante que la cadena tenga al menos un estado recurrente positivo.\n",
    "\n",
    "- **Ergodicidad**: La cadena debe ser ergódica, lo que significa que debe ser posible alcanzar cualquier estado desde cualquier otro estado en un número finito de pasos."
   ]
  },
  {
   "cell_type": "markdown",
   "id": "cc532d43",
   "metadata": {},
   "source": [
    "# Potenciales recomendaciones para PiSA"
   ]
  },
  {
   "cell_type": "markdown",
   "id": "3407c797",
   "metadata": {},
   "source": [
    "Con las cadenas de Markov ya se conocen las probabilidades de la desactivación y activación de los productos. Con esta información se pueden dar recomendaciones valiosas al socio formador para optimizar sus procesos y mejorar las decisiones. \n",
    "\n",
    "Dependiendo de la probabilidad obtenida para cada caso específico, si la probabilidad de que un cliente vuelva a comprar un producto dado que lo compró anteriormente es muy alta, se recomendaría a PiSA mantener la producción de este producto porque es muy probable que siga activo. Si en cambio la probabilidad de que un cliente no vuelva a comprar un producto dado que lo compró anteriormente es muy baja, se recomendaría a PiSA reducir la producción de este producto porque es muy probable que pase al estado de desactivación. También, se podría recomendar cuando aumentar la producción de cierto producto teniendo las probabilides para la reactivación de productos que se encontraban en estado desactivado. \n",
    "\n",
    "En el ejemplo visto en el reporte para el cliente_id $800$ y el producto_id $317$, se podrían dar las siguientes recomendaciones:\n",
    "\n",
    "Probabilidades: \n",
    "\n",
    "- La probabilidad de que el cliente 800 compre el producto 317 dado que ya lo compró es de $0.8181 \\: (81.81 \\%)$\n",
    "\n",
    "- La probabilidad de que el cliente 800 compre el producto 317 dado que no lo compró es de $0.1818 \\: (18.18 \\%)$\n",
    "\n",
    "- La probabilidad de que el cliente 800 compre el producto 317 dado que no lo compró es de $0.5556 \\: (55.56 \\%)$\n",
    "\n",
    "- La probabilidad de que el cliente 800 no compre el producto 317 dado que no lo compró es de $0.4444 \\: (44.44 \\%)$\n",
    "\n",
    "Recomendaciones:\n",
    "\n",
    "- En este caso, se recomendaría a PiSA mantener la producción del producto 317 porque la probabilidad de que el cliente lo siga comprando el próximo mes es de 81%, que indica que el producto seguirá activo. "
   ]
  }
 ],
 "metadata": {
  "kernelspec": {
   "display_name": "Python 3 (ipykernel)",
   "language": "python",
   "name": "python3"
  },
  "language_info": {
   "codemirror_mode": {
    "name": "ipython",
    "version": 3
   },
   "file_extension": ".py",
   "mimetype": "text/x-python",
   "name": "python",
   "nbconvert_exporter": "python",
   "pygments_lexer": "ipython3",
   "version": "3.11.4"
  }
 },
 "nbformat": 4,
 "nbformat_minor": 5
}
