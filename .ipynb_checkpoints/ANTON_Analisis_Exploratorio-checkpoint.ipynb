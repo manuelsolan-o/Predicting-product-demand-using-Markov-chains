{
 "cells": [
  {
   "cell_type": "code",
   "execution_count": 2,
   "id": "ea49bba2",
   "metadata": {},
   "outputs": [],
   "source": [
    "import os\n",
    "import pandas as pd"
   ]
  },
  {
   "cell_type": "code",
   "execution_count": null,
   "id": "0c120388",
   "metadata": {},
   "outputs": [],
   "source": [
    "# Conecto con la carpeta donde guardo los archivos ------------------------------------------------------------\n",
    "\n",
    "out_dir = os.path.expanduser('~/Documents/Quinto semestre/Estocastica/data/Archivos_Reto/') \n",
    "if not os.path.exists(out_dir):\n",
    "    os.makedirs(out_dir)\n",
    "    \n",
    "# Husky 2 Ed A\n",
    "\n",
    "file_name = os.path.join(out_dir, 'Husky_17_Ed_C_var.csv')\n",
    "\n",
    "Husky_var = pd.read_csv(file_Husky)\n",
    "raw_data = pd.read_parquet('husky_data.parquet', engine='pyarrow')"
   ]
  },
  {
   "cell_type": "code",
   "execution_count": null,
   "id": "2f2eba96",
   "metadata": {},
   "outputs": [],
   "source": []
  }
 ],
 "metadata": {
  "kernelspec": {
   "display_name": "Python 3",
   "language": "python",
   "name": "python3"
  },
  "language_info": {
   "codemirror_mode": {
    "name": "ipython",
    "version": 3
   },
   "file_extension": ".py",
   "mimetype": "text/x-python",
   "name": "python",
   "nbconvert_exporter": "python",
   "pygments_lexer": "ipython3",
   "version": "3.9.13"
  }
 },
 "nbformat": 4,
 "nbformat_minor": 5
}
