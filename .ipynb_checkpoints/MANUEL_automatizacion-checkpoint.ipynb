{
 "cells": [
  {
   "cell_type": "markdown",
   "id": "ddcbf9f1",
   "metadata": {},
   "source": [
    "# Mi cadena de markov"
   ]
  },
  {
   "cell_type": "markdown",
   "id": "cc9d761e",
   "metadata": {},
   "source": [
    "## Bibliotecas"
   ]
  },
  {
   "cell_type": "code",
   "execution_count": 1,
   "id": "2cb20bfa",
   "metadata": {},
   "outputs": [],
   "source": [
    "# Warnings ---------------------------------------------------------------------------------------------------\n",
    "\n",
    "import warnings\n",
    "warnings.filterwarnings(\"ignore\")\n",
    "\n",
    "# Lectura y manipulación de datos ----------------------------------------------------------------------------\n",
    "\n",
    "import pandas as pd\n",
    "\n",
    "# Descomposición espectral -----------------------------------------------------------------------------------\n",
    "\n",
    "import numpy as np\n",
    "from numpy.linalg import eig, inv\n"
   ]
  },
  {
   "cell_type": "markdown",
   "id": "e3ad6694",
   "metadata": {},
   "source": [
    "## Lectura de la base de datos"
   ]
  },
  {
   "cell_type": "code",
   "execution_count": 2,
   "id": "3ace3f56",
   "metadata": {},
   "outputs": [],
   "source": [
    "data = pd.read_parquet('data/tec_estocasticos.parquet', engine='pyarrow')"
   ]
  },
  {
   "cell_type": "code",
   "execution_count": 3,
   "id": "e421ef41",
   "metadata": {},
   "outputs": [
    {
     "data": {
      "text/html": [
       "<div>\n",
       "<style scoped>\n",
       "    .dataframe tbody tr th:only-of-type {\n",
       "        vertical-align: middle;\n",
       "    }\n",
       "\n",
       "    .dataframe tbody tr th {\n",
       "        vertical-align: top;\n",
       "    }\n",
       "\n",
       "    .dataframe thead th {\n",
       "        text-align: right;\n",
       "    }\n",
       "</style>\n",
       "<table border=\"1\" class=\"dataframe\">\n",
       "  <thead>\n",
       "    <tr style=\"text-align: right;\">\n",
       "      <th></th>\n",
       "      <th>periodo</th>\n",
       "      <th>cliente_id</th>\n",
       "      <th>material_id</th>\n",
       "      <th>tipo_cliente</th>\n",
       "    </tr>\n",
       "  </thead>\n",
       "  <tbody>\n",
       "    <tr>\n",
       "      <th>0</th>\n",
       "      <td>05-2022</td>\n",
       "      <td>4894.0</td>\n",
       "      <td>22.0</td>\n",
       "      <td>Distribuidor</td>\n",
       "    </tr>\n",
       "    <tr>\n",
       "      <th>1</th>\n",
       "      <td>05-2022</td>\n",
       "      <td>4769.0</td>\n",
       "      <td>17.0</td>\n",
       "      <td>Distribuidor</td>\n",
       "    </tr>\n",
       "    <tr>\n",
       "      <th>2</th>\n",
       "      <td>05-2022</td>\n",
       "      <td>4823.0</td>\n",
       "      <td>227.0</td>\n",
       "      <td>Distribuidor</td>\n",
       "    </tr>\n",
       "    <tr>\n",
       "      <th>3</th>\n",
       "      <td>08-2022</td>\n",
       "      <td>4816.0</td>\n",
       "      <td>340.0</td>\n",
       "      <td>Distribuidor</td>\n",
       "    </tr>\n",
       "    <tr>\n",
       "      <th>4</th>\n",
       "      <td>08-2022</td>\n",
       "      <td>4888.0</td>\n",
       "      <td>270.0</td>\n",
       "      <td>Distribuidor</td>\n",
       "    </tr>\n",
       "    <tr>\n",
       "      <th>...</th>\n",
       "      <td>...</td>\n",
       "      <td>...</td>\n",
       "      <td>...</td>\n",
       "      <td>...</td>\n",
       "    </tr>\n",
       "    <tr>\n",
       "      <th>6973895</th>\n",
       "      <td>05-2022</td>\n",
       "      <td>1816.0</td>\n",
       "      <td>1861.0</td>\n",
       "      <td>Farmacia</td>\n",
       "    </tr>\n",
       "    <tr>\n",
       "      <th>6973896</th>\n",
       "      <td>05-2022</td>\n",
       "      <td>1725.0</td>\n",
       "      <td>1373.0</td>\n",
       "      <td>Hospital</td>\n",
       "    </tr>\n",
       "    <tr>\n",
       "      <th>6973897</th>\n",
       "      <td>05-2022</td>\n",
       "      <td>588.0</td>\n",
       "      <td>2249.0</td>\n",
       "      <td>Hospital</td>\n",
       "    </tr>\n",
       "    <tr>\n",
       "      <th>6973898</th>\n",
       "      <td>05-2022</td>\n",
       "      <td>565.0</td>\n",
       "      <td>191.0</td>\n",
       "      <td>Hospital</td>\n",
       "    </tr>\n",
       "    <tr>\n",
       "      <th>6973899</th>\n",
       "      <td>05-2022</td>\n",
       "      <td>1108.0</td>\n",
       "      <td>2160.0</td>\n",
       "      <td>Hospital</td>\n",
       "    </tr>\n",
       "  </tbody>\n",
       "</table>\n",
       "<p>6973900 rows × 4 columns</p>\n",
       "</div>"
      ],
      "text/plain": [
       "         periodo  cliente_id  material_id  tipo_cliente\n",
       "0        05-2022      4894.0         22.0  Distribuidor\n",
       "1        05-2022      4769.0         17.0  Distribuidor\n",
       "2        05-2022      4823.0        227.0  Distribuidor\n",
       "3        08-2022      4816.0        340.0  Distribuidor\n",
       "4        08-2022      4888.0        270.0  Distribuidor\n",
       "...          ...         ...          ...           ...\n",
       "6973895  05-2022      1816.0       1861.0      Farmacia\n",
       "6973896  05-2022      1725.0       1373.0      Hospital\n",
       "6973897  05-2022       588.0       2249.0      Hospital\n",
       "6973898  05-2022       565.0        191.0      Hospital\n",
       "6973899  05-2022      1108.0       2160.0      Hospital\n",
       "\n",
       "[6973900 rows x 4 columns]"
      ]
     },
     "execution_count": 3,
     "metadata": {},
     "output_type": "execute_result"
    }
   ],
   "source": [
    "data"
   ]
  },
  {
   "cell_type": "code",
   "execution_count": 20,
   "id": "097ac880",
   "metadata": {},
   "outputs": [
    {
     "data": {
      "text/html": [
       "<div>\n",
       "<style scoped>\n",
       "    .dataframe tbody tr th:only-of-type {\n",
       "        vertical-align: middle;\n",
       "    }\n",
       "\n",
       "    .dataframe tbody tr th {\n",
       "        vertical-align: top;\n",
       "    }\n",
       "\n",
       "    .dataframe thead th {\n",
       "        text-align: right;\n",
       "    }\n",
       "</style>\n",
       "<table border=\"1\" class=\"dataframe\">\n",
       "  <thead>\n",
       "    <tr style=\"text-align: right;\">\n",
       "      <th></th>\n",
       "      <th>periodo</th>\n",
       "      <th>cliente_id</th>\n",
       "      <th>material_id</th>\n",
       "      <th>tipo_cliente</th>\n",
       "    </tr>\n",
       "  </thead>\n",
       "  <tbody>\n",
       "    <tr>\n",
       "      <th>0</th>\n",
       "      <td>2021-01-01</td>\n",
       "      <td>800.0</td>\n",
       "      <td>317.0</td>\n",
       "      <td>Hospital</td>\n",
       "    </tr>\n",
       "    <tr>\n",
       "      <th>1</th>\n",
       "      <td>2021-01-01</td>\n",
       "      <td>782.0</td>\n",
       "      <td>2043.0</td>\n",
       "      <td>Hospital</td>\n",
       "    </tr>\n",
       "    <tr>\n",
       "      <th>2</th>\n",
       "      <td>2021-01-01</td>\n",
       "      <td>303.0</td>\n",
       "      <td>1352.0</td>\n",
       "      <td>Hospital</td>\n",
       "    </tr>\n",
       "    <tr>\n",
       "      <th>3</th>\n",
       "      <td>2021-01-01</td>\n",
       "      <td>314.0</td>\n",
       "      <td>1577.0</td>\n",
       "      <td>Hospital</td>\n",
       "    </tr>\n",
       "    <tr>\n",
       "      <th>4</th>\n",
       "      <td>2021-01-01</td>\n",
       "      <td>122.0</td>\n",
       "      <td>1504.0</td>\n",
       "      <td>Hospital</td>\n",
       "    </tr>\n",
       "    <tr>\n",
       "      <th>...</th>\n",
       "      <td>...</td>\n",
       "      <td>...</td>\n",
       "      <td>...</td>\n",
       "      <td>...</td>\n",
       "    </tr>\n",
       "    <tr>\n",
       "      <th>6955591</th>\n",
       "      <td>2023-09-01</td>\n",
       "      <td>4406.0</td>\n",
       "      <td>317.0</td>\n",
       "      <td>Hospital</td>\n",
       "    </tr>\n",
       "    <tr>\n",
       "      <th>6955592</th>\n",
       "      <td>2023-09-01</td>\n",
       "      <td>587.0</td>\n",
       "      <td>2321.0</td>\n",
       "      <td>Hospital</td>\n",
       "    </tr>\n",
       "    <tr>\n",
       "      <th>6955593</th>\n",
       "      <td>2023-09-01</td>\n",
       "      <td>587.0</td>\n",
       "      <td>1359.0</td>\n",
       "      <td>Hospital</td>\n",
       "    </tr>\n",
       "    <tr>\n",
       "      <th>6955594</th>\n",
       "      <td>2023-09-01</td>\n",
       "      <td>2421.0</td>\n",
       "      <td>341.0</td>\n",
       "      <td>Hospital</td>\n",
       "    </tr>\n",
       "    <tr>\n",
       "      <th>6955595</th>\n",
       "      <td>2023-09-01</td>\n",
       "      <td>1678.0</td>\n",
       "      <td>114.0</td>\n",
       "      <td>Hospital</td>\n",
       "    </tr>\n",
       "  </tbody>\n",
       "</table>\n",
       "<p>6955596 rows × 4 columns</p>\n",
       "</div>"
      ],
      "text/plain": [
       "           periodo  cliente_id  material_id tipo_cliente\n",
       "0       2021-01-01       800.0        317.0     Hospital\n",
       "1       2021-01-01       782.0       2043.0     Hospital\n",
       "2       2021-01-01       303.0       1352.0     Hospital\n",
       "3       2021-01-01       314.0       1577.0     Hospital\n",
       "4       2021-01-01       122.0       1504.0     Hospital\n",
       "...            ...         ...          ...          ...\n",
       "6955591 2023-09-01      4406.0        317.0     Hospital\n",
       "6955592 2023-09-01       587.0       2321.0     Hospital\n",
       "6955593 2023-09-01       587.0       1359.0     Hospital\n",
       "6955594 2023-09-01      2421.0        341.0     Hospital\n",
       "6955595 2023-09-01      1678.0        114.0     Hospital\n",
       "\n",
       "[6955596 rows x 4 columns]"
      ]
     },
     "execution_count": 20,
     "metadata": {},
     "output_type": "execute_result"
    }
   ],
   "source": [
    "data['periodo'] = pd.to_datetime(data['periodo'])\n",
    "data.sort_values(by='periodo', inplace=True)\n",
    "data.dropna(inplace=True)\n",
    "data.reset_index(inplace=True)\n",
    "data.drop('index', axis = 1,inplace=True)\n",
    "data"
   ]
  },
  {
   "cell_type": "markdown",
   "id": "beb3f45b",
   "metadata": {},
   "source": [
    "### Tipos de Cliente"
   ]
  },
  {
   "cell_type": "code",
   "execution_count": 6,
   "id": "73a7ed7c",
   "metadata": {},
   "outputs": [
    {
     "data": {
      "text/plain": [
       "array(['Distribuidor', 'Hospital', 'Farmacia', 'Otro'], dtype=object)"
      ]
     },
     "execution_count": 6,
     "metadata": {},
     "output_type": "execute_result"
    }
   ],
   "source": [
    "data['tipo_cliente'].unique()"
   ]
  },
  {
   "cell_type": "markdown",
   "id": "ce41ce04",
   "metadata": {},
   "source": [
    "## Función para obtener la matriz de transición de un cliente comprando un determinado producto"
   ]
  },
  {
   "cell_type": "code",
   "execution_count": 21,
   "id": "0695ebb3",
   "metadata": {},
   "outputs": [],
   "source": [
    "def matriz_transicion(tipo_cliente, cliente_id, material_id):\n",
    "    \n",
    "    # Subdataset\n",
    "    cliente_tipo = data.loc[data['tipo_cliente'] == tipo_cliente]\n",
    "    pruducto = cliente_tipo.loc[cliente_tipo['material_id'] == material_id]\n",
    "    id_cliente = pruducto.loc[pruducto['cliente_id'] == cliente_id]\n",
    "    id_cliente.reset_index(inplace = True)\n",
    "    id_cliente.drop('index', axis = 1, inplace = True)\n",
    "    \n",
    "    # Estados: Compró o no compró\n",
    "    \n",
    "    t = [0]\n",
    "\n",
    "    for x in range(0, len(id_cliente['periodo'])-2):\n",
    "        if (id_cliente['periodo'][x+1] - id_cliente['periodo'][x]).days <= 31:\n",
    "            t.append(0)\n",
    "        else:\n",
    "            for _ in range(((id_cliente['periodo'][x+1] - id_cliente['periodo'][x]).days // 30)-1):\n",
    "                t.append(1)\n",
    "            t.append(0)\n",
    "    \n",
    "    t_1 = []\n",
    "\n",
    "    for x in range(0, len(id_cliente['periodo'])-1):\n",
    "        if (id_cliente['periodo'][x+1] - id_cliente['periodo'][x]).days <= 31:\n",
    "            t_1.append(0)\n",
    "        else:\n",
    "            for _ in range(((id_cliente['periodo'][x+1] - id_cliente['periodo'][x]).days // 30)-1):\n",
    "                t_1.append(1)\n",
    "            t_1.append(0)\n",
    "            \n",
    "\n",
    "    estados = pd.DataFrame()\n",
    "\n",
    "    estados['t'] = t\n",
    "    estados['t_1'] = t_1\n",
    "    \n",
    "    Xt = estados['t'][0:-1].reset_index(drop=True).rename('X_t')\n",
    "    Xt_1 = estados['t_1'][1::].reset_index(drop=True).rename('X_t+1')\n",
    "    \n",
    "    new_data=pd.concat((Xt, Xt_1), axis=1)\n",
    "    \n",
    "    matriz_transicion = new_data.groupby('X_t').value_counts(normalize=True).unstack(level='X_t+1')\n",
    "    matriz_transicion= matriz_transicion.fillna(0)\n",
    "    \n",
    "    return matriz_transicion"
   ]
  },
  {
   "cell_type": "code",
   "execution_count": 22,
   "id": "7b70cce4",
   "metadata": {},
   "outputs": [
    {
     "data": {
      "text/html": [
       "<div>\n",
       "<style scoped>\n",
       "    .dataframe tbody tr th:only-of-type {\n",
       "        vertical-align: middle;\n",
       "    }\n",
       "\n",
       "    .dataframe tbody tr th {\n",
       "        vertical-align: top;\n",
       "    }\n",
       "\n",
       "    .dataframe thead th {\n",
       "        text-align: right;\n",
       "    }\n",
       "</style>\n",
       "<table border=\"1\" class=\"dataframe\">\n",
       "  <thead>\n",
       "    <tr style=\"text-align: right;\">\n",
       "      <th>X_t+1</th>\n",
       "      <th>0</th>\n",
       "      <th>1</th>\n",
       "    </tr>\n",
       "    <tr>\n",
       "      <th>X_t</th>\n",
       "      <th></th>\n",
       "      <th></th>\n",
       "    </tr>\n",
       "  </thead>\n",
       "  <tbody>\n",
       "    <tr>\n",
       "      <th>0</th>\n",
       "      <td>0.928571</td>\n",
       "      <td>0.071429</td>\n",
       "    </tr>\n",
       "    <tr>\n",
       "      <th>1</th>\n",
       "      <td>0.666667</td>\n",
       "      <td>0.333333</td>\n",
       "    </tr>\n",
       "  </tbody>\n",
       "</table>\n",
       "</div>"
      ],
      "text/plain": [
       "X_t+1         0         1\n",
       "X_t                      \n",
       "0      0.928571  0.071429\n",
       "1      0.666667  0.333333"
      ]
     },
     "execution_count": 22,
     "metadata": {},
     "output_type": "execute_result"
    }
   ],
   "source": [
    " matriz_transicion('Distribuidor', 4769.0, 17.0)"
   ]
  },
  {
   "cell_type": "code",
   "execution_count": 24,
   "id": "aa75afc7",
   "metadata": {},
   "outputs": [],
   "source": [
    "matriz_transicion =  matriz_transicion('Distribuidor', 4769.0, 17.0)"
   ]
  },
  {
   "cell_type": "markdown",
   "id": "c7879cdf",
   "metadata": {},
   "source": [
    "## Descomposición espectral"
   ]
  },
  {
   "cell_type": "code",
   "execution_count": 25,
   "id": "4bf2286b",
   "metadata": {},
   "outputs": [
    {
     "name": "stdout",
     "output_type": "stream",
     "text": [
      "Los eigenvalores de P son: [1.         0.26190476]\n",
      "Los eigenvectores de P son: [[ 0.70710678 -0.10653312]\n",
      " [ 0.70710678  0.99430915]]\n"
     ]
    }
   ],
   "source": [
    "## Descomposición espectral\n",
    "\n",
    "import numpy as np\n",
    "from numpy.linalg import eig, inv\n",
    "Lambda, Q = eig(matriz_transicion)\n",
    "print(\"Los eigenvalores de P son:\", Lambda)\n",
    "print(\"Los eigenvectores de P son:\", Q)"
   ]
  },
  {
   "cell_type": "code",
   "execution_count": 42,
   "id": "716679fb",
   "metadata": {},
   "outputs": [
    {
     "data": {
      "text/plain": [
       "array([[0.9286, 0.0714],\n",
       "       [0.6667, 0.3333]])"
      ]
     },
     "execution_count": 42,
     "metadata": {},
     "output_type": "execute_result"
    }
   ],
   "source": [
    "Q_1 = inv(Q)\n",
    "Lambda = np.diag(Lambda)\n",
    "PP = np.matmul(np.matmul(Q, Lambda), Q_1)\n",
    "PP.round(decimals = 4)"
   ]
  },
  {
   "cell_type": "markdown",
   "id": "c814fa5c",
   "metadata": {},
   "source": [
    "## Consultar probabilidad en tiempo n"
   ]
  },
  {
   "cell_type": "code",
   "execution_count": 37,
   "id": "c5bcd6f5",
   "metadata": {},
   "outputs": [],
   "source": [
    "def pasos(n):\n",
    "    Lambda_n = Lambda**n\n",
    "    P_n = np.matmul(np.matmul(Q, Lambda_n), Q_1)\n",
    "    \n",
    "    df = pd.DataFrame(P_n.round(decimals = 4), index=['Compra', 'No compra'])\n",
    "    df.rename(columns = {0:'Compra'}, inplace = True)\n",
    "    df.rename(columns = {1:'No Compra'}, inplace = True)\n",
    "    return df"
   ]
  },
  {
   "cell_type": "code",
   "execution_count": 38,
   "id": "22553792",
   "metadata": {},
   "outputs": [
    {
     "data": {
      "text/html": [
       "<div>\n",
       "<style scoped>\n",
       "    .dataframe tbody tr th:only-of-type {\n",
       "        vertical-align: middle;\n",
       "    }\n",
       "\n",
       "    .dataframe tbody tr th {\n",
       "        vertical-align: top;\n",
       "    }\n",
       "\n",
       "    .dataframe thead th {\n",
       "        text-align: right;\n",
       "    }\n",
       "</style>\n",
       "<table border=\"1\" class=\"dataframe\">\n",
       "  <thead>\n",
       "    <tr style=\"text-align: right;\">\n",
       "      <th></th>\n",
       "      <th>Compra</th>\n",
       "      <th>No Compra</th>\n",
       "    </tr>\n",
       "  </thead>\n",
       "  <tbody>\n",
       "    <tr>\n",
       "      <th>Compra</th>\n",
       "      <td>0.9033</td>\n",
       "      <td>0.0967</td>\n",
       "    </tr>\n",
       "    <tr>\n",
       "      <th>No compra</th>\n",
       "      <td>0.9021</td>\n",
       "      <td>0.0979</td>\n",
       "    </tr>\n",
       "  </tbody>\n",
       "</table>\n",
       "</div>"
      ],
      "text/plain": [
       "           Compra  No Compra\n",
       "Compra     0.9033     0.0967\n",
       "No compra  0.9021     0.0979"
      ]
     },
     "execution_count": 38,
     "metadata": {},
     "output_type": "execute_result"
    }
   ],
   "source": [
    "pasos(5)"
   ]
  },
  {
   "cell_type": "code",
   "execution_count": 39,
   "id": "24533409",
   "metadata": {},
   "outputs": [
    {
     "data": {
      "text/html": [
       "<div>\n",
       "<style scoped>\n",
       "    .dataframe tbody tr th:only-of-type {\n",
       "        vertical-align: middle;\n",
       "    }\n",
       "\n",
       "    .dataframe tbody tr th {\n",
       "        vertical-align: top;\n",
       "    }\n",
       "\n",
       "    .dataframe thead th {\n",
       "        text-align: right;\n",
       "    }\n",
       "</style>\n",
       "<table border=\"1\" class=\"dataframe\">\n",
       "  <thead>\n",
       "    <tr style=\"text-align: right;\">\n",
       "      <th></th>\n",
       "      <th>Compra</th>\n",
       "      <th>No Compra</th>\n",
       "    </tr>\n",
       "  </thead>\n",
       "  <tbody>\n",
       "    <tr>\n",
       "      <th>Compra</th>\n",
       "      <td>0.9032</td>\n",
       "      <td>0.0968</td>\n",
       "    </tr>\n",
       "    <tr>\n",
       "      <th>No compra</th>\n",
       "      <td>0.9032</td>\n",
       "      <td>0.0968</td>\n",
       "    </tr>\n",
       "  </tbody>\n",
       "</table>\n",
       "</div>"
      ],
      "text/plain": [
       "           Compra  No Compra\n",
       "Compra     0.9032     0.0968\n",
       "No compra  0.9032     0.0968"
      ]
     },
     "execution_count": 39,
     "metadata": {},
     "output_type": "execute_result"
    }
   ],
   "source": [
    "pasos(10)"
   ]
  },
  {
   "cell_type": "code",
   "execution_count": 40,
   "id": "d60ce95d",
   "metadata": {},
   "outputs": [
    {
     "data": {
      "text/html": [
       "<div>\n",
       "<style scoped>\n",
       "    .dataframe tbody tr th:only-of-type {\n",
       "        vertical-align: middle;\n",
       "    }\n",
       "\n",
       "    .dataframe tbody tr th {\n",
       "        vertical-align: top;\n",
       "    }\n",
       "\n",
       "    .dataframe thead th {\n",
       "        text-align: right;\n",
       "    }\n",
       "</style>\n",
       "<table border=\"1\" class=\"dataframe\">\n",
       "  <thead>\n",
       "    <tr style=\"text-align: right;\">\n",
       "      <th></th>\n",
       "      <th>Compra</th>\n",
       "      <th>No Compra</th>\n",
       "    </tr>\n",
       "  </thead>\n",
       "  <tbody>\n",
       "    <tr>\n",
       "      <th>Compra</th>\n",
       "      <td>0.9032</td>\n",
       "      <td>0.0968</td>\n",
       "    </tr>\n",
       "    <tr>\n",
       "      <th>No compra</th>\n",
       "      <td>0.9032</td>\n",
       "      <td>0.0968</td>\n",
       "    </tr>\n",
       "  </tbody>\n",
       "</table>\n",
       "</div>"
      ],
      "text/plain": [
       "           Compra  No Compra\n",
       "Compra     0.9032     0.0968\n",
       "No compra  0.9032     0.0968"
      ]
     },
     "execution_count": 40,
     "metadata": {},
     "output_type": "execute_result"
    }
   ],
   "source": [
    "pasos(15)"
   ]
  },
  {
   "cell_type": "markdown",
   "id": "8a57ccac",
   "metadata": {},
   "source": [
    "## Dropdown"
   ]
  },
  {
   "cell_type": "code",
   "execution_count": 43,
   "id": "d3b1057e",
   "metadata": {},
   "outputs": [],
   "source": [
    "import ipywidgets as widgets\n",
    "from IPython.display import display\n",
    "import matplotlib.pyplot as plt\n",
    "import numpy as np"
   ]
  },
  {
   "cell_type": "code",
   "execution_count": 44,
   "id": "e2246023",
   "metadata": {},
   "outputs": [],
   "source": [
    "def cadenas_cliente_producto(tipo_cliente):\n",
    "    \n",
    "    matriz_transicion(tipo_cliente, cliente_id, material_id)"
   ]
  },
  {
   "cell_type": "code",
   "execution_count": null,
   "id": "e5a31c23",
   "metadata": {},
   "outputs": [],
   "source": [
    "# Países\n",
    "tipo_cliente = list(data['tipo_cliente'].unique())\n",
    "\n",
    "# Ciudades\n",
    "cliente_id = list(data['cliente_id'].unique()) \n",
    "\n",
    "# Botón del país\n",
    "dropdown_country = widgets.Dropdown(\n",
    "    options=countries,\n",
    "    description=\"País:\"\n",
    ")\n",
    "\n",
    "# Botón de la ciudad\n",
    "dropdown_city = widgets.Dropdown(\n",
    "    options=cities,\n",
    "    description='Ciudad:'\n",
    ")\n",
    "\n",
    "# Función para la visualización con parámetros\n",
    "def valores(country, city):\n",
    "    path_fua = Path(\"~/Documents/Ciudades/islas-de-calor-mx/data/\")\n",
    "    #path_cache= Path(f\"./data/cache/{country}-{city}\")\n",
    "    path_cache: Path = make_cache_dir(f\"./data/cache/{country}-{city}\")\n",
    "    season = \"Qall\"\n",
    "    year = 2022\n",
    "    geometry_gdf = esa_wc\n",
    "    outline_gdf = municipios.loc[municipios['NOM_SUN'] == city]\n",
    "    \n",
    "    display(plot_cat_map(country, city, path_fua, path_cache, season, year, geometry_gdf, outline_gdf))\n",
    "    return #plot_cat_map(country, city, path_fua, path_cache, season, year, geometry_gdf, outline_gdf)\n",
    "\n",
    "\n",
    "widgets.interactive(valores, country=dropdown_country, city=dropdown_city)"
   ]
  },
  {
   "cell_type": "code",
   "execution_count": 45,
   "id": "a88e571d",
   "metadata": {},
   "outputs": [
    {
     "data": {
      "application/vnd.jupyter.widget-view+json": {
       "model_id": "24b4b9c9352140beb0248e36be267e91",
       "version_major": 2,
       "version_minor": 0
      },
      "text/plain": [
       "interactive(children=(Dropdown(description='Selecciona una opción:', options=(1, 2, 3, 4), value=1), Output())…"
      ]
     },
     "execution_count": 45,
     "metadata": {},
     "output_type": "execute_result"
    }
   ],
   "source": [
    "# Lista de opciones para el menú desplegable\n",
    "opciones = [1, 2, 3, 4]\n",
    "\n",
    "# Crea el widget de menú desplegable\n",
    "dropdown_menu = widgets.Dropdown(\n",
    "    options=opciones,\n",
    "    description='Selecciona una opción:'\n",
    ")\n",
    "\n",
    "# Asocia la función plot_lines al evento de cambio de selección\n",
    "widgets.interactive(cadenas_cliente_producto, option=dropdown_menu)\n"
   ]
  },
  {
   "cell_type": "code",
   "execution_count": null,
   "id": "a536dc7a",
   "metadata": {},
   "outputs": [],
   "source": []
  }
 ],
 "metadata": {
  "kernelspec": {
   "display_name": "Python 3",
   "language": "python",
   "name": "python3"
  },
  "language_info": {
   "codemirror_mode": {
    "name": "ipython",
    "version": 3
   },
   "file_extension": ".py",
   "mimetype": "text/x-python",
   "name": "python",
   "nbconvert_exporter": "python",
   "pygments_lexer": "ipython3",
   "version": "3.9.13"
  }
 },
 "nbformat": 4,
 "nbformat_minor": 5
}
